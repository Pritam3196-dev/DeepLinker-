{
 "cells": [
  {
   "cell_type": "markdown",
   "id": "9a58ca24",
   "metadata": {},
   "source": [
    "### Deep Neural Network Fundamental With Weight Initialization"
   ]
  },
  {
   "cell_type": "markdown",
   "id": "a4f12e84",
   "metadata": {},
   "source": [
    "#### Import Basic Libraries"
   ]
  },
  {
   "cell_type": "code",
   "execution_count": 1,
   "id": "917380b0",
   "metadata": {},
   "outputs": [],
   "source": [
    "import numpy as np\n",
    "import pandas as pd\n",
    "import matplotlib.pyplot as plt\n",
    "import tensorflow as tf               # backend\n",
    "from tensorflow import keras          # frontend\n",
    "from keras import Sequential          # architecture\n",
    "from keras.layers import Dense        # fully connected\n",
    "from sklearn.model_selection import train_test_split\n",
    "from sklearn.preprocessing import StandardScaler\n",
    "import warnings\n",
    "warnings.filterwarnings('ignore')"
   ]
  },
  {
   "cell_type": "markdown",
   "id": "4987fb04",
   "metadata": {},
   "source": [
    "#### Import Dataset"
   ]
  },
  {
   "cell_type": "code",
   "execution_count": 2,
   "id": "2dada262",
   "metadata": {},
   "outputs": [],
   "source": [
    "df = pd.read_csv('C:\\\\Users\\\\Lenovo\\\\Downloads\\\\Social_Network_Ads.csv')"
   ]
  },
  {
   "cell_type": "code",
   "execution_count": 3,
   "id": "0d315586",
   "metadata": {},
   "outputs": [
    {
     "data": {
      "text/html": [
       "<div>\n",
       "<style scoped>\n",
       "    .dataframe tbody tr th:only-of-type {\n",
       "        vertical-align: middle;\n",
       "    }\n",
       "\n",
       "    .dataframe tbody tr th {\n",
       "        vertical-align: top;\n",
       "    }\n",
       "\n",
       "    .dataframe thead th {\n",
       "        text-align: right;\n",
       "    }\n",
       "</style>\n",
       "<table border=\"1\" class=\"dataframe\">\n",
       "  <thead>\n",
       "    <tr style=\"text-align: right;\">\n",
       "      <th></th>\n",
       "      <th>User ID</th>\n",
       "      <th>Gender</th>\n",
       "      <th>Age</th>\n",
       "      <th>EstimatedSalary</th>\n",
       "      <th>Purchased</th>\n",
       "    </tr>\n",
       "  </thead>\n",
       "  <tbody>\n",
       "    <tr>\n",
       "      <th>0</th>\n",
       "      <td>15624510</td>\n",
       "      <td>Male</td>\n",
       "      <td>19.0</td>\n",
       "      <td>19000.0</td>\n",
       "      <td>0</td>\n",
       "    </tr>\n",
       "    <tr>\n",
       "      <th>1</th>\n",
       "      <td>15810944</td>\n",
       "      <td>Male</td>\n",
       "      <td>35.0</td>\n",
       "      <td>20000.0</td>\n",
       "      <td>0</td>\n",
       "    </tr>\n",
       "  </tbody>\n",
       "</table>\n",
       "</div>"
      ],
      "text/plain": [
       "    User ID Gender   Age  EstimatedSalary  Purchased\n",
       "0  15624510   Male  19.0          19000.0          0\n",
       "1  15810944   Male  35.0          20000.0          0"
      ]
     },
     "execution_count": 3,
     "metadata": {},
     "output_type": "execute_result"
    }
   ],
   "source": [
    "df.head(2)"
   ]
  },
  {
   "cell_type": "markdown",
   "id": "789e7cd2",
   "metadata": {},
   "source": [
    "#### Shape"
   ]
  },
  {
   "cell_type": "code",
   "execution_count": 4,
   "id": "99b79aca",
   "metadata": {},
   "outputs": [
    {
     "data": {
      "text/plain": [
       "(400, 5)"
      ]
     },
     "execution_count": 4,
     "metadata": {},
     "output_type": "execute_result"
    }
   ],
   "source": [
    "df.shape"
   ]
  },
  {
   "cell_type": "markdown",
   "id": "ec3ada52",
   "metadata": {},
   "source": [
    "#### We just considering only Gender , Age , EstimatedSalary , Purchased features."
   ]
  },
  {
   "cell_type": "code",
   "execution_count": 5,
   "id": "d9442e82",
   "metadata": {},
   "outputs": [],
   "source": [
    "df = df.iloc[: , 1:]"
   ]
  },
  {
   "cell_type": "code",
   "execution_count": 6,
   "id": "b326f97d",
   "metadata": {},
   "outputs": [
    {
     "data": {
      "text/html": [
       "<div>\n",
       "<style scoped>\n",
       "    .dataframe tbody tr th:only-of-type {\n",
       "        vertical-align: middle;\n",
       "    }\n",
       "\n",
       "    .dataframe tbody tr th {\n",
       "        vertical-align: top;\n",
       "    }\n",
       "\n",
       "    .dataframe thead th {\n",
       "        text-align: right;\n",
       "    }\n",
       "</style>\n",
       "<table border=\"1\" class=\"dataframe\">\n",
       "  <thead>\n",
       "    <tr style=\"text-align: right;\">\n",
       "      <th></th>\n",
       "      <th>Gender</th>\n",
       "      <th>Age</th>\n",
       "      <th>EstimatedSalary</th>\n",
       "      <th>Purchased</th>\n",
       "    </tr>\n",
       "  </thead>\n",
       "  <tbody>\n",
       "    <tr>\n",
       "      <th>0</th>\n",
       "      <td>Male</td>\n",
       "      <td>19.0</td>\n",
       "      <td>19000.0</td>\n",
       "      <td>0</td>\n",
       "    </tr>\n",
       "    <tr>\n",
       "      <th>1</th>\n",
       "      <td>Male</td>\n",
       "      <td>35.0</td>\n",
       "      <td>20000.0</td>\n",
       "      <td>0</td>\n",
       "    </tr>\n",
       "    <tr>\n",
       "      <th>2</th>\n",
       "      <td>Female</td>\n",
       "      <td>26.0</td>\n",
       "      <td>43000.0</td>\n",
       "      <td>0</td>\n",
       "    </tr>\n",
       "    <tr>\n",
       "      <th>3</th>\n",
       "      <td>Female</td>\n",
       "      <td>27.0</td>\n",
       "      <td>57000.0</td>\n",
       "      <td>0</td>\n",
       "    </tr>\n",
       "    <tr>\n",
       "      <th>4</th>\n",
       "      <td>Male</td>\n",
       "      <td>19.0</td>\n",
       "      <td>76000.0</td>\n",
       "      <td>0</td>\n",
       "    </tr>\n",
       "  </tbody>\n",
       "</table>\n",
       "</div>"
      ],
      "text/plain": [
       "   Gender   Age  EstimatedSalary  Purchased\n",
       "0    Male  19.0          19000.0          0\n",
       "1    Male  35.0          20000.0          0\n",
       "2  Female  26.0          43000.0          0\n",
       "3  Female  27.0          57000.0          0\n",
       "4    Male  19.0          76000.0          0"
      ]
     },
     "execution_count": 6,
     "metadata": {},
     "output_type": "execute_result"
    }
   ],
   "source": [
    "df.head()"
   ]
  },
  {
   "cell_type": "code",
   "execution_count": 7,
   "id": "a61bb862",
   "metadata": {},
   "outputs": [],
   "source": [
    "df['Gender'] = df['Gender'].astype('category')"
   ]
  },
  {
   "cell_type": "code",
   "execution_count": 8,
   "id": "4722746f",
   "metadata": {},
   "outputs": [],
   "source": [
    "df['Gender'] = df['Gender'].cat.codes"
   ]
  },
  {
   "cell_type": "code",
   "execution_count": 9,
   "id": "3070fba7",
   "metadata": {},
   "outputs": [
    {
     "data": {
      "text/html": [
       "<div>\n",
       "<style scoped>\n",
       "    .dataframe tbody tr th:only-of-type {\n",
       "        vertical-align: middle;\n",
       "    }\n",
       "\n",
       "    .dataframe tbody tr th {\n",
       "        vertical-align: top;\n",
       "    }\n",
       "\n",
       "    .dataframe thead th {\n",
       "        text-align: right;\n",
       "    }\n",
       "</style>\n",
       "<table border=\"1\" class=\"dataframe\">\n",
       "  <thead>\n",
       "    <tr style=\"text-align: right;\">\n",
       "      <th></th>\n",
       "      <th>Gender</th>\n",
       "      <th>Age</th>\n",
       "      <th>EstimatedSalary</th>\n",
       "      <th>Purchased</th>\n",
       "    </tr>\n",
       "  </thead>\n",
       "  <tbody>\n",
       "    <tr>\n",
       "      <th>0</th>\n",
       "      <td>1</td>\n",
       "      <td>19.0</td>\n",
       "      <td>19000.0</td>\n",
       "      <td>0</td>\n",
       "    </tr>\n",
       "    <tr>\n",
       "      <th>1</th>\n",
       "      <td>1</td>\n",
       "      <td>35.0</td>\n",
       "      <td>20000.0</td>\n",
       "      <td>0</td>\n",
       "    </tr>\n",
       "    <tr>\n",
       "      <th>2</th>\n",
       "      <td>0</td>\n",
       "      <td>26.0</td>\n",
       "      <td>43000.0</td>\n",
       "      <td>0</td>\n",
       "    </tr>\n",
       "    <tr>\n",
       "      <th>3</th>\n",
       "      <td>0</td>\n",
       "      <td>27.0</td>\n",
       "      <td>57000.0</td>\n",
       "      <td>0</td>\n",
       "    </tr>\n",
       "    <tr>\n",
       "      <th>4</th>\n",
       "      <td>1</td>\n",
       "      <td>19.0</td>\n",
       "      <td>76000.0</td>\n",
       "      <td>0</td>\n",
       "    </tr>\n",
       "    <tr>\n",
       "      <th>...</th>\n",
       "      <td>...</td>\n",
       "      <td>...</td>\n",
       "      <td>...</td>\n",
       "      <td>...</td>\n",
       "    </tr>\n",
       "    <tr>\n",
       "      <th>395</th>\n",
       "      <td>0</td>\n",
       "      <td>46.0</td>\n",
       "      <td>41000.0</td>\n",
       "      <td>1</td>\n",
       "    </tr>\n",
       "    <tr>\n",
       "      <th>396</th>\n",
       "      <td>1</td>\n",
       "      <td>51.0</td>\n",
       "      <td>23000.0</td>\n",
       "      <td>1</td>\n",
       "    </tr>\n",
       "    <tr>\n",
       "      <th>397</th>\n",
       "      <td>0</td>\n",
       "      <td>50.0</td>\n",
       "      <td>20000.0</td>\n",
       "      <td>1</td>\n",
       "    </tr>\n",
       "    <tr>\n",
       "      <th>398</th>\n",
       "      <td>1</td>\n",
       "      <td>36.0</td>\n",
       "      <td>33000.0</td>\n",
       "      <td>0</td>\n",
       "    </tr>\n",
       "    <tr>\n",
       "      <th>399</th>\n",
       "      <td>0</td>\n",
       "      <td>49.0</td>\n",
       "      <td>36000.0</td>\n",
       "      <td>1</td>\n",
       "    </tr>\n",
       "  </tbody>\n",
       "</table>\n",
       "<p>400 rows × 4 columns</p>\n",
       "</div>"
      ],
      "text/plain": [
       "     Gender   Age  EstimatedSalary  Purchased\n",
       "0         1  19.0          19000.0          0\n",
       "1         1  35.0          20000.0          0\n",
       "2         0  26.0          43000.0          0\n",
       "3         0  27.0          57000.0          0\n",
       "4         1  19.0          76000.0          0\n",
       "..      ...   ...              ...        ...\n",
       "395       0  46.0          41000.0          1\n",
       "396       1  51.0          23000.0          1\n",
       "397       0  50.0          20000.0          1\n",
       "398       1  36.0          33000.0          0\n",
       "399       0  49.0          36000.0          1\n",
       "\n",
       "[400 rows x 4 columns]"
      ]
     },
     "execution_count": 9,
     "metadata": {},
     "output_type": "execute_result"
    }
   ],
   "source": [
    "df"
   ]
  },
  {
   "cell_type": "markdown",
   "id": "461fefc7",
   "metadata": {},
   "source": [
    "#### Check Missing Data"
   ]
  },
  {
   "cell_type": "code",
   "execution_count": 10,
   "id": "ae2c15c3",
   "metadata": {},
   "outputs": [
    {
     "data": {
      "text/plain": [
       "Gender             0\n",
       "Age                0\n",
       "EstimatedSalary    0\n",
       "Purchased          0\n",
       "dtype: int64"
      ]
     },
     "execution_count": 10,
     "metadata": {},
     "output_type": "execute_result"
    }
   ],
   "source": [
    "df.isnull().sum()"
   ]
  },
  {
   "cell_type": "markdown",
   "id": "6a570681",
   "metadata": {},
   "source": [
    "##### Insights : There is no any missing value"
   ]
  },
  {
   "cell_type": "markdown",
   "id": "d3899939",
   "metadata": {},
   "source": [
    "#### Data split into independent and dependent variable"
   ]
  },
  {
   "cell_type": "code",
   "execution_count": 11,
   "id": "33c2d2ea",
   "metadata": {},
   "outputs": [],
   "source": [
    "x = df.iloc[: , :-1]"
   ]
  },
  {
   "cell_type": "code",
   "execution_count": 12,
   "id": "56c4b2b0",
   "metadata": {},
   "outputs": [],
   "source": [
    "y = df.iloc[: , -1]"
   ]
  },
  {
   "cell_type": "code",
   "execution_count": 13,
   "id": "42d74e98",
   "metadata": {},
   "outputs": [
    {
     "data": {
      "text/html": [
       "<div>\n",
       "<style scoped>\n",
       "    .dataframe tbody tr th:only-of-type {\n",
       "        vertical-align: middle;\n",
       "    }\n",
       "\n",
       "    .dataframe tbody tr th {\n",
       "        vertical-align: top;\n",
       "    }\n",
       "\n",
       "    .dataframe thead th {\n",
       "        text-align: right;\n",
       "    }\n",
       "</style>\n",
       "<table border=\"1\" class=\"dataframe\">\n",
       "  <thead>\n",
       "    <tr style=\"text-align: right;\">\n",
       "      <th></th>\n",
       "      <th>Gender</th>\n",
       "      <th>Age</th>\n",
       "      <th>EstimatedSalary</th>\n",
       "    </tr>\n",
       "  </thead>\n",
       "  <tbody>\n",
       "    <tr>\n",
       "      <th>0</th>\n",
       "      <td>1</td>\n",
       "      <td>19.0</td>\n",
       "      <td>19000.0</td>\n",
       "    </tr>\n",
       "    <tr>\n",
       "      <th>1</th>\n",
       "      <td>1</td>\n",
       "      <td>35.0</td>\n",
       "      <td>20000.0</td>\n",
       "    </tr>\n",
       "  </tbody>\n",
       "</table>\n",
       "</div>"
      ],
      "text/plain": [
       "   Gender   Age  EstimatedSalary\n",
       "0       1  19.0          19000.0\n",
       "1       1  35.0          20000.0"
      ]
     },
     "execution_count": 13,
     "metadata": {},
     "output_type": "execute_result"
    }
   ],
   "source": [
    "x.head(2)"
   ]
  },
  {
   "cell_type": "code",
   "execution_count": 14,
   "id": "9f68caaf",
   "metadata": {},
   "outputs": [
    {
     "data": {
      "text/plain": [
       "0    0\n",
       "1    0\n",
       "Name: Purchased, dtype: int64"
      ]
     },
     "execution_count": 14,
     "metadata": {},
     "output_type": "execute_result"
    }
   ],
   "source": [
    "y.head(2)"
   ]
  },
  {
   "cell_type": "markdown",
   "id": "ec61f437",
   "metadata": {},
   "source": [
    "#### Split the data into train and test"
   ]
  },
  {
   "cell_type": "code",
   "execution_count": 15,
   "id": "e77e0bff",
   "metadata": {},
   "outputs": [],
   "source": [
    "x_train , x_test , y_train , y_test = train_test_split(x , y , test_size = 0.2 , random_state = 1 , stratify = y)"
   ]
  },
  {
   "cell_type": "code",
   "execution_count": 16,
   "id": "0a2c3958",
   "metadata": {},
   "outputs": [
    {
     "name": "stdout",
     "output_type": "stream",
     "text": [
      "(320, 3) (80, 3) (320,) (80,)\n"
     ]
    }
   ],
   "source": [
    "print(x_train.shape , x_test.shape , y_train.shape , y_test.shape)"
   ]
  },
  {
   "cell_type": "markdown",
   "id": "fff85d29",
   "metadata": {},
   "source": [
    "## MultiLayer Perceptron (DNN / ANN) without Feature Scaling"
   ]
  },
  {
   "cell_type": "markdown",
   "id": "797c9ed1",
   "metadata": {},
   "source": [
    "#### If your ask is more than one means output is more than one  then use functional and sequential is for ask is for one  "
   ]
  },
  {
   "cell_type": "markdown",
   "id": "ad4d3d22",
   "metadata": {},
   "source": [
    "#### Use Sequential architecture"
   ]
  },
  {
   "cell_type": "code",
   "execution_count": 17,
   "id": "e74f2ab4",
   "metadata": {},
   "outputs": [],
   "source": [
    "dnn = Sequential()"
   ]
  },
  {
   "cell_type": "markdown",
   "id": "de7784f2",
   "metadata": {},
   "source": [
    "#### Hidden Layer 1"
   ]
  },
  {
   "cell_type": "markdown",
   "id": "864571bf",
   "metadata": {},
   "source": [
    "#### Activation function is use in two cases only \n",
    "#### 1.Hidden Layer\n",
    "#### 2.Output Layer"
   ]
  },
  {
   "cell_type": "markdown",
   "id": "0c4620e1",
   "metadata": {},
   "source": [
    "#### When in hidden layer we always use relu as activation function"
   ]
  },
  {
   "cell_type": "code",
   "execution_count": 18,
   "id": "bc546084",
   "metadata": {},
   "outputs": [],
   "source": [
    "dnn.add(Dense(128 , activation = 'relu'  , input_dim = 3 ))"
   ]
  },
  {
   "cell_type": "markdown",
   "id": "d3520c87",
   "metadata": {},
   "source": [
    "#### weight = 128 * 3 \n",
    "#### Bias = 128"
   ]
  },
  {
   "cell_type": "markdown",
   "id": "6d9cf9fe",
   "metadata": {},
   "source": [
    "#### (128 * 3) + 128 = 512"
   ]
  },
  {
   "cell_type": "markdown",
   "id": "0d19d81b",
   "metadata": {},
   "source": [
    "#### Hidden Layer 2"
   ]
  },
  {
   "cell_type": "code",
   "execution_count": 19,
   "id": "af099ffa",
   "metadata": {},
   "outputs": [],
   "source": [
    "dnn.add(Dense(128 , activation = 'relu'))"
   ]
  },
  {
   "cell_type": "markdown",
   "id": "4a6043ae",
   "metadata": {},
   "source": [
    "#### Weight = 128 * 128\n",
    "#### Bias = 128"
   ]
  },
  {
   "cell_type": "markdown",
   "id": "0fa0e71c",
   "metadata": {},
   "source": [
    "#### (128 * 128) + 128 = 16 , 512"
   ]
  },
  {
   "cell_type": "markdown",
   "id": "c335a948",
   "metadata": {},
   "source": [
    "#### Output Layer"
   ]
  },
  {
   "cell_type": "markdown",
   "id": "04183a93",
   "metadata": {},
   "source": [
    "#### Output Layer always use activation function is sigmoid because output is 1 only."
   ]
  },
  {
   "cell_type": "code",
   "execution_count": 20,
   "id": "bc021c91",
   "metadata": {},
   "outputs": [],
   "source": [
    "dnn.add(Dense(1 , activation = 'sigmoid'))"
   ]
  },
  {
   "cell_type": "markdown",
   "id": "27a7ae18",
   "metadata": {},
   "source": [
    "#### Weight = 128 *1 \n",
    "#### Bias = 1"
   ]
  },
  {
   "cell_type": "markdown",
   "id": "3a1a9ae6",
   "metadata": {},
   "source": [
    "#### (128 * 1)  + 1 = 129"
   ]
  },
  {
   "cell_type": "markdown",
   "id": "f4ed8f5f",
   "metadata": {},
   "source": [
    "#### Total Parameters = 512 + 16 , 512 + 129  = 17153"
   ]
  },
  {
   "cell_type": "code",
   "execution_count": 21,
   "id": "2186fc31",
   "metadata": {},
   "outputs": [
    {
     "data": {
      "text/html": [
       "<pre style=\"white-space:pre;overflow-x:auto;line-height:normal;font-family:Menlo,'DejaVu Sans Mono',consolas,'Courier New',monospace\"><span style=\"font-weight: bold\">Model: \"sequential\"</span>\n",
       "</pre>\n"
      ],
      "text/plain": [
       "\u001b[1mModel: \"sequential\"\u001b[0m\n"
      ]
     },
     "metadata": {},
     "output_type": "display_data"
    },
    {
     "data": {
      "text/html": [
       "<pre style=\"white-space:pre;overflow-x:auto;line-height:normal;font-family:Menlo,'DejaVu Sans Mono',consolas,'Courier New',monospace\">┏━━━━━━━━━━━━━━━━━━━━━━━━━━━━━━━━━━━━━━┳━━━━━━━━━━━━━━━━━━━━━━━━━━━━━┳━━━━━━━━━━━━━━━━━┓\n",
       "┃<span style=\"font-weight: bold\"> Layer (type)                         </span>┃<span style=\"font-weight: bold\"> Output Shape                </span>┃<span style=\"font-weight: bold\">         Param # </span>┃\n",
       "┡━━━━━━━━━━━━━━━━━━━━━━━━━━━━━━━━━━━━━━╇━━━━━━━━━━━━━━━━━━━━━━━━━━━━━╇━━━━━━━━━━━━━━━━━┩\n",
       "│ dense (<span style=\"color: #0087ff; text-decoration-color: #0087ff\">Dense</span>)                        │ (<span style=\"color: #00d7ff; text-decoration-color: #00d7ff\">None</span>, <span style=\"color: #00af00; text-decoration-color: #00af00\">128</span>)                 │             <span style=\"color: #00af00; text-decoration-color: #00af00\">512</span> │\n",
       "├──────────────────────────────────────┼─────────────────────────────┼─────────────────┤\n",
       "│ dense_1 (<span style=\"color: #0087ff; text-decoration-color: #0087ff\">Dense</span>)                      │ (<span style=\"color: #00d7ff; text-decoration-color: #00d7ff\">None</span>, <span style=\"color: #00af00; text-decoration-color: #00af00\">128</span>)                 │          <span style=\"color: #00af00; text-decoration-color: #00af00\">16,512</span> │\n",
       "├──────────────────────────────────────┼─────────────────────────────┼─────────────────┤\n",
       "│ dense_2 (<span style=\"color: #0087ff; text-decoration-color: #0087ff\">Dense</span>)                      │ (<span style=\"color: #00d7ff; text-decoration-color: #00d7ff\">None</span>, <span style=\"color: #00af00; text-decoration-color: #00af00\">1</span>)                   │             <span style=\"color: #00af00; text-decoration-color: #00af00\">129</span> │\n",
       "└──────────────────────────────────────┴─────────────────────────────┴─────────────────┘\n",
       "</pre>\n"
      ],
      "text/plain": [
       "┏━━━━━━━━━━━━━━━━━━━━━━━━━━━━━━━━━━━━━━┳━━━━━━━━━━━━━━━━━━━━━━━━━━━━━┳━━━━━━━━━━━━━━━━━┓\n",
       "┃\u001b[1m \u001b[0m\u001b[1mLayer (type)                        \u001b[0m\u001b[1m \u001b[0m┃\u001b[1m \u001b[0m\u001b[1mOutput Shape               \u001b[0m\u001b[1m \u001b[0m┃\u001b[1m \u001b[0m\u001b[1m        Param #\u001b[0m\u001b[1m \u001b[0m┃\n",
       "┡━━━━━━━━━━━━━━━━━━━━━━━━━━━━━━━━━━━━━━╇━━━━━━━━━━━━━━━━━━━━━━━━━━━━━╇━━━━━━━━━━━━━━━━━┩\n",
       "│ dense (\u001b[38;5;33mDense\u001b[0m)                        │ (\u001b[38;5;45mNone\u001b[0m, \u001b[38;5;34m128\u001b[0m)                 │             \u001b[38;5;34m512\u001b[0m │\n",
       "├──────────────────────────────────────┼─────────────────────────────┼─────────────────┤\n",
       "│ dense_1 (\u001b[38;5;33mDense\u001b[0m)                      │ (\u001b[38;5;45mNone\u001b[0m, \u001b[38;5;34m128\u001b[0m)                 │          \u001b[38;5;34m16,512\u001b[0m │\n",
       "├──────────────────────────────────────┼─────────────────────────────┼─────────────────┤\n",
       "│ dense_2 (\u001b[38;5;33mDense\u001b[0m)                      │ (\u001b[38;5;45mNone\u001b[0m, \u001b[38;5;34m1\u001b[0m)                   │             \u001b[38;5;34m129\u001b[0m │\n",
       "└──────────────────────────────────────┴─────────────────────────────┴─────────────────┘\n"
      ]
     },
     "metadata": {},
     "output_type": "display_data"
    },
    {
     "data": {
      "text/html": [
       "<pre style=\"white-space:pre;overflow-x:auto;line-height:normal;font-family:Menlo,'DejaVu Sans Mono',consolas,'Courier New',monospace\"><span style=\"font-weight: bold\"> Total params: </span><span style=\"color: #00af00; text-decoration-color: #00af00\">17,153</span> (67.00 KB)\n",
       "</pre>\n"
      ],
      "text/plain": [
       "\u001b[1m Total params: \u001b[0m\u001b[38;5;34m17,153\u001b[0m (67.00 KB)\n"
      ]
     },
     "metadata": {},
     "output_type": "display_data"
    },
    {
     "data": {
      "text/html": [
       "<pre style=\"white-space:pre;overflow-x:auto;line-height:normal;font-family:Menlo,'DejaVu Sans Mono',consolas,'Courier New',monospace\"><span style=\"font-weight: bold\"> Trainable params: </span><span style=\"color: #00af00; text-decoration-color: #00af00\">17,153</span> (67.00 KB)\n",
       "</pre>\n"
      ],
      "text/plain": [
       "\u001b[1m Trainable params: \u001b[0m\u001b[38;5;34m17,153\u001b[0m (67.00 KB)\n"
      ]
     },
     "metadata": {},
     "output_type": "display_data"
    },
    {
     "data": {
      "text/html": [
       "<pre style=\"white-space:pre;overflow-x:auto;line-height:normal;font-family:Menlo,'DejaVu Sans Mono',consolas,'Courier New',monospace\"><span style=\"font-weight: bold\"> Non-trainable params: </span><span style=\"color: #00af00; text-decoration-color: #00af00\">0</span> (0.00 B)\n",
       "</pre>\n"
      ],
      "text/plain": [
       "\u001b[1m Non-trainable params: \u001b[0m\u001b[38;5;34m0\u001b[0m (0.00 B)\n"
      ]
     },
     "metadata": {},
     "output_type": "display_data"
    }
   ],
   "source": [
    "dnn.summary()"
   ]
  },
  {
   "cell_type": "markdown",
   "id": "b220b23d",
   "metadata": {},
   "source": [
    "#### Compile the DNN model"
   ]
  },
  {
   "cell_type": "markdown",
   "id": "c0d5bcbe",
   "metadata": {},
   "source": [
    "#### By default use adam as optimizer"
   ]
  },
  {
   "cell_type": "markdown",
   "id": "c71af2f2",
   "metadata": {},
   "source": [
    "#### optimization means performance get increase very fast"
   ]
  },
  {
   "cell_type": "code",
   "execution_count": 22,
   "id": "aa5e9de5",
   "metadata": {},
   "outputs": [],
   "source": [
    "dnn.compile(optimizer = 'adam' , loss = 'binary_crossentropy' , metrics = ['accuracy'])"
   ]
  },
  {
   "cell_type": "markdown",
   "id": "410ea482",
   "metadata": {},
   "source": [
    "#### Binary Crossentropy is the synonym of log loss func. (it is loss func in classification )"
   ]
  },
  {
   "cell_type": "markdown",
   "id": "db0ba901",
   "metadata": {},
   "source": [
    "#### Fit the DNN model without scaled data"
   ]
  },
  {
   "cell_type": "markdown",
   "id": "135f8fd0",
   "metadata": {},
   "source": [
    "#### Epochs means iteration\n",
    "#### 1 epoch = 1 backprop + 1 forwordprop"
   ]
  },
  {
   "cell_type": "code",
   "execution_count": 23,
   "id": "2282cc31",
   "metadata": {
    "scrolled": false
   },
   "outputs": [
    {
     "name": "stdout",
     "output_type": "stream",
     "text": [
      "Epoch 1/100\n",
      "\u001b[1m10/10\u001b[0m \u001b[32m━━━━━━━━━━━━━━━━━━━━\u001b[0m\u001b[37m\u001b[0m \u001b[1m4s\u001b[0m 167ms/step - accuracy: 0.5411 - loss: 968.9222 - val_accuracy: 0.6375 - val_loss: 1003.0342\n",
      "Epoch 2/100\n",
      "\u001b[1m10/10\u001b[0m \u001b[32m━━━━━━━━━━━━━━━━━━━━\u001b[0m\u001b[37m\u001b[0m \u001b[1m0s\u001b[0m 9ms/step - accuracy: 0.5597 - loss: 746.4879 - val_accuracy: 0.6375 - val_loss: 1194.6245\n",
      "Epoch 3/100\n",
      "\u001b[1m10/10\u001b[0m \u001b[32m━━━━━━━━━━━━━━━━━━━━\u001b[0m\u001b[37m\u001b[0m \u001b[1m0s\u001b[0m 10ms/step - accuracy: 0.5977 - loss: 1083.6503 - val_accuracy: 0.3625 - val_loss: 1650.3981\n",
      "Epoch 4/100\n",
      "\u001b[1m10/10\u001b[0m \u001b[32m━━━━━━━━━━━━━━━━━━━━\u001b[0m\u001b[37m\u001b[0m \u001b[1m0s\u001b[0m 9ms/step - accuracy: 0.4244 - loss: 895.9165 - val_accuracy: 0.3625 - val_loss: 419.8177\n",
      "Epoch 5/100\n",
      "\u001b[1m10/10\u001b[0m \u001b[32m━━━━━━━━━━━━━━━━━━━━\u001b[0m\u001b[37m\u001b[0m \u001b[1m0s\u001b[0m 9ms/step - accuracy: 0.4421 - loss: 333.4675 - val_accuracy: 0.3625 - val_loss: 251.5961\n",
      "Epoch 6/100\n",
      "\u001b[1m10/10\u001b[0m \u001b[32m━━━━━━━━━━━━━━━━━━━━\u001b[0m\u001b[37m\u001b[0m \u001b[1m0s\u001b[0m 8ms/step - accuracy: 0.4869 - loss: 172.2566 - val_accuracy: 0.3625 - val_loss: 74.1502\n",
      "Epoch 7/100\n",
      "\u001b[1m10/10\u001b[0m \u001b[32m━━━━━━━━━━━━━━━━━━━━\u001b[0m\u001b[37m\u001b[0m \u001b[1m0s\u001b[0m 8ms/step - accuracy: 0.4976 - loss: 83.0702 - val_accuracy: 0.6375 - val_loss: 176.9867\n",
      "Epoch 8/100\n",
      "\u001b[1m10/10\u001b[0m \u001b[32m━━━━━━━━━━━━━━━━━━━━\u001b[0m\u001b[37m\u001b[0m \u001b[1m0s\u001b[0m 9ms/step - accuracy: 0.5136 - loss: 138.8842 - val_accuracy: 0.6375 - val_loss: 47.8208\n",
      "Epoch 9/100\n",
      "\u001b[1m10/10\u001b[0m \u001b[32m━━━━━━━━━━━━━━━━━━━━\u001b[0m\u001b[37m\u001b[0m \u001b[1m0s\u001b[0m 8ms/step - accuracy: 0.5092 - loss: 88.1847 - val_accuracy: 0.6375 - val_loss: 18.4736\n",
      "Epoch 10/100\n",
      "\u001b[1m10/10\u001b[0m \u001b[32m━━━━━━━━━━━━━━━━━━━━\u001b[0m\u001b[37m\u001b[0m \u001b[1m0s\u001b[0m 10ms/step - accuracy: 0.5077 - loss: 123.5498 - val_accuracy: 0.6375 - val_loss: 70.0253\n",
      "Epoch 11/100\n",
      "\u001b[1m10/10\u001b[0m \u001b[32m━━━━━━━━━━━━━━━━━━━━\u001b[0m\u001b[37m\u001b[0m \u001b[1m0s\u001b[0m 9ms/step - accuracy: 0.5263 - loss: 182.8807 - val_accuracy: 0.3625 - val_loss: 813.3091\n",
      "Epoch 12/100\n",
      "\u001b[1m10/10\u001b[0m \u001b[32m━━━━━━━━━━━━━━━━━━━━\u001b[0m\u001b[37m\u001b[0m \u001b[1m0s\u001b[0m 9ms/step - accuracy: 0.4531 - loss: 531.4508 - val_accuracy: 0.3625 - val_loss: 137.7211\n",
      "Epoch 13/100\n",
      "\u001b[1m10/10\u001b[0m \u001b[32m━━━━━━━━━━━━━━━━━━━━\u001b[0m\u001b[37m\u001b[0m \u001b[1m0s\u001b[0m 8ms/step - accuracy: 0.4435 - loss: 254.4021 - val_accuracy: 0.6375 - val_loss: 65.9050\n",
      "Epoch 14/100\n",
      "\u001b[1m10/10\u001b[0m \u001b[32m━━━━━━━━━━━━━━━━━━━━\u001b[0m\u001b[37m\u001b[0m \u001b[1m0s\u001b[0m 9ms/step - accuracy: 0.6152 - loss: 86.6583 - val_accuracy: 0.3625 - val_loss: 351.5465\n",
      "Epoch 15/100\n",
      "\u001b[1m10/10\u001b[0m \u001b[32m━━━━━━━━━━━━━━━━━━━━\u001b[0m\u001b[37m\u001b[0m \u001b[1m0s\u001b[0m 9ms/step - accuracy: 0.4942 - loss: 197.5517 - val_accuracy: 0.6375 - val_loss: 19.4353\n",
      "Epoch 16/100\n",
      "\u001b[1m10/10\u001b[0m \u001b[32m━━━━━━━━━━━━━━━━━━━━\u001b[0m\u001b[37m\u001b[0m \u001b[1m0s\u001b[0m 9ms/step - accuracy: 0.5066 - loss: 182.3762 - val_accuracy: 0.3625 - val_loss: 322.5953\n",
      "Epoch 17/100\n",
      "\u001b[1m10/10\u001b[0m \u001b[32m━━━━━━━━━━━━━━━━━━━━\u001b[0m\u001b[37m\u001b[0m \u001b[1m0s\u001b[0m 8ms/step - accuracy: 0.4936 - loss: 159.8206 - val_accuracy: 0.3625 - val_loss: 1.6055\n",
      "Epoch 18/100\n",
      "\u001b[1m10/10\u001b[0m \u001b[32m━━━━━━━━━━━━━━━━━━━━\u001b[0m\u001b[37m\u001b[0m \u001b[1m0s\u001b[0m 9ms/step - accuracy: 0.4949 - loss: 73.4665 - val_accuracy: 0.6375 - val_loss: 275.4258\n",
      "Epoch 19/100\n",
      "\u001b[1m10/10\u001b[0m \u001b[32m━━━━━━━━━━━━━━━━━━━━\u001b[0m\u001b[37m\u001b[0m \u001b[1m0s\u001b[0m 9ms/step - accuracy: 0.6270 - loss: 105.9179 - val_accuracy: 0.3625 - val_loss: 140.7989\n",
      "Epoch 20/100\n",
      "\u001b[1m10/10\u001b[0m \u001b[32m━━━━━━━━━━━━━━━━━━━━\u001b[0m\u001b[37m\u001b[0m \u001b[1m0s\u001b[0m 8ms/step - accuracy: 0.4137 - loss: 161.7555 - val_accuracy: 0.6375 - val_loss: 705.5237\n",
      "Epoch 21/100\n",
      "\u001b[1m10/10\u001b[0m \u001b[32m━━━━━━━━━━━━━━━━━━━━\u001b[0m\u001b[37m\u001b[0m \u001b[1m0s\u001b[0m 9ms/step - accuracy: 0.5336 - loss: 628.2940 - val_accuracy: 0.6375 - val_loss: 515.0117\n",
      "Epoch 22/100\n",
      "\u001b[1m10/10\u001b[0m \u001b[32m━━━━━━━━━━━━━━━━━━━━\u001b[0m\u001b[37m\u001b[0m \u001b[1m0s\u001b[0m 9ms/step - accuracy: 0.5680 - loss: 371.5320 - val_accuracy: 0.6375 - val_loss: 142.0989\n",
      "Epoch 23/100\n",
      "\u001b[1m10/10\u001b[0m \u001b[32m━━━━━━━━━━━━━━━━━━━━\u001b[0m\u001b[37m\u001b[0m \u001b[1m0s\u001b[0m 8ms/step - accuracy: 0.4757 - loss: 193.2605 - val_accuracy: 0.6375 - val_loss: 30.4536\n",
      "Epoch 24/100\n",
      "\u001b[1m10/10\u001b[0m \u001b[32m━━━━━━━━━━━━━━━━━━━━\u001b[0m\u001b[37m\u001b[0m \u001b[1m0s\u001b[0m 8ms/step - accuracy: 0.5321 - loss: 69.8063 - val_accuracy: 0.3625 - val_loss: 46.0677\n",
      "Epoch 25/100\n",
      "\u001b[1m10/10\u001b[0m \u001b[32m━━━━━━━━━━━━━━━━━━━━\u001b[0m\u001b[37m\u001b[0m \u001b[1m0s\u001b[0m 9ms/step - accuracy: 0.5170 - loss: 344.1897 - val_accuracy: 0.3625 - val_loss: 665.7558\n",
      "Epoch 26/100\n",
      "\u001b[1m10/10\u001b[0m \u001b[32m━━━━━━━━━━━━━━━━━━━━\u001b[0m\u001b[37m\u001b[0m \u001b[1m0s\u001b[0m 8ms/step - accuracy: 0.4986 - loss: 360.7764 - val_accuracy: 0.3625 - val_loss: 82.2855\n",
      "Epoch 27/100\n",
      "\u001b[1m10/10\u001b[0m \u001b[32m━━━━━━━━━━━━━━━━━━━━\u001b[0m\u001b[37m\u001b[0m \u001b[1m0s\u001b[0m 9ms/step - accuracy: 0.5278 - loss: 352.0028 - val_accuracy: 0.3625 - val_loss: 448.3789\n",
      "Epoch 28/100\n",
      "\u001b[1m10/10\u001b[0m \u001b[32m━━━━━━━━━━━━━━━━━━━━\u001b[0m\u001b[37m\u001b[0m \u001b[1m0s\u001b[0m 9ms/step - accuracy: 0.5058 - loss: 206.0081 - val_accuracy: 0.6375 - val_loss: 383.4916\n",
      "Epoch 29/100\n",
      "\u001b[1m10/10\u001b[0m \u001b[32m━━━━━━━━━━━━━━━━━━━━\u001b[0m\u001b[37m\u001b[0m \u001b[1m0s\u001b[0m 9ms/step - accuracy: 0.5202 - loss: 270.1212 - val_accuracy: 0.3625 - val_loss: 443.1873\n",
      "Epoch 30/100\n",
      "\u001b[1m10/10\u001b[0m \u001b[32m━━━━━━━━━━━━━━━━━━━━\u001b[0m\u001b[37m\u001b[0m \u001b[1m0s\u001b[0m 10ms/step - accuracy: 0.5196 - loss: 286.3544 - val_accuracy: 0.3625 - val_loss: 204.5243\n",
      "Epoch 31/100\n",
      "\u001b[1m10/10\u001b[0m \u001b[32m━━━━━━━━━━━━━━━━━━━━\u001b[0m\u001b[37m\u001b[0m \u001b[1m0s\u001b[0m 10ms/step - accuracy: 0.5071 - loss: 113.0461 - val_accuracy: 0.6375 - val_loss: 210.7995\n",
      "Epoch 32/100\n",
      "\u001b[1m10/10\u001b[0m \u001b[32m━━━━━━━━━━━━━━━━━━━━\u001b[0m\u001b[37m\u001b[0m \u001b[1m0s\u001b[0m 8ms/step - accuracy: 0.5911 - loss: 235.3264 - val_accuracy: 0.6375 - val_loss: 468.2545\n",
      "Epoch 33/100\n",
      "\u001b[1m10/10\u001b[0m \u001b[32m━━━━━━━━━━━━━━━━━━━━\u001b[0m\u001b[37m\u001b[0m \u001b[1m0s\u001b[0m 10ms/step - accuracy: 0.5251 - loss: 302.1892 - val_accuracy: 0.3625 - val_loss: 168.0341\n",
      "Epoch 34/100\n",
      "\u001b[1m10/10\u001b[0m \u001b[32m━━━━━━━━━━━━━━━━━━━━\u001b[0m\u001b[37m\u001b[0m \u001b[1m0s\u001b[0m 9ms/step - accuracy: 0.4826 - loss: 84.6033 - val_accuracy: 0.3625 - val_loss: 56.7987\n",
      "Epoch 35/100\n",
      "\u001b[1m10/10\u001b[0m \u001b[32m━━━━━━━━━━━━━━━━━━━━\u001b[0m\u001b[37m\u001b[0m \u001b[1m0s\u001b[0m 9ms/step - accuracy: 0.4841 - loss: 73.2664 - val_accuracy: 0.3625 - val_loss: 80.4536\n",
      "Epoch 36/100\n",
      "\u001b[1m10/10\u001b[0m \u001b[32m━━━━━━━━━━━━━━━━━━━━\u001b[0m\u001b[37m\u001b[0m \u001b[1m0s\u001b[0m 9ms/step - accuracy: 0.5281 - loss: 91.3998 - val_accuracy: 0.3625 - val_loss: 184.0213\n",
      "Epoch 37/100\n",
      "\u001b[1m10/10\u001b[0m \u001b[32m━━━━━━━━━━━━━━━━━━━━\u001b[0m\u001b[37m\u001b[0m \u001b[1m0s\u001b[0m 9ms/step - accuracy: 0.5153 - loss: 107.1704 - val_accuracy: 0.6375 - val_loss: 58.2299\n",
      "Epoch 38/100\n",
      "\u001b[1m10/10\u001b[0m \u001b[32m━━━━━━━━━━━━━━━━━━━━\u001b[0m\u001b[37m\u001b[0m \u001b[1m0s\u001b[0m 9ms/step - accuracy: 0.5385 - loss: 91.1059 - val_accuracy: 0.6375 - val_loss: 141.5017\n",
      "Epoch 39/100\n",
      "\u001b[1m10/10\u001b[0m \u001b[32m━━━━━━━━━━━━━━━━━━━━\u001b[0m\u001b[37m\u001b[0m \u001b[1m0s\u001b[0m 9ms/step - accuracy: 0.6435 - loss: 151.8629 - val_accuracy: 0.3625 - val_loss: 76.6319\n",
      "Epoch 40/100\n",
      "\u001b[1m10/10\u001b[0m \u001b[32m━━━━━━━━━━━━━━━━━━━━\u001b[0m\u001b[37m\u001b[0m \u001b[1m0s\u001b[0m 9ms/step - accuracy: 0.3798 - loss: 145.2280 - val_accuracy: 0.6375 - val_loss: 91.8766\n",
      "Epoch 41/100\n",
      "\u001b[1m10/10\u001b[0m \u001b[32m━━━━━━━━━━━━━━━━━━━━\u001b[0m\u001b[37m\u001b[0m \u001b[1m0s\u001b[0m 9ms/step - accuracy: 0.6020 - loss: 77.1148 - val_accuracy: 0.6375 - val_loss: 84.3421\n",
      "Epoch 42/100\n",
      "\u001b[1m10/10\u001b[0m \u001b[32m━━━━━━━━━━━━━━━━━━━━\u001b[0m\u001b[37m\u001b[0m \u001b[1m0s\u001b[0m 10ms/step - accuracy: 0.5120 - loss: 151.3808 - val_accuracy: 0.6375 - val_loss: 50.3308\n",
      "Epoch 43/100\n",
      "\u001b[1m10/10\u001b[0m \u001b[32m━━━━━━━━━━━━━━━━━━━━\u001b[0m\u001b[37m\u001b[0m \u001b[1m0s\u001b[0m 10ms/step - accuracy: 0.5140 - loss: 99.5857 - val_accuracy: 0.6375 - val_loss: 162.2864\n",
      "Epoch 44/100\n",
      "\u001b[1m10/10\u001b[0m \u001b[32m━━━━━━━━━━━━━━━━━━━━\u001b[0m\u001b[37m\u001b[0m \u001b[1m0s\u001b[0m 9ms/step - accuracy: 0.5161 - loss: 149.3371 - val_accuracy: 0.6375 - val_loss: 94.9846\n",
      "Epoch 45/100\n",
      "\u001b[1m10/10\u001b[0m \u001b[32m━━━━━━━━━━━━━━━━━━━━\u001b[0m\u001b[37m\u001b[0m \u001b[1m0s\u001b[0m 9ms/step - accuracy: 0.5790 - loss: 139.2894 - val_accuracy: 0.6375 - val_loss: 190.5114\n",
      "Epoch 46/100\n",
      "\u001b[1m10/10\u001b[0m \u001b[32m━━━━━━━━━━━━━━━━━━━━\u001b[0m\u001b[37m\u001b[0m \u001b[1m0s\u001b[0m 9ms/step - accuracy: 0.4742 - loss: 165.3159 - val_accuracy: 0.6375 - val_loss: 141.3524\n",
      "Epoch 47/100\n",
      "\u001b[1m10/10\u001b[0m \u001b[32m━━━━━━━━━━━━━━━━━━━━\u001b[0m\u001b[37m\u001b[0m \u001b[1m0s\u001b[0m 10ms/step - accuracy: 0.5108 - loss: 242.6951 - val_accuracy: 0.6375 - val_loss: 558.7291\n",
      "Epoch 48/100\n",
      "\u001b[1m10/10\u001b[0m \u001b[32m━━━━━━━━━━━━━━━━━━━━\u001b[0m\u001b[37m\u001b[0m \u001b[1m0s\u001b[0m 9ms/step - accuracy: 0.5304 - loss: 205.0707 - val_accuracy: 0.6375 - val_loss: 213.0659\n",
      "Epoch 49/100\n",
      "\u001b[1m10/10\u001b[0m \u001b[32m━━━━━━━━━━━━━━━━━━━━\u001b[0m\u001b[37m\u001b[0m \u001b[1m0s\u001b[0m 10ms/step - accuracy: 0.5597 - loss: 96.8417 - val_accuracy: 0.6375 - val_loss: 50.6903\n",
      "Epoch 50/100\n",
      "\u001b[1m10/10\u001b[0m \u001b[32m━━━━━━━━━━━━━━━━━━━━\u001b[0m\u001b[37m\u001b[0m \u001b[1m0s\u001b[0m 9ms/step - accuracy: 0.4440 - loss: 110.9929 - val_accuracy: 0.6375 - val_loss: 527.3174\n",
      "Epoch 51/100\n",
      "\u001b[1m10/10\u001b[0m \u001b[32m━━━━━━━━━━━━━━━━━━━━\u001b[0m\u001b[37m\u001b[0m \u001b[1m0s\u001b[0m 14ms/step - accuracy: 0.6064 - loss: 318.7730 - val_accuracy: 0.6375 - val_loss: 700.2407\n",
      "Epoch 52/100\n",
      "\u001b[1m10/10\u001b[0m \u001b[32m━━━━━━━━━━━━━━━━━━━━\u001b[0m\u001b[37m\u001b[0m \u001b[1m0s\u001b[0m 8ms/step - accuracy: 0.5846 - loss: 474.7192 - val_accuracy: 0.3625 - val_loss: 16.4992\n",
      "Epoch 53/100\n",
      "\u001b[1m10/10\u001b[0m \u001b[32m━━━━━━━━━━━━━━━━━━━━\u001b[0m\u001b[37m\u001b[0m \u001b[1m0s\u001b[0m 8ms/step - accuracy: 0.5808 - loss: 425.4229 - val_accuracy: 0.3625 - val_loss: 400.1058\n",
      "Epoch 54/100\n",
      "\u001b[1m10/10\u001b[0m \u001b[32m━━━━━━━━━━━━━━━━━━━━\u001b[0m\u001b[37m\u001b[0m \u001b[1m0s\u001b[0m 8ms/step - accuracy: 0.4449 - loss: 301.3136 - val_accuracy: 0.6375 - val_loss: 44.8658\n",
      "Epoch 55/100\n",
      "\u001b[1m10/10\u001b[0m \u001b[32m━━━━━━━━━━━━━━━━━━━━\u001b[0m\u001b[37m\u001b[0m \u001b[1m0s\u001b[0m 7ms/step - accuracy: 0.5108 - loss: 89.6519 - val_accuracy: 0.6375 - val_loss: 125.9268\n",
      "Epoch 56/100\n",
      "\u001b[1m10/10\u001b[0m \u001b[32m━━━━━━━━━━━━━━━━━━━━\u001b[0m\u001b[37m\u001b[0m \u001b[1m0s\u001b[0m 8ms/step - accuracy: 0.5272 - loss: 224.4127 - val_accuracy: 0.6375 - val_loss: 430.3985\n",
      "Epoch 57/100\n",
      "\u001b[1m10/10\u001b[0m \u001b[32m━━━━━━━━━━━━━━━━━━━━\u001b[0m\u001b[37m\u001b[0m \u001b[1m0s\u001b[0m 8ms/step - accuracy: 0.5368 - loss: 291.6620 - val_accuracy: 0.6375 - val_loss: 402.7298\n",
      "Epoch 58/100\n",
      "\u001b[1m10/10\u001b[0m \u001b[32m━━━━━━━━━━━━━━━━━━━━\u001b[0m\u001b[37m\u001b[0m \u001b[1m0s\u001b[0m 8ms/step - accuracy: 0.6170 - loss: 136.2402 - val_accuracy: 0.3625 - val_loss: 72.0009\n",
      "Epoch 59/100\n",
      "\u001b[1m10/10\u001b[0m \u001b[32m━━━━━━━━━━━━━━━━━━━━\u001b[0m\u001b[37m\u001b[0m \u001b[1m0s\u001b[0m 8ms/step - accuracy: 0.4924 - loss: 67.3380 - val_accuracy: 0.6375 - val_loss: 55.1060\n",
      "Epoch 60/100\n",
      "\u001b[1m10/10\u001b[0m \u001b[32m━━━━━━━━━━━━━━━━━━━━\u001b[0m\u001b[37m\u001b[0m \u001b[1m0s\u001b[0m 7ms/step - accuracy: 0.4915 - loss: 87.3707 - val_accuracy: 0.6375 - val_loss: 118.9549\n",
      "Epoch 61/100\n",
      "\u001b[1m10/10\u001b[0m \u001b[32m━━━━━━━━━━━━━━━━━━━━\u001b[0m\u001b[37m\u001b[0m \u001b[1m0s\u001b[0m 9ms/step - accuracy: 0.5581 - loss: 188.9399 - val_accuracy: 0.6375 - val_loss: 496.6818\n",
      "Epoch 62/100\n",
      "\u001b[1m10/10\u001b[0m \u001b[32m━━━━━━━━━━━━━━━━━━━━\u001b[0m\u001b[37m\u001b[0m \u001b[1m0s\u001b[0m 8ms/step - accuracy: 0.5012 - loss: 417.5737 - val_accuracy: 0.6375 - val_loss: 597.2154\n",
      "Epoch 63/100\n",
      "\u001b[1m10/10\u001b[0m \u001b[32m━━━━━━━━━━━━━━━━━━━━\u001b[0m\u001b[37m\u001b[0m \u001b[1m0s\u001b[0m 8ms/step - accuracy: 0.5204 - loss: 487.4612 - val_accuracy: 0.6375 - val_loss: 632.6094\n",
      "Epoch 64/100\n",
      "\u001b[1m10/10\u001b[0m \u001b[32m━━━━━━━━━━━━━━━━━━━━\u001b[0m\u001b[37m\u001b[0m \u001b[1m0s\u001b[0m 8ms/step - accuracy: 0.5388 - loss: 562.1261 - val_accuracy: 0.6375 - val_loss: 40.8638\n",
      "Epoch 65/100\n",
      "\u001b[1m10/10\u001b[0m \u001b[32m━━━━━━━━━━━━━━━━━━━━\u001b[0m\u001b[37m\u001b[0m \u001b[1m0s\u001b[0m 8ms/step - accuracy: 0.5490 - loss: 124.9282 - val_accuracy: 0.3625 - val_loss: 404.0042\n",
      "Epoch 66/100\n",
      "\u001b[1m10/10\u001b[0m \u001b[32m━━━━━━━━━━━━━━━━━━━━\u001b[0m\u001b[37m\u001b[0m \u001b[1m0s\u001b[0m 7ms/step - accuracy: 0.3780 - loss: 454.5998 - val_accuracy: 0.6375 - val_loss: 293.3393\n",
      "Epoch 67/100\n",
      "\u001b[1m10/10\u001b[0m \u001b[32m━━━━━━━━━━━━━━━━━━━━\u001b[0m\u001b[37m\u001b[0m \u001b[1m0s\u001b[0m 11ms/step - accuracy: 0.5103 - loss: 127.3538 - val_accuracy: 0.6375 - val_loss: 114.5305\n",
      "Epoch 68/100\n",
      "\u001b[1m10/10\u001b[0m \u001b[32m━━━━━━━━━━━━━━━━━━━━\u001b[0m\u001b[37m\u001b[0m \u001b[1m0s\u001b[0m 10ms/step - accuracy: 0.5805 - loss: 114.2485 - val_accuracy: 0.3625 - val_loss: 503.8900\n",
      "Epoch 69/100\n",
      "\u001b[1m10/10\u001b[0m \u001b[32m━━━━━━━━━━━━━━━━━━━━\u001b[0m\u001b[37m\u001b[0m \u001b[1m0s\u001b[0m 8ms/step - accuracy: 0.4410 - loss: 324.0531 - val_accuracy: 0.3625 - val_loss: 183.0610\n",
      "Epoch 70/100\n",
      "\u001b[1m10/10\u001b[0m \u001b[32m━━━━━━━━━━━━━━━━━━━━\u001b[0m\u001b[37m\u001b[0m \u001b[1m0s\u001b[0m 9ms/step - accuracy: 0.5839 - loss: 94.9099 - val_accuracy: 0.3625 - val_loss: 131.3847\n",
      "Epoch 71/100\n",
      "\u001b[1m10/10\u001b[0m \u001b[32m━━━━━━━━━━━━━━━━━━━━\u001b[0m\u001b[37m\u001b[0m \u001b[1m0s\u001b[0m 8ms/step - accuracy: 0.5288 - loss: 80.5181 - val_accuracy: 0.3625 - val_loss: 454.8149\n",
      "Epoch 72/100\n",
      "\u001b[1m10/10\u001b[0m \u001b[32m━━━━━━━━━━━━━━━━━━━━\u001b[0m\u001b[37m\u001b[0m \u001b[1m0s\u001b[0m 8ms/step - accuracy: 0.4646 - loss: 291.0932 - val_accuracy: 0.3625 - val_loss: 347.3964\n",
      "Epoch 73/100\n",
      "\u001b[1m10/10\u001b[0m \u001b[32m━━━━━━━━━━━━━━━━━━━━\u001b[0m\u001b[37m\u001b[0m \u001b[1m0s\u001b[0m 26ms/step - accuracy: 0.5321 - loss: 212.0579 - val_accuracy: 0.3625 - val_loss: 245.1998\n",
      "Epoch 74/100\n",
      "\u001b[1m10/10\u001b[0m \u001b[32m━━━━━━━━━━━━━━━━━━━━\u001b[0m\u001b[37m\u001b[0m \u001b[1m0s\u001b[0m 7ms/step - accuracy: 0.4973 - loss: 196.8008 - val_accuracy: 0.6375 - val_loss: 506.6698\n",
      "Epoch 75/100\n",
      "\u001b[1m10/10\u001b[0m \u001b[32m━━━━━━━━━━━━━━━━━━━━\u001b[0m\u001b[37m\u001b[0m \u001b[1m0s\u001b[0m 8ms/step - accuracy: 0.4988 - loss: 429.3195 - val_accuracy: 0.6375 - val_loss: 699.3568\n",
      "Epoch 76/100\n",
      "\u001b[1m10/10\u001b[0m \u001b[32m━━━━━━━━━━━━━━━━━━━━\u001b[0m\u001b[37m\u001b[0m \u001b[1m0s\u001b[0m 9ms/step - accuracy: 0.5843 - loss: 507.8144 - val_accuracy: 0.6375 - val_loss: 131.9208\n",
      "Epoch 77/100\n",
      "\u001b[1m10/10\u001b[0m \u001b[32m━━━━━━━━━━━━━━━━━━━━\u001b[0m\u001b[37m\u001b[0m \u001b[1m0s\u001b[0m 7ms/step - accuracy: 0.5311 - loss: 179.2186 - val_accuracy: 0.3625 - val_loss: 357.5063\n",
      "Epoch 78/100\n",
      "\u001b[1m10/10\u001b[0m \u001b[32m━━━━━━━━━━━━━━━━━━━━\u001b[0m\u001b[37m\u001b[0m \u001b[1m0s\u001b[0m 15ms/step - accuracy: 0.4328 - loss: 383.5133 - val_accuracy: 0.6375 - val_loss: 248.3126\n",
      "Epoch 79/100\n",
      "\u001b[1m10/10\u001b[0m \u001b[32m━━━━━━━━━━━━━━━━━━━━\u001b[0m\u001b[37m\u001b[0m \u001b[1m0s\u001b[0m 9ms/step - accuracy: 0.4859 - loss: 295.7153 - val_accuracy: 0.6375 - val_loss: 343.9441\n",
      "Epoch 80/100\n",
      "\u001b[1m10/10\u001b[0m \u001b[32m━━━━━━━━━━━━━━━━━━━━\u001b[0m\u001b[37m\u001b[0m \u001b[1m0s\u001b[0m 9ms/step - accuracy: 0.5291 - loss: 204.3929 - val_accuracy: 0.6375 - val_loss: 7.2558\n",
      "Epoch 81/100\n",
      "\u001b[1m10/10\u001b[0m \u001b[32m━━━━━━━━━━━━━━━━━━━━\u001b[0m\u001b[37m\u001b[0m \u001b[1m0s\u001b[0m 8ms/step - accuracy: 0.5138 - loss: 63.4807 - val_accuracy: 0.6375 - val_loss: 94.3414\n",
      "Epoch 82/100\n",
      "\u001b[1m10/10\u001b[0m \u001b[32m━━━━━━━━━━━━━━━━━━━━\u001b[0m\u001b[37m\u001b[0m \u001b[1m0s\u001b[0m 10ms/step - accuracy: 0.4944 - loss: 137.0188 - val_accuracy: 0.3625 - val_loss: 83.4916\n",
      "Epoch 83/100\n",
      "\u001b[1m10/10\u001b[0m \u001b[32m━━━━━━━━━━━━━━━━━━━━\u001b[0m\u001b[37m\u001b[0m \u001b[1m0s\u001b[0m 9ms/step - accuracy: 0.5555 - loss: 109.0902 - val_accuracy: 0.6375 - val_loss: 169.2164\n",
      "Epoch 84/100\n",
      "\u001b[1m10/10\u001b[0m \u001b[32m━━━━━━━━━━━━━━━━━━━━\u001b[0m\u001b[37m\u001b[0m \u001b[1m0s\u001b[0m 9ms/step - accuracy: 0.5091 - loss: 202.9921 - val_accuracy: 0.6375 - val_loss: 199.4473\n",
      "Epoch 85/100\n",
      "\u001b[1m10/10\u001b[0m \u001b[32m━━━━━━━━━━━━━━━━━━━━\u001b[0m\u001b[37m\u001b[0m \u001b[1m0s\u001b[0m 8ms/step - accuracy: 0.5289 - loss: 86.8460 - val_accuracy: 0.6500 - val_loss: 2.5313\n",
      "Epoch 86/100\n",
      "\u001b[1m10/10\u001b[0m \u001b[32m━━━━━━━━━━━━━━━━━━━━\u001b[0m\u001b[37m\u001b[0m \u001b[1m0s\u001b[0m 9ms/step - accuracy: 0.4946 - loss: 157.8607 - val_accuracy: 0.3625 - val_loss: 320.5064\n",
      "Epoch 87/100\n",
      "\u001b[1m10/10\u001b[0m \u001b[32m━━━━━━━━━━━━━━━━━━━━\u001b[0m\u001b[37m\u001b[0m \u001b[1m0s\u001b[0m 9ms/step - accuracy: 0.4195 - loss: 269.8310 - val_accuracy: 0.3625 - val_loss: 635.1114\n",
      "Epoch 88/100\n",
      "\u001b[1m10/10\u001b[0m \u001b[32m━━━━━━━━━━━━━━━━━━━━\u001b[0m\u001b[37m\u001b[0m \u001b[1m0s\u001b[0m 11ms/step - accuracy: 0.4940 - loss: 396.8369 - val_accuracy: 0.3625 - val_loss: 263.4745\n",
      "Epoch 89/100\n",
      "\u001b[1m10/10\u001b[0m \u001b[32m━━━━━━━━━━━━━━━━━━━━\u001b[0m\u001b[37m\u001b[0m \u001b[1m0s\u001b[0m 10ms/step - accuracy: 0.4198 - loss: 202.1563 - val_accuracy: 0.6375 - val_loss: 105.0335\n",
      "Epoch 90/100\n",
      "\u001b[1m10/10\u001b[0m \u001b[32m━━━━━━━━━━━━━━━━━━━━\u001b[0m\u001b[37m\u001b[0m \u001b[1m0s\u001b[0m 11ms/step - accuracy: 0.6020 - loss: 103.9857 - val_accuracy: 0.6375 - val_loss: 96.9777\n",
      "Epoch 91/100\n",
      "\u001b[1m10/10\u001b[0m \u001b[32m━━━━━━━━━━━━━━━━━━━━\u001b[0m\u001b[37m\u001b[0m \u001b[1m0s\u001b[0m 10ms/step - accuracy: 0.4860 - loss: 130.7404 - val_accuracy: 0.6375 - val_loss: 48.3156\n",
      "Epoch 92/100\n",
      "\u001b[1m10/10\u001b[0m \u001b[32m━━━━━━━━━━━━━━━━━━━━\u001b[0m\u001b[37m\u001b[0m \u001b[1m0s\u001b[0m 9ms/step - accuracy: 0.4991 - loss: 77.3718 - val_accuracy: 0.3625 - val_loss: 46.5440\n",
      "Epoch 93/100\n",
      "\u001b[1m10/10\u001b[0m \u001b[32m━━━━━━━━━━━━━━━━━━━━\u001b[0m\u001b[37m\u001b[0m \u001b[1m0s\u001b[0m 9ms/step - accuracy: 0.5012 - loss: 76.1671 - val_accuracy: 0.6375 - val_loss: 58.1530\n",
      "Epoch 94/100\n",
      "\u001b[1m10/10\u001b[0m \u001b[32m━━━━━━━━━━━━━━━━━━━━\u001b[0m\u001b[37m\u001b[0m \u001b[1m0s\u001b[0m 10ms/step - accuracy: 0.5449 - loss: 61.6409 - val_accuracy: 0.6375 - val_loss: 33.5346\n",
      "Epoch 95/100\n",
      "\u001b[1m10/10\u001b[0m \u001b[32m━━━━━━━━━━━━━━━━━━━━\u001b[0m\u001b[37m\u001b[0m \u001b[1m0s\u001b[0m 8ms/step - accuracy: 0.5272 - loss: 49.8465 - val_accuracy: 0.6375 - val_loss: 39.0576\n",
      "Epoch 96/100\n",
      "\u001b[1m10/10\u001b[0m \u001b[32m━━━━━━━━━━━━━━━━━━━━\u001b[0m\u001b[37m\u001b[0m \u001b[1m0s\u001b[0m 9ms/step - accuracy: 0.5388 - loss: 42.8866 - val_accuracy: 0.3625 - val_loss: 174.4250\n",
      "Epoch 97/100\n",
      "\u001b[1m10/10\u001b[0m \u001b[32m━━━━━━━━━━━━━━━━━━━━\u001b[0m\u001b[37m\u001b[0m \u001b[1m0s\u001b[0m 9ms/step - accuracy: 0.5337 - loss: 173.4668 - val_accuracy: 0.3625 - val_loss: 64.6751\n",
      "Epoch 98/100\n",
      "\u001b[1m10/10\u001b[0m \u001b[32m━━━━━━━━━━━━━━━━━━━━\u001b[0m\u001b[37m\u001b[0m \u001b[1m0s\u001b[0m 8ms/step - accuracy: 0.5302 - loss: 178.0076 - val_accuracy: 0.3625 - val_loss: 8.3643\n",
      "Epoch 99/100\n"
     ]
    },
    {
     "name": "stdout",
     "output_type": "stream",
     "text": [
      "\u001b[1m10/10\u001b[0m \u001b[32m━━━━━━━━━━━━━━━━━━━━\u001b[0m\u001b[37m\u001b[0m \u001b[1m0s\u001b[0m 9ms/step - accuracy: 0.5670 - loss: 287.5967 - val_accuracy: 0.3625 - val_loss: 120.9174\n",
      "Epoch 100/100\n",
      "\u001b[1m10/10\u001b[0m \u001b[32m━━━━━━━━━━━━━━━━━━━━\u001b[0m\u001b[37m\u001b[0m \u001b[1m0s\u001b[0m 9ms/step - accuracy: 0.5406 - loss: 167.4476 - val_accuracy: 0.6375 - val_loss: 97.6254\n"
     ]
    }
   ],
   "source": [
    "history_without_feature_scaling =  dnn.fit(x_train , y_train , validation_data = (x_test , y_test) , epochs = 100)"
   ]
  },
  {
   "cell_type": "code",
   "execution_count": 24,
   "id": "a441202a",
   "metadata": {},
   "outputs": [
    {
     "data": {
      "text/plain": [
       "<keras.src.callbacks.history.History at 0x2d2e7816d90>"
      ]
     },
     "execution_count": 24,
     "metadata": {},
     "output_type": "execute_result"
    }
   ],
   "source": [
    "history_without_feature_scaling"
   ]
  },
  {
   "cell_type": "markdown",
   "id": "52a0356a",
   "metadata": {},
   "source": [
    "#### Insights : We get very poor training and testing accuracy because of without feature scaling"
   ]
  },
  {
   "cell_type": "markdown",
   "id": "7262d504",
   "metadata": {},
   "source": [
    "## Case 2 : Mutltilayer Perceptron (DNN / ANN) with Feature Scaling"
   ]
  },
  {
   "cell_type": "code",
   "execution_count": 25,
   "id": "97b5667a",
   "metadata": {},
   "outputs": [],
   "source": [
    "scaler = StandardScaler()"
   ]
  },
  {
   "cell_type": "code",
   "execution_count": 26,
   "id": "c7bfc52d",
   "metadata": {},
   "outputs": [],
   "source": [
    "x_train_scaled = scaler.fit_transform(x_train)"
   ]
  },
  {
   "cell_type": "code",
   "execution_count": 27,
   "id": "d61c2c67",
   "metadata": {
    "scrolled": false
   },
   "outputs": [],
   "source": [
    "x_test_scaled = scaler.transform(x_test)"
   ]
  },
  {
   "cell_type": "markdown",
   "id": "657c4595",
   "metadata": {},
   "source": [
    "#### Build DNN Model"
   ]
  },
  {
   "cell_type": "code",
   "execution_count": 28,
   "id": "2eb9224b",
   "metadata": {},
   "outputs": [],
   "source": [
    "dnn = Sequential()"
   ]
  },
  {
   "cell_type": "markdown",
   "id": "a10737a1",
   "metadata": {},
   "source": [
    "#### Hidden Layer 1"
   ]
  },
  {
   "cell_type": "markdown",
   "id": "ca356748",
   "metadata": {},
   "source": [
    "#### We using relu as activation function\n",
    "#### When relu is use as activation function then kernel_initializer will be He-Initializer.\n",
    "#### When Sigmoid and tanhyperbolic is use as activation function then kernel_initializer will be glorate_uniform or glorate normal\n",
    "#### Kernel Initializer is nothing but weight Initializer\n",
    "#### Weight Initializer for first time only because after that backpropogation update the new weights"
   ]
  },
  {
   "cell_type": "code",
   "execution_count": 29,
   "id": "24461c18",
   "metadata": {},
   "outputs": [],
   "source": [
    "dnn.add(Dense(128 , activation = 'relu' , input_dim = 3 , kernel_initializer='he_normal'))"
   ]
  },
  {
   "cell_type": "markdown",
   "id": "389d1c1b",
   "metadata": {},
   "source": [
    "#### Hidden Layer 2"
   ]
  },
  {
   "cell_type": "markdown",
   "id": "a5e567be",
   "metadata": {},
   "source": [
    "#### We using relu as activation function\n",
    "#### When relu is use as activation function then kernel_initializer will be He-Initializer.\n",
    "#### When Sigmoid and tanhyperbolic is use as activation function then kernel_initializer will be glorate_uniform or glorate normal\n",
    "#### Kernel Initializer is nothing but weight Initializer"
   ]
  },
  {
   "cell_type": "code",
   "execution_count": 30,
   "id": "cac0f280",
   "metadata": {},
   "outputs": [],
   "source": [
    "dnn.add(Dense(128 , activation = 'relu' , kernel_initializer = 'he_normal'))"
   ]
  },
  {
   "cell_type": "markdown",
   "id": "86d59235",
   "metadata": {},
   "source": [
    "#### Output Layer"
   ]
  },
  {
   "cell_type": "markdown",
   "id": "102c1b98",
   "metadata": {},
   "source": [
    "#### We using Sigmoid as activation function because this layer is output layer and this problem statement is binary classification so we use sigmoid . if multiclass classification problem statement then use softmax activation function\n",
    "#### When Sigmoid and tanhyperbolic is use as activation function then kernel_initializer will be glorate_uniform or glorate normal\n",
    "#### glorate_normal or glorate_uniform is by default"
   ]
  },
  {
   "cell_type": "code",
   "execution_count": 31,
   "id": "87bd44d6",
   "metadata": {},
   "outputs": [],
   "source": [
    "dnn.add(Dense(1 , activation = 'sigmoid' , kernel_initializer = 'glorot_uniform'))"
   ]
  },
  {
   "cell_type": "markdown",
   "id": "a0da0f86",
   "metadata": {},
   "source": [
    "#### Summary"
   ]
  },
  {
   "cell_type": "code",
   "execution_count": 32,
   "id": "bb454cef",
   "metadata": {},
   "outputs": [
    {
     "data": {
      "text/html": [
       "<pre style=\"white-space:pre;overflow-x:auto;line-height:normal;font-family:Menlo,'DejaVu Sans Mono',consolas,'Courier New',monospace\"><span style=\"font-weight: bold\">Model: \"sequential_1\"</span>\n",
       "</pre>\n"
      ],
      "text/plain": [
       "\u001b[1mModel: \"sequential_1\"\u001b[0m\n"
      ]
     },
     "metadata": {},
     "output_type": "display_data"
    },
    {
     "data": {
      "text/html": [
       "<pre style=\"white-space:pre;overflow-x:auto;line-height:normal;font-family:Menlo,'DejaVu Sans Mono',consolas,'Courier New',monospace\">┏━━━━━━━━━━━━━━━━━━━━━━━━━━━━━━━━━━━━━━┳━━━━━━━━━━━━━━━━━━━━━━━━━━━━━┳━━━━━━━━━━━━━━━━━┓\n",
       "┃<span style=\"font-weight: bold\"> Layer (type)                         </span>┃<span style=\"font-weight: bold\"> Output Shape                </span>┃<span style=\"font-weight: bold\">         Param # </span>┃\n",
       "┡━━━━━━━━━━━━━━━━━━━━━━━━━━━━━━━━━━━━━━╇━━━━━━━━━━━━━━━━━━━━━━━━━━━━━╇━━━━━━━━━━━━━━━━━┩\n",
       "│ dense_3 (<span style=\"color: #0087ff; text-decoration-color: #0087ff\">Dense</span>)                      │ (<span style=\"color: #00d7ff; text-decoration-color: #00d7ff\">None</span>, <span style=\"color: #00af00; text-decoration-color: #00af00\">128</span>)                 │             <span style=\"color: #00af00; text-decoration-color: #00af00\">512</span> │\n",
       "├──────────────────────────────────────┼─────────────────────────────┼─────────────────┤\n",
       "│ dense_4 (<span style=\"color: #0087ff; text-decoration-color: #0087ff\">Dense</span>)                      │ (<span style=\"color: #00d7ff; text-decoration-color: #00d7ff\">None</span>, <span style=\"color: #00af00; text-decoration-color: #00af00\">128</span>)                 │          <span style=\"color: #00af00; text-decoration-color: #00af00\">16,512</span> │\n",
       "├──────────────────────────────────────┼─────────────────────────────┼─────────────────┤\n",
       "│ dense_5 (<span style=\"color: #0087ff; text-decoration-color: #0087ff\">Dense</span>)                      │ (<span style=\"color: #00d7ff; text-decoration-color: #00d7ff\">None</span>, <span style=\"color: #00af00; text-decoration-color: #00af00\">1</span>)                   │             <span style=\"color: #00af00; text-decoration-color: #00af00\">129</span> │\n",
       "└──────────────────────────────────────┴─────────────────────────────┴─────────────────┘\n",
       "</pre>\n"
      ],
      "text/plain": [
       "┏━━━━━━━━━━━━━━━━━━━━━━━━━━━━━━━━━━━━━━┳━━━━━━━━━━━━━━━━━━━━━━━━━━━━━┳━━━━━━━━━━━━━━━━━┓\n",
       "┃\u001b[1m \u001b[0m\u001b[1mLayer (type)                        \u001b[0m\u001b[1m \u001b[0m┃\u001b[1m \u001b[0m\u001b[1mOutput Shape               \u001b[0m\u001b[1m \u001b[0m┃\u001b[1m \u001b[0m\u001b[1m        Param #\u001b[0m\u001b[1m \u001b[0m┃\n",
       "┡━━━━━━━━━━━━━━━━━━━━━━━━━━━━━━━━━━━━━━╇━━━━━━━━━━━━━━━━━━━━━━━━━━━━━╇━━━━━━━━━━━━━━━━━┩\n",
       "│ dense_3 (\u001b[38;5;33mDense\u001b[0m)                      │ (\u001b[38;5;45mNone\u001b[0m, \u001b[38;5;34m128\u001b[0m)                 │             \u001b[38;5;34m512\u001b[0m │\n",
       "├──────────────────────────────────────┼─────────────────────────────┼─────────────────┤\n",
       "│ dense_4 (\u001b[38;5;33mDense\u001b[0m)                      │ (\u001b[38;5;45mNone\u001b[0m, \u001b[38;5;34m128\u001b[0m)                 │          \u001b[38;5;34m16,512\u001b[0m │\n",
       "├──────────────────────────────────────┼─────────────────────────────┼─────────────────┤\n",
       "│ dense_5 (\u001b[38;5;33mDense\u001b[0m)                      │ (\u001b[38;5;45mNone\u001b[0m, \u001b[38;5;34m1\u001b[0m)                   │             \u001b[38;5;34m129\u001b[0m │\n",
       "└──────────────────────────────────────┴─────────────────────────────┴─────────────────┘\n"
      ]
     },
     "metadata": {},
     "output_type": "display_data"
    },
    {
     "data": {
      "text/html": [
       "<pre style=\"white-space:pre;overflow-x:auto;line-height:normal;font-family:Menlo,'DejaVu Sans Mono',consolas,'Courier New',monospace\"><span style=\"font-weight: bold\"> Total params: </span><span style=\"color: #00af00; text-decoration-color: #00af00\">17,153</span> (67.00 KB)\n",
       "</pre>\n"
      ],
      "text/plain": [
       "\u001b[1m Total params: \u001b[0m\u001b[38;5;34m17,153\u001b[0m (67.00 KB)\n"
      ]
     },
     "metadata": {},
     "output_type": "display_data"
    },
    {
     "data": {
      "text/html": [
       "<pre style=\"white-space:pre;overflow-x:auto;line-height:normal;font-family:Menlo,'DejaVu Sans Mono',consolas,'Courier New',monospace\"><span style=\"font-weight: bold\"> Trainable params: </span><span style=\"color: #00af00; text-decoration-color: #00af00\">17,153</span> (67.00 KB)\n",
       "</pre>\n"
      ],
      "text/plain": [
       "\u001b[1m Trainable params: \u001b[0m\u001b[38;5;34m17,153\u001b[0m (67.00 KB)\n"
      ]
     },
     "metadata": {},
     "output_type": "display_data"
    },
    {
     "data": {
      "text/html": [
       "<pre style=\"white-space:pre;overflow-x:auto;line-height:normal;font-family:Menlo,'DejaVu Sans Mono',consolas,'Courier New',monospace\"><span style=\"font-weight: bold\"> Non-trainable params: </span><span style=\"color: #00af00; text-decoration-color: #00af00\">0</span> (0.00 B)\n",
       "</pre>\n"
      ],
      "text/plain": [
       "\u001b[1m Non-trainable params: \u001b[0m\u001b[38;5;34m0\u001b[0m (0.00 B)\n"
      ]
     },
     "metadata": {},
     "output_type": "display_data"
    }
   ],
   "source": [
    "dnn.summary()"
   ]
  },
  {
   "cell_type": "markdown",
   "id": "19e70341",
   "metadata": {},
   "source": [
    "#### Compile the DNN model"
   ]
  },
  {
   "cell_type": "code",
   "execution_count": 33,
   "id": "974e3b3b",
   "metadata": {},
   "outputs": [],
   "source": [
    "dnn.compile(optimizer = 'adam' , loss = 'binary_crossentropy' , metrics = ['accuracy'])"
   ]
  },
  {
   "cell_type": "markdown",
   "id": "4a0413b9",
   "metadata": {},
   "source": [
    "#### Fit the DNN model with scaled data"
   ]
  },
  {
   "cell_type": "code",
   "execution_count": 34,
   "id": "741fe2d5",
   "metadata": {
    "scrolled": false
   },
   "outputs": [
    {
     "name": "stdout",
     "output_type": "stream",
     "text": [
      "Epoch 1/100\n",
      "\u001b[1m10/10\u001b[0m \u001b[32m━━━━━━━━━━━━━━━━━━━━\u001b[0m\u001b[37m\u001b[0m \u001b[1m2s\u001b[0m 31ms/step - accuracy: 0.6641 - loss: 1.0053 - val_accuracy: 0.8500 - val_loss: 0.5507\n",
      "Epoch 2/100\n",
      "\u001b[1m10/10\u001b[0m \u001b[32m━━━━━━━━━━━━━━━━━━━━\u001b[0m\u001b[37m\u001b[0m \u001b[1m0s\u001b[0m 11ms/step - accuracy: 0.8655 - loss: 0.3446 - val_accuracy: 0.8625 - val_loss: 0.5140\n",
      "Epoch 3/100\n",
      "\u001b[1m10/10\u001b[0m \u001b[32m━━━━━━━━━━━━━━━━━━━━\u001b[0m\u001b[37m\u001b[0m \u001b[1m0s\u001b[0m 12ms/step - accuracy: 0.9114 - loss: 0.2793 - val_accuracy: 0.8625 - val_loss: 0.4711\n",
      "Epoch 4/100\n",
      "\u001b[1m10/10\u001b[0m \u001b[32m━━━━━━━━━━━━━━━━━━━━\u001b[0m\u001b[37m\u001b[0m \u001b[1m0s\u001b[0m 8ms/step - accuracy: 0.8998 - loss: 0.2670 - val_accuracy: 0.8625 - val_loss: 0.4588\n",
      "Epoch 5/100\n",
      "\u001b[1m10/10\u001b[0m \u001b[32m━━━━━━━━━━━━━━━━━━━━\u001b[0m\u001b[37m\u001b[0m \u001b[1m0s\u001b[0m 7ms/step - accuracy: 0.9058 - loss: 0.2274 - val_accuracy: 0.8625 - val_loss: 0.4702\n",
      "Epoch 6/100\n",
      "\u001b[1m10/10\u001b[0m \u001b[32m━━━━━━━━━━━━━━━━━━━━\u001b[0m\u001b[37m\u001b[0m \u001b[1m0s\u001b[0m 8ms/step - accuracy: 0.9197 - loss: 0.2041 - val_accuracy: 0.8750 - val_loss: 0.4366\n",
      "Epoch 7/100\n",
      "\u001b[1m10/10\u001b[0m \u001b[32m━━━━━━━━━━━━━━━━━━━━\u001b[0m\u001b[37m\u001b[0m \u001b[1m0s\u001b[0m 10ms/step - accuracy: 0.9351 - loss: 0.1818 - val_accuracy: 0.8625 - val_loss: 0.4591\n",
      "Epoch 8/100\n",
      "\u001b[1m10/10\u001b[0m \u001b[32m━━━━━━━━━━━━━━━━━━━━\u001b[0m\u001b[37m\u001b[0m \u001b[1m0s\u001b[0m 7ms/step - accuracy: 0.9353 - loss: 0.1921 - val_accuracy: 0.8625 - val_loss: 0.4439\n",
      "Epoch 9/100\n",
      "\u001b[1m10/10\u001b[0m \u001b[32m━━━━━━━━━━━━━━━━━━━━\u001b[0m\u001b[37m\u001b[0m \u001b[1m0s\u001b[0m 11ms/step - accuracy: 0.9246 - loss: 0.1956 - val_accuracy: 0.8750 - val_loss: 0.4563\n",
      "Epoch 10/100\n",
      "\u001b[1m10/10\u001b[0m \u001b[32m━━━━━━━━━━━━━━━━━━━━\u001b[0m\u001b[37m\u001b[0m \u001b[1m0s\u001b[0m 10ms/step - accuracy: 0.9174 - loss: 0.2081 - val_accuracy: 0.8750 - val_loss: 0.4406\n",
      "Epoch 11/100\n",
      "\u001b[1m10/10\u001b[0m \u001b[32m━━━━━━━━━━━━━━━━━━━━\u001b[0m\u001b[37m\u001b[0m \u001b[1m0s\u001b[0m 10ms/step - accuracy: 0.9320 - loss: 0.1798 - val_accuracy: 0.8625 - val_loss: 0.4610\n",
      "Epoch 12/100\n",
      "\u001b[1m10/10\u001b[0m \u001b[32m━━━━━━━━━━━━━━━━━━━━\u001b[0m\u001b[37m\u001b[0m \u001b[1m0s\u001b[0m 12ms/step - accuracy: 0.9230 - loss: 0.2236 - val_accuracy: 0.8875 - val_loss: 0.4727\n",
      "Epoch 13/100\n",
      "\u001b[1m10/10\u001b[0m \u001b[32m━━━━━━━━━━━━━━━━━━━━\u001b[0m\u001b[37m\u001b[0m \u001b[1m0s\u001b[0m 8ms/step - accuracy: 0.9433 - loss: 0.1569 - val_accuracy: 0.8750 - val_loss: 0.4690\n",
      "Epoch 14/100\n",
      "\u001b[1m10/10\u001b[0m \u001b[32m━━━━━━━━━━━━━━━━━━━━\u001b[0m\u001b[37m\u001b[0m \u001b[1m0s\u001b[0m 13ms/step - accuracy: 0.9283 - loss: 0.2046 - val_accuracy: 0.8875 - val_loss: 0.4745\n",
      "Epoch 15/100\n",
      "\u001b[1m10/10\u001b[0m \u001b[32m━━━━━━━━━━━━━━━━━━━━\u001b[0m\u001b[37m\u001b[0m \u001b[1m0s\u001b[0m 8ms/step - accuracy: 0.9336 - loss: 0.1825 - val_accuracy: 0.8875 - val_loss: 0.4712\n",
      "Epoch 16/100\n",
      "\u001b[1m10/10\u001b[0m \u001b[32m━━━━━━━━━━━━━━━━━━━━\u001b[0m\u001b[37m\u001b[0m \u001b[1m0s\u001b[0m 11ms/step - accuracy: 0.9362 - loss: 0.1694 - val_accuracy: 0.8875 - val_loss: 0.4703\n",
      "Epoch 17/100\n",
      "\u001b[1m10/10\u001b[0m \u001b[32m━━━━━━━━━━━━━━━━━━━━\u001b[0m\u001b[37m\u001b[0m \u001b[1m0s\u001b[0m 9ms/step - accuracy: 0.9440 - loss: 0.1581 - val_accuracy: 0.8875 - val_loss: 0.4811\n",
      "Epoch 18/100\n",
      "\u001b[1m10/10\u001b[0m \u001b[32m━━━━━━━━━━━━━━━━━━━━\u001b[0m\u001b[37m\u001b[0m \u001b[1m0s\u001b[0m 9ms/step - accuracy: 0.9365 - loss: 0.1601 - val_accuracy: 0.8875 - val_loss: 0.4848\n",
      "Epoch 19/100\n",
      "\u001b[1m10/10\u001b[0m \u001b[32m━━━━━━━━━━━━━━━━━━━━\u001b[0m\u001b[37m\u001b[0m \u001b[1m0s\u001b[0m 10ms/step - accuracy: 0.9193 - loss: 0.2036 - val_accuracy: 0.8875 - val_loss: 0.4713\n",
      "Epoch 20/100\n",
      "\u001b[1m10/10\u001b[0m \u001b[32m━━━━━━━━━━━━━━━━━━━━\u001b[0m\u001b[37m\u001b[0m \u001b[1m0s\u001b[0m 9ms/step - accuracy: 0.9502 - loss: 0.1559 - val_accuracy: 0.8875 - val_loss: 0.4905\n",
      "Epoch 21/100\n",
      "\u001b[1m10/10\u001b[0m \u001b[32m━━━━━━━━━━━━━━━━━━━━\u001b[0m\u001b[37m\u001b[0m \u001b[1m0s\u001b[0m 12ms/step - accuracy: 0.9352 - loss: 0.1647 - val_accuracy: 0.8875 - val_loss: 0.4831\n",
      "Epoch 22/100\n",
      "\u001b[1m10/10\u001b[0m \u001b[32m━━━━━━━━━━━━━━━━━━━━\u001b[0m\u001b[37m\u001b[0m \u001b[1m0s\u001b[0m 13ms/step - accuracy: 0.9242 - loss: 0.1801 - val_accuracy: 0.8875 - val_loss: 0.4765\n",
      "Epoch 23/100\n",
      "\u001b[1m10/10\u001b[0m \u001b[32m━━━━━━━━━━━━━━━━━━━━\u001b[0m\u001b[37m\u001b[0m \u001b[1m0s\u001b[0m 9ms/step - accuracy: 0.9259 - loss: 0.1694 - val_accuracy: 0.8875 - val_loss: 0.5168\n",
      "Epoch 24/100\n",
      "\u001b[1m10/10\u001b[0m \u001b[32m━━━━━━━━━━━━━━━━━━━━\u001b[0m\u001b[37m\u001b[0m \u001b[1m0s\u001b[0m 8ms/step - accuracy: 0.9343 - loss: 0.1835 - val_accuracy: 0.8875 - val_loss: 0.4793\n",
      "Epoch 25/100\n",
      "\u001b[1m10/10\u001b[0m \u001b[32m━━━━━━━━━━━━━━━━━━━━\u001b[0m\u001b[37m\u001b[0m \u001b[1m0s\u001b[0m 8ms/step - accuracy: 0.9332 - loss: 0.1708 - val_accuracy: 0.8875 - val_loss: 0.5012\n",
      "Epoch 26/100\n",
      "\u001b[1m10/10\u001b[0m \u001b[32m━━━━━━━━━━━━━━━━━━━━\u001b[0m\u001b[37m\u001b[0m \u001b[1m0s\u001b[0m 10ms/step - accuracy: 0.9163 - loss: 0.1839 - val_accuracy: 0.8875 - val_loss: 0.4922\n",
      "Epoch 27/100\n",
      "\u001b[1m10/10\u001b[0m \u001b[32m━━━━━━━━━━━━━━━━━━━━\u001b[0m\u001b[37m\u001b[0m \u001b[1m0s\u001b[0m 8ms/step - accuracy: 0.9145 - loss: 0.1909 - val_accuracy: 0.8875 - val_loss: 0.5104\n",
      "Epoch 28/100\n",
      "\u001b[1m10/10\u001b[0m \u001b[32m━━━━━━━━━━━━━━━━━━━━\u001b[0m\u001b[37m\u001b[0m \u001b[1m0s\u001b[0m 7ms/step - accuracy: 0.9380 - loss: 0.1686 - val_accuracy: 0.8875 - val_loss: 0.4937\n",
      "Epoch 29/100\n",
      "\u001b[1m10/10\u001b[0m \u001b[32m━━━━━━━━━━━━━━━━━━━━\u001b[0m\u001b[37m\u001b[0m \u001b[1m0s\u001b[0m 9ms/step - accuracy: 0.9394 - loss: 0.1622 - val_accuracy: 0.8875 - val_loss: 0.4831\n",
      "Epoch 30/100\n",
      "\u001b[1m10/10\u001b[0m \u001b[32m━━━━━━━━━━━━━━━━━━━━\u001b[0m\u001b[37m\u001b[0m \u001b[1m0s\u001b[0m 10ms/step - accuracy: 0.9371 - loss: 0.1494 - val_accuracy: 0.8875 - val_loss: 0.5170\n",
      "Epoch 31/100\n",
      "\u001b[1m10/10\u001b[0m \u001b[32m━━━━━━━━━━━━━━━━━━━━\u001b[0m\u001b[37m\u001b[0m \u001b[1m0s\u001b[0m 10ms/step - accuracy: 0.9533 - loss: 0.1577 - val_accuracy: 0.8875 - val_loss: 0.4871\n",
      "Epoch 32/100\n",
      "\u001b[1m10/10\u001b[0m \u001b[32m━━━━━━━━━━━━━━━━━━━━\u001b[0m\u001b[37m\u001b[0m \u001b[1m0s\u001b[0m 9ms/step - accuracy: 0.9513 - loss: 0.1502 - val_accuracy: 0.8875 - val_loss: 0.4955\n",
      "Epoch 33/100\n",
      "\u001b[1m10/10\u001b[0m \u001b[32m━━━━━━━━━━━━━━━━━━━━\u001b[0m\u001b[37m\u001b[0m \u001b[1m0s\u001b[0m 9ms/step - accuracy: 0.9289 - loss: 0.1896 - val_accuracy: 0.8875 - val_loss: 0.5122\n",
      "Epoch 34/100\n",
      "\u001b[1m10/10\u001b[0m \u001b[32m━━━━━━━━━━━━━━━━━━━━\u001b[0m\u001b[37m\u001b[0m \u001b[1m0s\u001b[0m 7ms/step - accuracy: 0.9309 - loss: 0.1971 - val_accuracy: 0.8875 - val_loss: 0.5056\n",
      "Epoch 35/100\n",
      "\u001b[1m10/10\u001b[0m \u001b[32m━━━━━━━━━━━━━━━━━━━━\u001b[0m\u001b[37m\u001b[0m \u001b[1m0s\u001b[0m 10ms/step - accuracy: 0.9446 - loss: 0.1564 - val_accuracy: 0.8875 - val_loss: 0.5039\n",
      "Epoch 36/100\n",
      "\u001b[1m10/10\u001b[0m \u001b[32m━━━━━━━━━━━━━━━━━━━━\u001b[0m\u001b[37m\u001b[0m \u001b[1m0s\u001b[0m 7ms/step - accuracy: 0.9565 - loss: 0.1314 - val_accuracy: 0.8875 - val_loss: 0.5086\n",
      "Epoch 37/100\n",
      "\u001b[1m10/10\u001b[0m \u001b[32m━━━━━━━━━━━━━━━━━━━━\u001b[0m\u001b[37m\u001b[0m \u001b[1m0s\u001b[0m 10ms/step - accuracy: 0.9305 - loss: 0.1844 - val_accuracy: 0.8875 - val_loss: 0.4808\n",
      "Epoch 38/100\n",
      "\u001b[1m10/10\u001b[0m \u001b[32m━━━━━━━━━━━━━━━━━━━━\u001b[0m\u001b[37m\u001b[0m \u001b[1m0s\u001b[0m 8ms/step - accuracy: 0.9283 - loss: 0.1639 - val_accuracy: 0.8875 - val_loss: 0.5065\n",
      "Epoch 39/100\n",
      "\u001b[1m10/10\u001b[0m \u001b[32m━━━━━━━━━━━━━━━━━━━━\u001b[0m\u001b[37m\u001b[0m \u001b[1m0s\u001b[0m 7ms/step - accuracy: 0.9489 - loss: 0.1562 - val_accuracy: 0.8875 - val_loss: 0.5046\n",
      "Epoch 40/100\n",
      "\u001b[1m10/10\u001b[0m \u001b[32m━━━━━━━━━━━━━━━━━━━━\u001b[0m\u001b[37m\u001b[0m \u001b[1m0s\u001b[0m 9ms/step - accuracy: 0.9385 - loss: 0.1701 - val_accuracy: 0.8875 - val_loss: 0.4962\n",
      "Epoch 41/100\n",
      "\u001b[1m10/10\u001b[0m \u001b[32m━━━━━━━━━━━━━━━━━━━━\u001b[0m\u001b[37m\u001b[0m \u001b[1m0s\u001b[0m 10ms/step - accuracy: 0.9404 - loss: 0.1601 - val_accuracy: 0.8875 - val_loss: 0.5307\n",
      "Epoch 42/100\n",
      "\u001b[1m10/10\u001b[0m \u001b[32m━━━━━━━━━━━━━━━━━━━━\u001b[0m\u001b[37m\u001b[0m \u001b[1m0s\u001b[0m 9ms/step - accuracy: 0.9420 - loss: 0.1810 - val_accuracy: 0.8750 - val_loss: 0.4836\n",
      "Epoch 43/100\n",
      "\u001b[1m10/10\u001b[0m \u001b[32m━━━━━━━━━━━━━━━━━━━━\u001b[0m\u001b[37m\u001b[0m \u001b[1m0s\u001b[0m 7ms/step - accuracy: 0.9486 - loss: 0.1607 - val_accuracy: 0.8875 - val_loss: 0.5097\n",
      "Epoch 44/100\n",
      "\u001b[1m10/10\u001b[0m \u001b[32m━━━━━━━━━━━━━━━━━━━━\u001b[0m\u001b[37m\u001b[0m \u001b[1m0s\u001b[0m 9ms/step - accuracy: 0.9427 - loss: 0.1624 - val_accuracy: 0.8875 - val_loss: 0.5145\n",
      "Epoch 45/100\n",
      "\u001b[1m10/10\u001b[0m \u001b[32m━━━━━━━━━━━━━━━━━━━━\u001b[0m\u001b[37m\u001b[0m \u001b[1m0s\u001b[0m 7ms/step - accuracy: 0.9416 - loss: 0.1597 - val_accuracy: 0.8875 - val_loss: 0.5010\n",
      "Epoch 46/100\n",
      "\u001b[1m10/10\u001b[0m \u001b[32m━━━━━━━━━━━━━━━━━━━━\u001b[0m\u001b[37m\u001b[0m \u001b[1m0s\u001b[0m 9ms/step - accuracy: 0.9475 - loss: 0.1526 - val_accuracy: 0.8875 - val_loss: 0.5334\n",
      "Epoch 47/100\n",
      "\u001b[1m10/10\u001b[0m \u001b[32m━━━━━━━━━━━━━━━━━━━━\u001b[0m\u001b[37m\u001b[0m \u001b[1m0s\u001b[0m 7ms/step - accuracy: 0.9554 - loss: 0.1612 - val_accuracy: 0.8875 - val_loss: 0.5034\n",
      "Epoch 48/100\n",
      "\u001b[1m10/10\u001b[0m \u001b[32m━━━━━━━━━━━━━━━━━━━━\u001b[0m\u001b[37m\u001b[0m \u001b[1m0s\u001b[0m 8ms/step - accuracy: 0.9534 - loss: 0.1462 - val_accuracy: 0.8875 - val_loss: 0.5067\n",
      "Epoch 49/100\n",
      "\u001b[1m10/10\u001b[0m \u001b[32m━━━━━━━━━━━━━━━━━━━━\u001b[0m\u001b[37m\u001b[0m \u001b[1m0s\u001b[0m 8ms/step - accuracy: 0.9370 - loss: 0.1597 - val_accuracy: 0.8875 - val_loss: 0.5131\n",
      "Epoch 50/100\n",
      "\u001b[1m10/10\u001b[0m \u001b[32m━━━━━━━━━━━━━━━━━━━━\u001b[0m\u001b[37m\u001b[0m \u001b[1m0s\u001b[0m 7ms/step - accuracy: 0.9290 - loss: 0.1902 - val_accuracy: 0.8875 - val_loss: 0.4968\n",
      "Epoch 51/100\n",
      "\u001b[1m10/10\u001b[0m \u001b[32m━━━━━━━━━━━━━━━━━━━━\u001b[0m\u001b[37m\u001b[0m \u001b[1m0s\u001b[0m 8ms/step - accuracy: 0.9332 - loss: 0.1649 - val_accuracy: 0.8875 - val_loss: 0.5209\n",
      "Epoch 52/100\n",
      "\u001b[1m10/10\u001b[0m \u001b[32m━━━━━━━━━━━━━━━━━━━━\u001b[0m\u001b[37m\u001b[0m \u001b[1m0s\u001b[0m 9ms/step - accuracy: 0.9256 - loss: 0.1841 - val_accuracy: 0.8875 - val_loss: 0.5163\n",
      "Epoch 53/100\n",
      "\u001b[1m10/10\u001b[0m \u001b[32m━━━━━━━━━━━━━━━━━━━━\u001b[0m\u001b[37m\u001b[0m \u001b[1m0s\u001b[0m 7ms/step - accuracy: 0.9472 - loss: 0.1431 - val_accuracy: 0.8875 - val_loss: 0.5155\n",
      "Epoch 54/100\n",
      "\u001b[1m10/10\u001b[0m \u001b[32m━━━━━━━━━━━━━━━━━━━━\u001b[0m\u001b[37m\u001b[0m \u001b[1m0s\u001b[0m 7ms/step - accuracy: 0.9538 - loss: 0.1448 - val_accuracy: 0.8875 - val_loss: 0.5117\n",
      "Epoch 55/100\n",
      "\u001b[1m10/10\u001b[0m \u001b[32m━━━━━━━━━━━━━━━━━━━━\u001b[0m\u001b[37m\u001b[0m \u001b[1m0s\u001b[0m 8ms/step - accuracy: 0.9377 - loss: 0.1681 - val_accuracy: 0.8875 - val_loss: 0.5210\n",
      "Epoch 56/100\n",
      "\u001b[1m10/10\u001b[0m \u001b[32m━━━━━━━━━━━━━━━━━━━━\u001b[0m\u001b[37m\u001b[0m \u001b[1m0s\u001b[0m 7ms/step - accuracy: 0.9707 - loss: 0.1350 - val_accuracy: 0.8750 - val_loss: 0.5140\n",
      "Epoch 57/100\n",
      "\u001b[1m10/10\u001b[0m \u001b[32m━━━━━━━━━━━━━━━━━━━━\u001b[0m\u001b[37m\u001b[0m \u001b[1m0s\u001b[0m 7ms/step - accuracy: 0.9418 - loss: 0.1684 - val_accuracy: 0.8875 - val_loss: 0.5251\n",
      "Epoch 58/100\n",
      "\u001b[1m10/10\u001b[0m \u001b[32m━━━━━━━━━━━━━━━━━━━━\u001b[0m\u001b[37m\u001b[0m \u001b[1m0s\u001b[0m 9ms/step - accuracy: 0.9501 - loss: 0.1482 - val_accuracy: 0.8875 - val_loss: 0.5118\n",
      "Epoch 59/100\n",
      "\u001b[1m10/10\u001b[0m \u001b[32m━━━━━━━━━━━━━━━━━━━━\u001b[0m\u001b[37m\u001b[0m \u001b[1m0s\u001b[0m 7ms/step - accuracy: 0.9483 - loss: 0.1551 - val_accuracy: 0.8875 - val_loss: 0.5123\n",
      "Epoch 60/100\n",
      "\u001b[1m10/10\u001b[0m \u001b[32m━━━━━━━━━━━━━━━━━━━━\u001b[0m\u001b[37m\u001b[0m \u001b[1m0s\u001b[0m 8ms/step - accuracy: 0.9300 - loss: 0.1842 - val_accuracy: 0.8875 - val_loss: 0.5376\n",
      "Epoch 61/100\n",
      "\u001b[1m10/10\u001b[0m \u001b[32m━━━━━━━━━━━━━━━━━━━━\u001b[0m\u001b[37m\u001b[0m \u001b[1m0s\u001b[0m 7ms/step - accuracy: 0.9436 - loss: 0.1351 - val_accuracy: 0.8875 - val_loss: 0.5328\n",
      "Epoch 62/100\n",
      "\u001b[1m10/10\u001b[0m \u001b[32m━━━━━━━━━━━━━━━━━━━━\u001b[0m\u001b[37m\u001b[0m \u001b[1m0s\u001b[0m 8ms/step - accuracy: 0.9593 - loss: 0.1358 - val_accuracy: 0.8875 - val_loss: 0.5033\n",
      "Epoch 63/100\n",
      "\u001b[1m10/10\u001b[0m \u001b[32m━━━━━━━━━━━━━━━━━━━━\u001b[0m\u001b[37m\u001b[0m \u001b[1m0s\u001b[0m 7ms/step - accuracy: 0.9463 - loss: 0.1413 - val_accuracy: 0.8875 - val_loss: 0.5638\n",
      "Epoch 64/100\n",
      "\u001b[1m10/10\u001b[0m \u001b[32m━━━━━━━━━━━━━━━━━━━━\u001b[0m\u001b[37m\u001b[0m \u001b[1m0s\u001b[0m 8ms/step - accuracy: 0.9383 - loss: 0.1668 - val_accuracy: 0.8875 - val_loss: 0.5202\n",
      "Epoch 65/100\n",
      "\u001b[1m10/10\u001b[0m \u001b[32m━━━━━━━━━━━━━━━━━━━━\u001b[0m\u001b[37m\u001b[0m \u001b[1m0s\u001b[0m 7ms/step - accuracy: 0.9426 - loss: 0.1713 - val_accuracy: 0.8875 - val_loss: 0.5376\n",
      "Epoch 66/100\n",
      "\u001b[1m10/10\u001b[0m \u001b[32m━━━━━━━━━━━━━━━━━━━━\u001b[0m\u001b[37m\u001b[0m \u001b[1m0s\u001b[0m 8ms/step - accuracy: 0.9449 - loss: 0.1598 - val_accuracy: 0.8875 - val_loss: 0.5088\n",
      "Epoch 67/100\n",
      "\u001b[1m10/10\u001b[0m \u001b[32m━━━━━━━━━━━━━━━━━━━━\u001b[0m\u001b[37m\u001b[0m \u001b[1m0s\u001b[0m 7ms/step - accuracy: 0.9464 - loss: 0.1533 - val_accuracy: 0.8875 - val_loss: 0.5557\n",
      "Epoch 68/100\n",
      "\u001b[1m10/10\u001b[0m \u001b[32m━━━━━━━━━━━━━━━━━━━━\u001b[0m\u001b[37m\u001b[0m \u001b[1m0s\u001b[0m 8ms/step - accuracy: 0.9451 - loss: 0.1798 - val_accuracy: 0.8750 - val_loss: 0.5061\n",
      "Epoch 69/100\n",
      "\u001b[1m10/10\u001b[0m \u001b[32m━━━━━━━━━━━━━━━━━━━━\u001b[0m\u001b[37m\u001b[0m \u001b[1m0s\u001b[0m 7ms/step - accuracy: 0.9511 - loss: 0.1625 - val_accuracy: 0.8875 - val_loss: 0.5326\n",
      "Epoch 70/100\n",
      "\u001b[1m10/10\u001b[0m \u001b[32m━━━━━━━━━━━━━━━━━━━━\u001b[0m\u001b[37m\u001b[0m \u001b[1m0s\u001b[0m 8ms/step - accuracy: 0.9513 - loss: 0.1396 - val_accuracy: 0.8875 - val_loss: 0.5577\n",
      "Epoch 71/100\n",
      "\u001b[1m10/10\u001b[0m \u001b[32m━━━━━━━━━━━━━━━━━━━━\u001b[0m\u001b[37m\u001b[0m \u001b[1m0s\u001b[0m 8ms/step - accuracy: 0.9435 - loss: 0.1527 - val_accuracy: 0.8875 - val_loss: 0.5156\n",
      "Epoch 72/100\n",
      "\u001b[1m10/10\u001b[0m \u001b[32m━━━━━━━━━━━━━━━━━━━━\u001b[0m\u001b[37m\u001b[0m \u001b[1m0s\u001b[0m 8ms/step - accuracy: 0.9464 - loss: 0.1642 - val_accuracy: 0.8875 - val_loss: 0.5303\n",
      "Epoch 73/100\n",
      "\u001b[1m10/10\u001b[0m \u001b[32m━━━━━━━━━━━━━━━━━━━━\u001b[0m\u001b[37m\u001b[0m \u001b[1m0s\u001b[0m 7ms/step - accuracy: 0.9417 - loss: 0.1593 - val_accuracy: 0.8875 - val_loss: 0.5629\n",
      "Epoch 74/100\n",
      "\u001b[1m10/10\u001b[0m \u001b[32m━━━━━━━━━━━━━━━━━━━━\u001b[0m\u001b[37m\u001b[0m \u001b[1m0s\u001b[0m 9ms/step - accuracy: 0.9303 - loss: 0.1745 - val_accuracy: 0.8875 - val_loss: 0.5271\n",
      "Epoch 75/100\n",
      "\u001b[1m10/10\u001b[0m \u001b[32m━━━━━━━━━━━━━━━━━━━━\u001b[0m\u001b[37m\u001b[0m \u001b[1m0s\u001b[0m 8ms/step - accuracy: 0.9290 - loss: 0.1885 - val_accuracy: 0.8875 - val_loss: 0.5327\n",
      "Epoch 76/100\n",
      "\u001b[1m10/10\u001b[0m \u001b[32m━━━━━━━━━━━━━━━━━━━━\u001b[0m\u001b[37m\u001b[0m \u001b[1m0s\u001b[0m 8ms/step - accuracy: 0.9300 - loss: 0.1784 - val_accuracy: 0.8875 - val_loss: 0.5370\n",
      "Epoch 77/100\n",
      "\u001b[1m10/10\u001b[0m \u001b[32m━━━━━━━━━━━━━━━━━━━━\u001b[0m\u001b[37m\u001b[0m \u001b[1m0s\u001b[0m 7ms/step - accuracy: 0.9443 - loss: 0.1392 - val_accuracy: 0.8875 - val_loss: 0.5517\n",
      "Epoch 78/100\n",
      "\u001b[1m10/10\u001b[0m \u001b[32m━━━━━━━━━━━━━━━━━━━━\u001b[0m\u001b[37m\u001b[0m \u001b[1m0s\u001b[0m 8ms/step - accuracy: 0.9454 - loss: 0.1617 - val_accuracy: 0.8875 - val_loss: 0.5351\n",
      "Epoch 79/100\n",
      "\u001b[1m10/10\u001b[0m \u001b[32m━━━━━━━━━━━━━━━━━━━━\u001b[0m\u001b[37m\u001b[0m \u001b[1m0s\u001b[0m 8ms/step - accuracy: 0.9419 - loss: 0.1507 - val_accuracy: 0.8875 - val_loss: 0.5397\n",
      "Epoch 80/100\n",
      "\u001b[1m10/10\u001b[0m \u001b[32m━━━━━━━━━━━━━━━━━━━━\u001b[0m\u001b[37m\u001b[0m \u001b[1m0s\u001b[0m 8ms/step - accuracy: 0.9269 - loss: 0.1676 - val_accuracy: 0.8875 - val_loss: 0.5296\n",
      "Epoch 81/100\n",
      "\u001b[1m10/10\u001b[0m \u001b[32m━━━━━━━━━━━━━━━━━━━━\u001b[0m\u001b[37m\u001b[0m \u001b[1m0s\u001b[0m 9ms/step - accuracy: 0.9413 - loss: 0.1522 - val_accuracy: 0.8875 - val_loss: 0.5186\n",
      "Epoch 82/100\n",
      "\u001b[1m10/10\u001b[0m \u001b[32m━━━━━━━━━━━━━━━━━━━━\u001b[0m\u001b[37m\u001b[0m \u001b[1m0s\u001b[0m 8ms/step - accuracy: 0.9541 - loss: 0.1359 - val_accuracy: 0.8875 - val_loss: 0.5472\n",
      "Epoch 83/100\n",
      "\u001b[1m10/10\u001b[0m \u001b[32m━━━━━━━━━━━━━━━━━━━━\u001b[0m\u001b[37m\u001b[0m \u001b[1m0s\u001b[0m 8ms/step - accuracy: 0.9347 - loss: 0.1687 - val_accuracy: 0.8875 - val_loss: 0.5294\n",
      "Epoch 84/100\n",
      "\u001b[1m10/10\u001b[0m \u001b[32m━━━━━━━━━━━━━━━━━━━━\u001b[0m\u001b[37m\u001b[0m \u001b[1m0s\u001b[0m 9ms/step - accuracy: 0.9416 - loss: 0.1398 - val_accuracy: 0.8875 - val_loss: 0.5306\n",
      "Epoch 85/100\n",
      "\u001b[1m10/10\u001b[0m \u001b[32m━━━━━━━━━━━━━━━━━━━━\u001b[0m\u001b[37m\u001b[0m \u001b[1m0s\u001b[0m 7ms/step - accuracy: 0.9274 - loss: 0.1870 - val_accuracy: 0.8875 - val_loss: 0.5526\n",
      "Epoch 86/100\n",
      "\u001b[1m10/10\u001b[0m \u001b[32m━━━━━━━━━━━━━━━━━━━━\u001b[0m\u001b[37m\u001b[0m \u001b[1m0s\u001b[0m 8ms/step - accuracy: 0.9684 - loss: 0.1133 - val_accuracy: 0.8875 - val_loss: 0.5488\n",
      "Epoch 87/100\n",
      "\u001b[1m10/10\u001b[0m \u001b[32m━━━━━━━━━━━━━━━━━━━━\u001b[0m\u001b[37m\u001b[0m \u001b[1m0s\u001b[0m 8ms/step - accuracy: 0.9371 - loss: 0.1570 - val_accuracy: 0.8875 - val_loss: 0.5268\n",
      "Epoch 88/100\n",
      "\u001b[1m10/10\u001b[0m \u001b[32m━━━━━━━━━━━━━━━━━━━━\u001b[0m\u001b[37m\u001b[0m \u001b[1m0s\u001b[0m 9ms/step - accuracy: 0.9417 - loss: 0.1494 - val_accuracy: 0.8875 - val_loss: 0.5385\n",
      "Epoch 89/100\n",
      "\u001b[1m10/10\u001b[0m \u001b[32m━━━━━━━━━━━━━━━━━━━━\u001b[0m\u001b[37m\u001b[0m \u001b[1m0s\u001b[0m 8ms/step - accuracy: 0.9310 - loss: 0.1711 - val_accuracy: 0.8875 - val_loss: 0.5683\n",
      "Epoch 90/100\n",
      "\u001b[1m10/10\u001b[0m \u001b[32m━━━━━━━━━━━━━━━━━━━━\u001b[0m\u001b[37m\u001b[0m \u001b[1m0s\u001b[0m 8ms/step - accuracy: 0.9659 - loss: 0.1260 - val_accuracy: 0.8750 - val_loss: 0.5590\n",
      "Epoch 91/100\n",
      "\u001b[1m10/10\u001b[0m \u001b[32m━━━━━━━━━━━━━━━━━━━━\u001b[0m\u001b[37m\u001b[0m \u001b[1m0s\u001b[0m 7ms/step - accuracy: 0.9427 - loss: 0.1479 - val_accuracy: 0.8875 - val_loss: 0.5550\n",
      "Epoch 92/100\n",
      "\u001b[1m10/10\u001b[0m \u001b[32m━━━━━━━━━━━━━━━━━━━━\u001b[0m\u001b[37m\u001b[0m \u001b[1m0s\u001b[0m 8ms/step - accuracy: 0.9370 - loss: 0.1616 - val_accuracy: 0.8875 - val_loss: 0.5376\n",
      "Epoch 93/100\n",
      "\u001b[1m10/10\u001b[0m \u001b[32m━━━━━━━━━━━━━━━━━━━━\u001b[0m\u001b[37m\u001b[0m \u001b[1m0s\u001b[0m 9ms/step - accuracy: 0.9545 - loss: 0.1441 - val_accuracy: 0.8875 - val_loss: 0.5359\n",
      "Epoch 94/100\n",
      "\u001b[1m10/10\u001b[0m \u001b[32m━━━━━━━━━━━━━━━━━━━━\u001b[0m\u001b[37m\u001b[0m \u001b[1m0s\u001b[0m 8ms/step - accuracy: 0.9412 - loss: 0.1480 - val_accuracy: 0.8875 - val_loss: 0.5366\n",
      "Epoch 95/100\n",
      "\u001b[1m10/10\u001b[0m \u001b[32m━━━━━━━━━━━━━━━━━━━━\u001b[0m\u001b[37m\u001b[0m \u001b[1m0s\u001b[0m 8ms/step - accuracy: 0.9507 - loss: 0.1371 - val_accuracy: 0.8875 - val_loss: 0.5413\n",
      "Epoch 96/100\n",
      "\u001b[1m10/10\u001b[0m \u001b[32m━━━━━━━━━━━━━━━━━━━━\u001b[0m\u001b[37m\u001b[0m \u001b[1m0s\u001b[0m 10ms/step - accuracy: 0.9364 - loss: 0.1529 - val_accuracy: 0.8875 - val_loss: 0.5482\n",
      "Epoch 97/100\n",
      "\u001b[1m10/10\u001b[0m \u001b[32m━━━━━━━━━━━━━━━━━━━━\u001b[0m\u001b[37m\u001b[0m \u001b[1m0s\u001b[0m 8ms/step - accuracy: 0.9382 - loss: 0.1475 - val_accuracy: 0.8875 - val_loss: 0.5612\n",
      "Epoch 98/100\n",
      "\u001b[1m10/10\u001b[0m \u001b[32m━━━━━━━━━━━━━━━━━━━━\u001b[0m\u001b[37m\u001b[0m \u001b[1m0s\u001b[0m 9ms/step - accuracy: 0.9560 - loss: 0.1191 - val_accuracy: 0.8875 - val_loss: 0.5521\n",
      "Epoch 99/100\n",
      "\u001b[1m10/10\u001b[0m \u001b[32m━━━━━━━━━━━━━━━━━━━━\u001b[0m\u001b[37m\u001b[0m \u001b[1m0s\u001b[0m 10ms/step - accuracy: 0.9357 - loss: 0.1639 - val_accuracy: 0.8875 - val_loss: 0.5498\n",
      "Epoch 100/100\n",
      "\u001b[1m10/10\u001b[0m \u001b[32m━━━━━━━━━━━━━━━━━━━━\u001b[0m\u001b[37m\u001b[0m \u001b[1m0s\u001b[0m 8ms/step - accuracy: 0.9499 - loss: 0.1268 - val_accuracy: 0.8875 - val_loss: 0.5521\n"
     ]
    }
   ],
   "source": [
    "history_with_feature_scaling = dnn.fit(x_train_scaled , y_train , validation_data = (x_test_scaled , y_test) , epochs = 100)"
   ]
  },
  {
   "cell_type": "markdown",
   "id": "22f7b143",
   "metadata": {},
   "source": [
    "#### Insights : \n",
    "\n",
    "#### 1. performance without feature scaling is training accuracy  : 0.4397  and testing accuracy is val_accuracy: 0.6375 \n",
    "#### 2. performance with feature scaling and with weight initializer is training accuracy  : 0.9497  and testing accuracy is val_accuracy: 0.8875"
   ]
  },
  {
   "cell_type": "markdown",
   "id": "046ea7dd",
   "metadata": {},
   "source": [
    "#### You must need to do feature scaling in DNN for better performance"
   ]
  },
  {
   "cell_type": "markdown",
   "id": "abaad8f5",
   "metadata": {},
   "source": [
    "#### Weight values of DNN model"
   ]
  },
  {
   "cell_type": "code",
   "execution_count": 35,
   "id": "15e61ac3",
   "metadata": {
    "scrolled": false
   },
   "outputs": [
    {
     "data": {
      "text/plain": [
       "[array([[-0.06687543, -0.48905134,  1.4418443 , -0.04300503,  1.3622063 ,\n",
       "         -0.84628856, -1.3999393 , -0.06949331, -0.12282033,  0.33411992,\n",
       "          0.17335485,  0.75179195, -1.1528227 ,  0.5743752 ,  0.42378786,\n",
       "          0.93185323,  0.4768335 ,  0.39265618,  0.16563894, -0.396044  ,\n",
       "          0.44283134,  1.4757266 , -0.05991428, -0.20867483,  1.6932392 ,\n",
       "          1.0373856 , -0.13839795, -0.13832338,  0.43144733,  0.0543253 ,\n",
       "          0.44003823, -1.1423404 ,  0.09638594, -0.05161387, -0.6366404 ,\n",
       "         -0.96183056, -0.7919222 ,  0.08241702,  0.09714081, -0.10270777,\n",
       "         -0.24670024, -1.1268618 ,  0.24292983, -0.94668657, -0.12186126,\n",
       "         -0.94476897, -0.8236492 , -1.3598318 ,  0.5544606 ,  1.8427491 ,\n",
       "         -1.6985868 ,  0.8665779 , -1.37908   ,  0.5624222 , -0.4881173 ,\n",
       "         -1.6321722 ,  0.39588234,  0.7063077 , -1.1610163 ,  0.16285102,\n",
       "         -0.9004177 ,  0.28467247,  1.2420475 ,  1.5487298 , -0.53585947,\n",
       "         -1.4671533 ,  1.6750392 ,  0.315122  ,  1.2131778 ,  1.2918409 ,\n",
       "          1.0301023 , -0.2828624 ,  1.204446  , -0.02051155, -0.85910815,\n",
       "         -0.04654673, -1.0502857 , -0.347798  , -0.30948907, -0.6315406 ,\n",
       "         -0.20023187,  1.4288458 , -0.583243  ,  0.46604386,  0.5535893 ,\n",
       "          0.07964493,  1.3337299 ,  0.40559626, -0.6846797 , -0.00594869,\n",
       "         -0.7430087 ,  0.6251099 , -0.63742334, -1.4854554 , -0.9720194 ,\n",
       "          0.80598104, -1.0246264 ,  1.0051037 ,  0.44476414, -0.22348267,\n",
       "          1.4609827 , -0.7523265 ,  0.17633104, -1.4605837 ,  1.209999  ,\n",
       "         -0.46055734,  0.7803856 , -1.587006  , -0.8445411 , -1.7452203 ,\n",
       "         -1.7305964 , -0.5656396 , -0.47863302,  1.5228957 ,  0.5853136 ,\n",
       "         -0.5532082 , -0.7998129 , -1.1439446 ,  0.9512647 ,  1.3287693 ,\n",
       "         -0.12847002, -0.38529465, -0.9890996 , -1.1283231 ,  0.66690284,\n",
       "         -0.52091014,  1.1367654 , -0.522767  ],\n",
       "        [ 1.4369918 ,  1.4410837 ,  0.9839819 ,  0.3041692 , -0.26975125,\n",
       "          0.576488  , -0.12304998, -1.3847606 ,  0.6744035 ,  0.25046209,\n",
       "          1.3305079 ,  1.0451356 ,  0.3294988 ,  1.5597934 , -1.0856303 ,\n",
       "          1.5055271 , -1.3973838 ,  0.77263004,  0.07872435,  0.4751921 ,\n",
       "          0.47417536,  0.15587409,  0.27326396,  1.1227758 , -0.08645205,\n",
       "         -0.10258542,  0.5003887 , -1.2290305 ,  0.6528912 , -0.34252468,\n",
       "         -1.6032693 ,  0.6261871 , -1.2703786 , -0.69009984,  0.86124897,\n",
       "          1.0076709 , -0.2831467 , -0.69413054,  0.5356856 , -0.19585627,\n",
       "          0.6688411 , -0.6606735 , -1.037938  ,  0.7775176 , -1.8338053 ,\n",
       "         -0.29824582, -1.0580962 ,  1.2590592 ,  0.5883826 ,  0.71211815,\n",
       "         -0.35764194, -0.61131537,  0.5855694 ,  0.38677728, -0.34927642,\n",
       "          0.52391505, -1.2297926 ,  0.49401706, -1.2226865 ,  1.0554671 ,\n",
       "         -0.71565723,  0.03898731, -0.44204435, -1.0672102 , -1.0384092 ,\n",
       "          0.6789016 , -1.5875913 ,  1.0671791 , -1.0542567 ,  1.2742308 ,\n",
       "          0.9349654 ,  0.90660423, -0.53772867,  0.02700566,  0.54999495,\n",
       "         -1.377127  , -0.42052987,  0.9700421 , -0.2725415 , -0.27636144,\n",
       "         -0.8046019 , -0.13503788,  0.43465796, -0.46870866,  0.01806553,\n",
       "          1.0456562 ,  0.13702565, -0.21983382, -0.15224974,  0.19339873,\n",
       "          0.49128196,  0.48911688, -0.60693425,  0.05282496,  0.1035752 ,\n",
       "          0.49191338,  1.5971242 , -1.3847429 ,  0.40893602, -1.0097785 ,\n",
       "          0.25813103, -0.08676307,  0.05376475,  0.880385  ,  0.36672506,\n",
       "          0.02236284, -0.779839  , -0.13203898, -0.12812038, -0.82397616,\n",
       "          0.21562089, -1.121753  ,  1.5182978 ,  0.11082996,  0.3910461 ,\n",
       "          1.2681437 , -1.0461638 ,  0.43688455, -1.0175645 , -0.0945695 ,\n",
       "          0.7003266 , -0.5706518 , -1.2521874 , -0.74084044, -0.22673228,\n",
       "          0.287672  , -0.38813043,  0.6999146 ],\n",
       "        [-0.11455251,  0.03343154,  0.28814158, -0.10230284, -0.7132175 ,\n",
       "          0.5896018 ,  1.250475  , -0.00896486, -1.4896297 , -0.11922102,\n",
       "          0.2771705 , -0.31812176, -1.2961202 ,  0.9591788 , -0.33208698,\n",
       "         -0.51255125,  1.2581816 ,  0.92558974,  0.9971421 , -0.4735654 ,\n",
       "          0.34084123, -0.1962946 ,  0.7443216 ,  0.86698806,  0.8639123 ,\n",
       "          0.7278264 , -0.27177036,  1.01805   ,  1.0906628 ,  0.2773169 ,\n",
       "          1.7960107 ,  0.35816702,  0.803006  , -0.24628219,  0.31521147,\n",
       "          1.256928  ,  1.2556257 ,  0.55427414, -1.3000048 ,  0.7151327 ,\n",
       "          1.1667733 ,  0.8732525 , -0.01563803,  0.08926082,  0.48435968,\n",
       "          0.7565382 ,  0.14166255, -0.96093285, -1.2616988 , -1.1811363 ,\n",
       "          0.09788984,  0.4295467 ,  0.0582723 , -1.332924  ,  1.3197889 ,\n",
       "         -0.666038  ,  0.27287292,  0.02080769, -0.5771908 , -1.4802951 ,\n",
       "         -0.6655022 ,  1.6656053 , -0.80210227, -0.85242397, -0.35046533,\n",
       "          1.1447805 ,  0.94964767, -0.8263331 ,  0.27523607,  0.81706005,\n",
       "         -0.11864046,  0.8943845 ,  0.5049026 , -0.7650254 , -0.13012993,\n",
       "         -0.39858353,  0.18545312, -0.6401541 ,  1.3173327 , -1.1184345 ,\n",
       "          0.0102878 ,  0.96135116, -1.0342844 , -1.6930649 , -1.6677172 ,\n",
       "          1.3917344 , -0.34062943, -1.4438668 , -0.3777983 ,  1.053518  ,\n",
       "          0.47170442,  1.2649904 ,  0.18805882,  1.4552788 ,  0.9354195 ,\n",
       "          1.125735  ,  1.1946554 ,  0.5734753 ,  0.31169975,  0.6144005 ,\n",
       "         -0.5161714 , -0.39120123, -0.6275308 ,  0.09689459, -0.3568869 ,\n",
       "         -1.4526933 ,  0.52817756,  0.8021495 , -1.2323792 , -0.92689025,\n",
       "         -0.24492192,  0.4034926 , -0.02915534,  0.5403741 ,  0.18447691,\n",
       "          0.5399218 , -0.29659045, -0.90867615,  0.09059174, -0.14831011,\n",
       "          1.3505828 ,  0.77232444,  0.1840669 ,  0.9899584 ,  0.76385593,\n",
       "          0.9789185 , -0.0251411 ,  0.25963995]], dtype=float32),\n",
       " array([-0.14695723, -0.08596535,  0.00024021, -0.03994241,  0.0303703 ,\n",
       "         0.03130932, -0.06985264, -0.00972672,  0.04765728,  0.0349428 ,\n",
       "        -0.01319054,  0.03854273, -0.05054016, -0.00111441,  0.04775625,\n",
       "         0.01713127,  0.05736997, -0.02563478, -0.01142687, -0.06966006,\n",
       "        -0.04199761,  0.02932747,  0.02438784, -0.03625843,  0.0082685 ,\n",
       "         0.01244529, -0.02464209,  0.0602804 , -0.02050475,  0.09049096,\n",
       "         0.0765063 , -0.00981371,  0.08589543, -0.02029938, -0.03262698,\n",
       "         0.06091951,  0.01415626, -0.04103623, -0.04751023, -0.02061351,\n",
       "         0.05781118, -0.03481393,  0.0256733 , -0.02798253, -0.09771385,\n",
       "         0.00479084, -0.07090497, -0.03264756,  0.0018768 ,  0.02620324,\n",
       "        -0.00325316,  0.15383641, -0.01941592,  0.03770634, -0.03848878,\n",
       "        -0.012013  ,  0.05411439,  0.0120328 ,  0.00788016, -0.07099665,\n",
       "         0.04032503,  0.08721809,  0.03943601,  0.02199371,  0.08025975,\n",
       "        -0.00264339,  0.1145082 , -0.01556251,  0.08767796, -0.01038124,\n",
       "         0.0546044 , -0.01109478,  0.0357858 , -0.13170627,  0.00186161,\n",
       "        -0.02069554, -0.0103685 , -0.04491914,  0.00552105,  0.04258046,\n",
       "        -0.00733857, -0.03988423,  0.017825  ,  0.02234336, -0.00461055,\n",
       "         0.00324071,  0.02056377,  0.02127287, -0.0072578 ,  0.03707816,\n",
       "        -0.06321482,  0.09723419,  0.02626876,  0.08897682,  0.00656695,\n",
       "        -0.03600533, -0.00220726,  0.15527226,  0.00285346,  0.06685188,\n",
       "        -0.01861472,  0.01788461, -0.0231363 , -0.02967464,  0.00460843,\n",
       "        -0.0193354 ,  0.07434871, -0.01671614,  0.06699017,  0.05876042,\n",
       "        -0.01055674,  0.06296284, -0.02330276, -0.06046072, -0.04647341,\n",
       "         0.01556979, -0.01212292,  0.16309838,  0.07314625, -0.00031635,\n",
       "         0.00991395, -0.02308882,  0.06822912, -0.02616522,  0.02078422,\n",
       "         0.07629407, -0.0143687 , -0.02106047], dtype=float32),\n",
       " array([[-0.15719798,  0.01311657, -0.17343551, ...,  0.02900419,\n",
       "          0.10509223,  0.08731625],\n",
       "        [-0.13528723, -0.01070536,  0.10766716, ..., -0.07302227,\n",
       "         -0.1853012 ,  0.0427561 ],\n",
       "        [-0.09803447,  0.14558686, -0.10953689, ...,  0.20431535,\n",
       "          0.1166846 ,  0.00661015],\n",
       "        ...,\n",
       "        [ 0.11156988, -0.11467597, -0.23398253, ...,  0.10937227,\n",
       "          0.04325192, -0.15377189],\n",
       "        [ 0.07094079, -0.13151538, -0.01969582, ..., -0.06606776,\n",
       "         -0.01508317,  0.11811866],\n",
       "        [-0.0582519 , -0.04680346, -0.3765041 , ..., -0.00288652,\n",
       "          0.17499234, -0.17579421]], dtype=float32),\n",
       " array([ 0.0235654 ,  0.02956273,  0.0364974 , -0.01771097,  0.00275785,\n",
       "         0.        ,  0.00474623,  0.01511311,  0.01985444, -0.01045266,\n",
       "        -0.05354868,  0.01963772,  0.01177906,  0.        ,  0.01988927,\n",
       "        -0.02919877, -0.00074792,  0.02156119, -0.00728019, -0.00163015,\n",
       "         0.03174922,  0.02039549, -0.0040886 ,  0.04235911, -0.0091547 ,\n",
       "        -0.01218738,  0.00296828,  0.00846086,  0.01679861,  0.        ,\n",
       "         0.0062927 ,  0.00748479, -0.02108518,  0.01662865, -0.00413357,\n",
       "        -0.00879613,  0.01501861, -0.00822603,  0.01697192,  0.000308  ,\n",
       "         0.00817964,  0.03525553,  0.01053119, -0.00365022,  0.02170707,\n",
       "         0.00356589,  0.00176502,  0.00428512, -0.00661718, -0.0131944 ,\n",
       "        -0.0126193 ,  0.01423454,  0.01317265,  0.00391258,  0.00184315,\n",
       "         0.01470898, -0.01414575, -0.01527546,  0.0213335 , -0.01496881,\n",
       "         0.00156775, -0.01336999,  0.0354632 , -0.00137695, -0.01489627,\n",
       "        -0.01200214,  0.00261846,  0.        , -0.00045152,  0.03204183,\n",
       "         0.02365606,  0.00435183,  0.00083827, -0.05877451, -0.01121396,\n",
       "         0.        , -0.01221785,  0.01913421,  0.00310499, -0.00276817,\n",
       "        -0.00466394,  0.00247706,  0.0001213 ,  0.008114  ,  0.01147033,\n",
       "         0.01302777, -0.00441067, -0.01143987,  0.008264  ,  0.03443886,\n",
       "         0.04314551, -0.00595559, -0.0062135 ,  0.00782317,  0.02989115,\n",
       "         0.02120143,  0.00666864, -0.00652759,  0.00357533,  0.03597562,\n",
       "        -0.01565138, -0.01849868,  0.03335331,  0.02571563,  0.03031196,\n",
       "        -0.01874089,  0.01129177,  0.01961823,  0.        , -0.01223552,\n",
       "         0.01718455, -0.00709282,  0.01644955, -0.00709502,  0.01277907,\n",
       "         0.00114501, -0.01363338, -0.02901229,  0.01315393,  0.01057571,\n",
       "        -0.01383244, -0.00642077,  0.02153838, -0.01752713, -0.00867591,\n",
       "         0.00144781, -0.01695112, -0.01371155], dtype=float32),\n",
       " array([[ 0.23548397],\n",
       "        [-0.26337555],\n",
       "        [-0.32485917],\n",
       "        [ 0.11648311],\n",
       "        [ 0.13799   ],\n",
       "        [-0.03118218],\n",
       "        [ 0.05229482],\n",
       "        [-0.23908526],\n",
       "        [ 0.22984749],\n",
       "        [-0.1827458 ],\n",
       "        [ 0.2958656 ],\n",
       "        [-0.2159072 ],\n",
       "        [ 0.19513535],\n",
       "        [-0.12422541],\n",
       "        [-0.2746182 ],\n",
       "        [ 0.08059847],\n",
       "        [ 0.09311739],\n",
       "        [-0.20545787],\n",
       "        [ 0.19638619],\n",
       "        [-0.23257421],\n",
       "        [-0.20313688],\n",
       "        [-0.12150464],\n",
       "        [-0.03022145],\n",
       "        [-0.26175857],\n",
       "        [-0.14632744],\n",
       "        [-0.19566353],\n",
       "        [ 0.06033725],\n",
       "        [-0.22930092],\n",
       "        [-0.23536062],\n",
       "        [ 0.20654124],\n",
       "        [ 0.17377912],\n",
       "        [ 0.21586484],\n",
       "        [-0.13606393],\n",
       "        [-0.11963034],\n",
       "        [-0.0569769 ],\n",
       "        [-0.15645793],\n",
       "        [ 0.11706002],\n",
       "        [-0.078563  ],\n",
       "        [-0.11870369],\n",
       "        [-0.18123695],\n",
       "        [-0.25358275],\n",
       "        [-0.08054511],\n",
       "        [ 0.19920377],\n",
       "        [-0.08661932],\n",
       "        [-0.09845202],\n",
       "        [-0.24816507],\n",
       "        [ 0.14541541],\n",
       "        [ 0.21825245],\n",
       "        [-0.09742821],\n",
       "        [-0.10018107],\n",
       "        [-0.19340867],\n",
       "        [ 0.10671104],\n",
       "        [ 0.09247275],\n",
       "        [-0.14558163],\n",
       "        [-0.223556  ],\n",
       "        [-0.12957428],\n",
       "        [-0.0020065 ],\n",
       "        [-0.00778845],\n",
       "        [-0.242703  ],\n",
       "        [ 0.07257282],\n",
       "        [ 0.27914977],\n",
       "        [ 0.12413442],\n",
       "        [-0.19094886],\n",
       "        [ 0.07751086],\n",
       "        [ 0.1422886 ],\n",
       "        [-0.17286202],\n",
       "        [ 0.01662025],\n",
       "        [-0.09704498],\n",
       "        [-0.12136109],\n",
       "        [ 0.12105894],\n",
       "        [-0.25980675],\n",
       "        [ 0.20987278],\n",
       "        [ 0.07074995],\n",
       "        [ 0.22118124],\n",
       "        [-0.13640384],\n",
       "        [ 0.16427109],\n",
       "        [-0.16752726],\n",
       "        [-0.1244565 ],\n",
       "        [ 0.16483144],\n",
       "        [-0.1477813 ],\n",
       "        [-0.20237269],\n",
       "        [ 0.24796546],\n",
       "        [ 0.00388242],\n",
       "        [ 0.09591112],\n",
       "        [ 0.05721023],\n",
       "        [-0.39218712],\n",
       "        [-0.21071297],\n",
       "        [-0.02230712],\n",
       "        [-0.10321371],\n",
       "        [-0.23651823],\n",
       "        [-0.13974406],\n",
       "        [ 0.12909399],\n",
       "        [-0.15914911],\n",
       "        [ 0.11302174],\n",
       "        [ 0.12694755],\n",
       "        [-0.07169095],\n",
       "        [ 0.12628442],\n",
       "        [-0.13361338],\n",
       "        [ 0.1966927 ],\n",
       "        [-0.36266682],\n",
       "        [ 0.24089591],\n",
       "        [-0.03944305],\n",
       "        [-0.1031378 ],\n",
       "        [ 0.14115034],\n",
       "        [-0.19830886],\n",
       "        [-0.20089841],\n",
       "        [ 0.17032894],\n",
       "        [ 0.20430726],\n",
       "        [-0.1648789 ],\n",
       "        [-0.057605  ],\n",
       "        [ 0.136946  ],\n",
       "        [-0.12347486],\n",
       "        [-0.16600916],\n",
       "        [-0.1639234 ],\n",
       "        [-0.27885702],\n",
       "        [-0.17717516],\n",
       "        [ 0.04263815],\n",
       "        [-0.05283208],\n",
       "        [ 0.07647477],\n",
       "        [ 0.20695965],\n",
       "        [-0.16353916],\n",
       "        [ 0.09953137],\n",
       "        [-0.06191954],\n",
       "        [-0.23680939],\n",
       "        [ 0.01390393],\n",
       "        [-0.12247203],\n",
       "        [-0.06988912],\n",
       "        [ 0.00065352]], dtype=float32),\n",
       " array([0.00556535], dtype=float32)]"
      ]
     },
     "execution_count": 35,
     "metadata": {},
     "output_type": "execute_result"
    }
   ],
   "source": [
    "dnn.get_weights()"
   ]
  },
  {
   "cell_type": "markdown",
   "id": "d3c10f21",
   "metadata": {},
   "source": [
    "#### Plot DNN Model"
   ]
  },
  {
   "cell_type": "code",
   "execution_count": 36,
   "id": "7aee87c2",
   "metadata": {},
   "outputs": [
    {
     "data": {
      "text/plain": [
       "<keras.src.callbacks.history.History at 0x2d2e9fe7e90>"
      ]
     },
     "execution_count": 36,
     "metadata": {},
     "output_type": "execute_result"
    }
   ],
   "source": [
    "history_with_feature_scaling"
   ]
  },
  {
   "cell_type": "code",
   "execution_count": 37,
   "id": "66a691b0",
   "metadata": {
    "scrolled": false
   },
   "outputs": [
    {
     "data": {
      "image/png": "[encoded data removed]",
      "text/plain": [
       "<Figure size 2500x1000 with 1 Axes>"
      ]
     },
     "metadata": {},
     "output_type": "display_data"
    }
   ],
   "source": [
    "plt.figure(figsize = (25 , 10))\n",
    "plt.plot(history_with_feature_scaling.history['loss'] , color='magenta', marker='o',\n",
    "         linestyle='dashed',linewidth=1, markersize=5)    # Training Error\n",
    "plt.plot(history_with_feature_scaling.history['val_loss'] , color='red', marker='o',\n",
    "         linestyle='dashed',linewidth=1, markersize=5) # Testing Error\n",
    "plt.xlabel('Epochs / Iterations')\n",
    "plt.ylabel('Loss %')\n",
    "plt.title('Visualization of training error (loss) and testing error(val loss)')\n",
    "plt.show()"
   ]
  },
  {
   "cell_type": "markdown",
   "id": "a46e4667",
   "metadata": {},
   "source": [
    "#### Insights : Training Error is gradually decreasing from first epoch to 100 epoch . At 100th epoch it reaches to 0.1.\n",
    "#### Testing Error is gradually increasing from first epoch to 100 epoch . At 100th epoch it reaches about 0.5"
   ]
  },
  {
   "cell_type": "markdown",
   "id": "d5bd7669",
   "metadata": {},
   "source": [
    "## Regularization method"
   ]
  },
  {
   "cell_type": "markdown",
   "id": "6fc4ec27",
   "metadata": {},
   "source": [
    "#### Regularization method is basically use for to avoid overfitting from your model"
   ]
  },
  {
   "cell_type": "markdown",
   "id": "2cc8d464",
   "metadata": {},
   "source": [
    "#### Kernel regularizer is the regularization methood "
   ]
  },
  {
   "cell_type": "markdown",
   "id": "560b8fda",
   "metadata": {},
   "source": [
    "#### we using Lasso regularization (L1)"
   ]
  },
  {
   "cell_type": "markdown",
   "id": "d70827c6",
   "metadata": {},
   "source": [
    "#### Regularization happened layer wise (In hidden layers)"
   ]
  },
  {
   "cell_type": "markdown",
   "id": "2159a3a0",
   "metadata": {},
   "source": [
    "#### The value 0.001 in keras.regularizers.l1(0.001) represents the regularization strength. It controls the penalty applied to the model's weights during training to prevent overfitting. A value of 0.001 means a relatively small penalty for large weights"
   ]
  },
  {
   "cell_type": "code",
   "execution_count": 54,
   "id": "e0671f5c",
   "metadata": {},
   "outputs": [
    {
     "data": {
      "text/html": [
       "<pre style=\"white-space:pre;overflow-x:auto;line-height:normal;font-family:Menlo,'DejaVu Sans Mono',consolas,'Courier New',monospace\"><span style=\"font-weight: bold\">Model: \"sequential_1\"</span>\n",
       "</pre>\n"
      ],
      "text/plain": [
       "\u001b[1mModel: \"sequential_1\"\u001b[0m\n"
      ]
     },
     "metadata": {},
     "output_type": "display_data"
    },
    {
     "data": {
      "text/html": [
       "<pre style=\"white-space:pre;overflow-x:auto;line-height:normal;font-family:Menlo,'DejaVu Sans Mono',consolas,'Courier New',monospace\">┏━━━━━━━━━━━━━━━━━━━━━━━━━━━━━━━━━━━━━━┳━━━━━━━━━━━━━━━━━━━━━━━━━━━━━┳━━━━━━━━━━━━━━━━━┓\n",
       "┃<span style=\"font-weight: bold\"> Layer (type)                         </span>┃<span style=\"font-weight: bold\"> Output Shape                </span>┃<span style=\"font-weight: bold\">         Param # </span>┃\n",
       "┡━━━━━━━━━━━━━━━━━━━━━━━━━━━━━━━━━━━━━━╇━━━━━━━━━━━━━━━━━━━━━━━━━━━━━╇━━━━━━━━━━━━━━━━━┩\n",
       "│ dense_3 (<span style=\"color: #0087ff; text-decoration-color: #0087ff\">Dense</span>)                      │ (<span style=\"color: #00d7ff; text-decoration-color: #00d7ff\">None</span>, <span style=\"color: #00af00; text-decoration-color: #00af00\">128</span>)                 │             <span style=\"color: #00af00; text-decoration-color: #00af00\">512</span> │\n",
       "├──────────────────────────────────────┼─────────────────────────────┼─────────────────┤\n",
       "│ dense_4 (<span style=\"color: #0087ff; text-decoration-color: #0087ff\">Dense</span>)                      │ (<span style=\"color: #00d7ff; text-decoration-color: #00d7ff\">None</span>, <span style=\"color: #00af00; text-decoration-color: #00af00\">128</span>)                 │          <span style=\"color: #00af00; text-decoration-color: #00af00\">16,512</span> │\n",
       "├──────────────────────────────────────┼─────────────────────────────┼─────────────────┤\n",
       "│ dense_5 (<span style=\"color: #0087ff; text-decoration-color: #0087ff\">Dense</span>)                      │ (<span style=\"color: #00d7ff; text-decoration-color: #00d7ff\">None</span>, <span style=\"color: #00af00; text-decoration-color: #00af00\">1</span>)                   │             <span style=\"color: #00af00; text-decoration-color: #00af00\">129</span> │\n",
       "├──────────────────────────────────────┼─────────────────────────────┼─────────────────┤\n",
       "│ dense_6 (<span style=\"color: #0087ff; text-decoration-color: #0087ff\">Dense</span>)                      │ (<span style=\"color: #00d7ff; text-decoration-color: #00d7ff\">None</span>, <span style=\"color: #00af00; text-decoration-color: #00af00\">128</span>)                 │             <span style=\"color: #00af00; text-decoration-color: #00af00\">256</span> │\n",
       "├──────────────────────────────────────┼─────────────────────────────┼─────────────────┤\n",
       "│ dense_7 (<span style=\"color: #0087ff; text-decoration-color: #0087ff\">Dense</span>)                      │ (<span style=\"color: #00d7ff; text-decoration-color: #00d7ff\">None</span>, <span style=\"color: #00af00; text-decoration-color: #00af00\">128</span>)                 │          <span style=\"color: #00af00; text-decoration-color: #00af00\">16,512</span> │\n",
       "├──────────────────────────────────────┼─────────────────────────────┼─────────────────┤\n",
       "│ dense_8 (<span style=\"color: #0087ff; text-decoration-color: #0087ff\">Dense</span>)                      │ (<span style=\"color: #00d7ff; text-decoration-color: #00d7ff\">None</span>, <span style=\"color: #00af00; text-decoration-color: #00af00\">128</span>)                 │          <span style=\"color: #00af00; text-decoration-color: #00af00\">16,512</span> │\n",
       "├──────────────────────────────────────┼─────────────────────────────┼─────────────────┤\n",
       "│ dense_9 (<span style=\"color: #0087ff; text-decoration-color: #0087ff\">Dense</span>)                      │ (<span style=\"color: #00d7ff; text-decoration-color: #00d7ff\">None</span>, <span style=\"color: #00af00; text-decoration-color: #00af00\">1</span>)                   │             <span style=\"color: #00af00; text-decoration-color: #00af00\">129</span> │\n",
       "├──────────────────────────────────────┼─────────────────────────────┼─────────────────┤\n",
       "│ dense_10 (<span style=\"color: #0087ff; text-decoration-color: #0087ff\">Dense</span>)                     │ (<span style=\"color: #00d7ff; text-decoration-color: #00d7ff\">None</span>, <span style=\"color: #00af00; text-decoration-color: #00af00\">128</span>)                 │             <span style=\"color: #00af00; text-decoration-color: #00af00\">256</span> │\n",
       "├──────────────────────────────────────┼─────────────────────────────┼─────────────────┤\n",
       "│ dense_11 (<span style=\"color: #0087ff; text-decoration-color: #0087ff\">Dense</span>)                     │ (<span style=\"color: #00d7ff; text-decoration-color: #00d7ff\">None</span>, <span style=\"color: #00af00; text-decoration-color: #00af00\">128</span>)                 │          <span style=\"color: #00af00; text-decoration-color: #00af00\">16,512</span> │\n",
       "├──────────────────────────────────────┼─────────────────────────────┼─────────────────┤\n",
       "│ dense_12 (<span style=\"color: #0087ff; text-decoration-color: #0087ff\">Dense</span>)                     │ (<span style=\"color: #00d7ff; text-decoration-color: #00d7ff\">None</span>, <span style=\"color: #00af00; text-decoration-color: #00af00\">1</span>)                   │             <span style=\"color: #00af00; text-decoration-color: #00af00\">129</span> │\n",
       "├──────────────────────────────────────┼─────────────────────────────┼─────────────────┤\n",
       "│ dense_13 (<span style=\"color: #0087ff; text-decoration-color: #0087ff\">Dense</span>)                     │ (<span style=\"color: #00d7ff; text-decoration-color: #00d7ff\">None</span>, <span style=\"color: #00af00; text-decoration-color: #00af00\">128</span>)                 │             <span style=\"color: #00af00; text-decoration-color: #00af00\">256</span> │\n",
       "├──────────────────────────────────────┼─────────────────────────────┼─────────────────┤\n",
       "│ dense_14 (<span style=\"color: #0087ff; text-decoration-color: #0087ff\">Dense</span>)                     │ (<span style=\"color: #00d7ff; text-decoration-color: #00d7ff\">None</span>, <span style=\"color: #00af00; text-decoration-color: #00af00\">128</span>)                 │          <span style=\"color: #00af00; text-decoration-color: #00af00\">16,512</span> │\n",
       "├──────────────────────────────────────┼─────────────────────────────┼─────────────────┤\n",
       "│ dense_15 (<span style=\"color: #0087ff; text-decoration-color: #0087ff\">Dense</span>)                     │ (<span style=\"color: #00d7ff; text-decoration-color: #00d7ff\">None</span>, <span style=\"color: #00af00; text-decoration-color: #00af00\">1</span>)                   │             <span style=\"color: #00af00; text-decoration-color: #00af00\">129</span> │\n",
       "├──────────────────────────────────────┼─────────────────────────────┼─────────────────┤\n",
       "│ dense_16 (<span style=\"color: #0087ff; text-decoration-color: #0087ff\">Dense</span>)                     │ (<span style=\"color: #00d7ff; text-decoration-color: #00d7ff\">None</span>, <span style=\"color: #00af00; text-decoration-color: #00af00\">128</span>)                 │             <span style=\"color: #00af00; text-decoration-color: #00af00\">256</span> │\n",
       "├──────────────────────────────────────┼─────────────────────────────┼─────────────────┤\n",
       "│ dense_17 (<span style=\"color: #0087ff; text-decoration-color: #0087ff\">Dense</span>)                     │ (<span style=\"color: #00d7ff; text-decoration-color: #00d7ff\">None</span>, <span style=\"color: #00af00; text-decoration-color: #00af00\">128</span>)                 │          <span style=\"color: #00af00; text-decoration-color: #00af00\">16,512</span> │\n",
       "├──────────────────────────────────────┼─────────────────────────────┼─────────────────┤\n",
       "│ dense_18 (<span style=\"color: #0087ff; text-decoration-color: #0087ff\">Dense</span>)                     │ (<span style=\"color: #00d7ff; text-decoration-color: #00d7ff\">None</span>, <span style=\"color: #00af00; text-decoration-color: #00af00\">1</span>)                   │             <span style=\"color: #00af00; text-decoration-color: #00af00\">129</span> │\n",
       "├──────────────────────────────────────┼─────────────────────────────┼─────────────────┤\n",
       "│ dense_19 (<span style=\"color: #0087ff; text-decoration-color: #0087ff\">Dense</span>)                     │ (<span style=\"color: #00d7ff; text-decoration-color: #00d7ff\">None</span>, <span style=\"color: #00af00; text-decoration-color: #00af00\">128</span>)                 │             <span style=\"color: #00af00; text-decoration-color: #00af00\">256</span> │\n",
       "├──────────────────────────────────────┼─────────────────────────────┼─────────────────┤\n",
       "│ dense_20 (<span style=\"color: #0087ff; text-decoration-color: #0087ff\">Dense</span>)                     │ (<span style=\"color: #00d7ff; text-decoration-color: #00d7ff\">None</span>, <span style=\"color: #00af00; text-decoration-color: #00af00\">128</span>)                 │          <span style=\"color: #00af00; text-decoration-color: #00af00\">16,512</span> │\n",
       "├──────────────────────────────────────┼─────────────────────────────┼─────────────────┤\n",
       "│ dense_21 (<span style=\"color: #0087ff; text-decoration-color: #0087ff\">Dense</span>)                     │ (<span style=\"color: #00d7ff; text-decoration-color: #00d7ff\">None</span>, <span style=\"color: #00af00; text-decoration-color: #00af00\">1</span>)                   │             <span style=\"color: #00af00; text-decoration-color: #00af00\">129</span> │\n",
       "└──────────────────────────────────────┴─────────────────────────────┴─────────────────┘\n",
       "</pre>\n"
      ],
      "text/plain": [
       "┏━━━━━━━━━━━━━━━━━━━━━━━━━━━━━━━━━━━━━━┳━━━━━━━━━━━━━━━━━━━━━━━━━━━━━┳━━━━━━━━━━━━━━━━━┓\n",
       "┃\u001b[1m \u001b[0m\u001b[1mLayer (type)                        \u001b[0m\u001b[1m \u001b[0m┃\u001b[1m \u001b[0m\u001b[1mOutput Shape               \u001b[0m\u001b[1m \u001b[0m┃\u001b[1m \u001b[0m\u001b[1m        Param #\u001b[0m\u001b[1m \u001b[0m┃\n",
       "┡━━━━━━━━━━━━━━━━━━━━━━━━━━━━━━━━━━━━━━╇━━━━━━━━━━━━━━━━━━━━━━━━━━━━━╇━━━━━━━━━━━━━━━━━┩\n",
       "│ dense_3 (\u001b[38;5;33mDense\u001b[0m)                      │ (\u001b[38;5;45mNone\u001b[0m, \u001b[38;5;34m128\u001b[0m)                 │             \u001b[38;5;34m512\u001b[0m │\n",
       "├──────────────────────────────────────┼─────────────────────────────┼─────────────────┤\n",
       "│ dense_4 (\u001b[38;5;33mDense\u001b[0m)                      │ (\u001b[38;5;45mNone\u001b[0m, \u001b[38;5;34m128\u001b[0m)                 │          \u001b[38;5;34m16,512\u001b[0m │\n",
       "├──────────────────────────────────────┼─────────────────────────────┼─────────────────┤\n",
       "│ dense_5 (\u001b[38;5;33mDense\u001b[0m)                      │ (\u001b[38;5;45mNone\u001b[0m, \u001b[38;5;34m1\u001b[0m)                   │             \u001b[38;5;34m129\u001b[0m │\n",
       "├──────────────────────────────────────┼─────────────────────────────┼─────────────────┤\n",
       "│ dense_6 (\u001b[38;5;33mDense\u001b[0m)                      │ (\u001b[38;5;45mNone\u001b[0m, \u001b[38;5;34m128\u001b[0m)                 │             \u001b[38;5;34m256\u001b[0m │\n",
       "├──────────────────────────────────────┼─────────────────────────────┼─────────────────┤\n",
       "│ dense_7 (\u001b[38;5;33mDense\u001b[0m)                      │ (\u001b[38;5;45mNone\u001b[0m, \u001b[38;5;34m128\u001b[0m)                 │          \u001b[38;5;34m16,512\u001b[0m │\n",
       "├──────────────────────────────────────┼─────────────────────────────┼─────────────────┤\n",
       "│ dense_8 (\u001b[38;5;33mDense\u001b[0m)                      │ (\u001b[38;5;45mNone\u001b[0m, \u001b[38;5;34m128\u001b[0m)                 │          \u001b[38;5;34m16,512\u001b[0m │\n",
       "├──────────────────────────────────────┼─────────────────────────────┼─────────────────┤\n",
       "│ dense_9 (\u001b[38;5;33mDense\u001b[0m)                      │ (\u001b[38;5;45mNone\u001b[0m, \u001b[38;5;34m1\u001b[0m)                   │             \u001b[38;5;34m129\u001b[0m │\n",
       "├──────────────────────────────────────┼─────────────────────────────┼─────────────────┤\n",
       "│ dense_10 (\u001b[38;5;33mDense\u001b[0m)                     │ (\u001b[38;5;45mNone\u001b[0m, \u001b[38;5;34m128\u001b[0m)                 │             \u001b[38;5;34m256\u001b[0m │\n",
       "├──────────────────────────────────────┼─────────────────────────────┼─────────────────┤\n",
       "│ dense_11 (\u001b[38;5;33mDense\u001b[0m)                     │ (\u001b[38;5;45mNone\u001b[0m, \u001b[38;5;34m128\u001b[0m)                 │          \u001b[38;5;34m16,512\u001b[0m │\n",
       "├──────────────────────────────────────┼─────────────────────────────┼─────────────────┤\n",
       "│ dense_12 (\u001b[38;5;33mDense\u001b[0m)                     │ (\u001b[38;5;45mNone\u001b[0m, \u001b[38;5;34m1\u001b[0m)                   │             \u001b[38;5;34m129\u001b[0m │\n",
       "├──────────────────────────────────────┼─────────────────────────────┼─────────────────┤\n",
       "│ dense_13 (\u001b[38;5;33mDense\u001b[0m)                     │ (\u001b[38;5;45mNone\u001b[0m, \u001b[38;5;34m128\u001b[0m)                 │             \u001b[38;5;34m256\u001b[0m │\n",
       "├──────────────────────────────────────┼─────────────────────────────┼─────────────────┤\n",
       "│ dense_14 (\u001b[38;5;33mDense\u001b[0m)                     │ (\u001b[38;5;45mNone\u001b[0m, \u001b[38;5;34m128\u001b[0m)                 │          \u001b[38;5;34m16,512\u001b[0m │\n",
       "├──────────────────────────────────────┼─────────────────────────────┼─────────────────┤\n",
       "│ dense_15 (\u001b[38;5;33mDense\u001b[0m)                     │ (\u001b[38;5;45mNone\u001b[0m, \u001b[38;5;34m1\u001b[0m)                   │             \u001b[38;5;34m129\u001b[0m │\n",
       "├──────────────────────────────────────┼─────────────────────────────┼─────────────────┤\n",
       "│ dense_16 (\u001b[38;5;33mDense\u001b[0m)                     │ (\u001b[38;5;45mNone\u001b[0m, \u001b[38;5;34m128\u001b[0m)                 │             \u001b[38;5;34m256\u001b[0m │\n",
       "├──────────────────────────────────────┼─────────────────────────────┼─────────────────┤\n",
       "│ dense_17 (\u001b[38;5;33mDense\u001b[0m)                     │ (\u001b[38;5;45mNone\u001b[0m, \u001b[38;5;34m128\u001b[0m)                 │          \u001b[38;5;34m16,512\u001b[0m │\n",
       "├──────────────────────────────────────┼─────────────────────────────┼─────────────────┤\n",
       "│ dense_18 (\u001b[38;5;33mDense\u001b[0m)                     │ (\u001b[38;5;45mNone\u001b[0m, \u001b[38;5;34m1\u001b[0m)                   │             \u001b[38;5;34m129\u001b[0m │\n",
       "├──────────────────────────────────────┼─────────────────────────────┼─────────────────┤\n",
       "│ dense_19 (\u001b[38;5;33mDense\u001b[0m)                     │ (\u001b[38;5;45mNone\u001b[0m, \u001b[38;5;34m128\u001b[0m)                 │             \u001b[38;5;34m256\u001b[0m │\n",
       "├──────────────────────────────────────┼─────────────────────────────┼─────────────────┤\n",
       "│ dense_20 (\u001b[38;5;33mDense\u001b[0m)                     │ (\u001b[38;5;45mNone\u001b[0m, \u001b[38;5;34m128\u001b[0m)                 │          \u001b[38;5;34m16,512\u001b[0m │\n",
       "├──────────────────────────────────────┼─────────────────────────────┼─────────────────┤\n",
       "│ dense_21 (\u001b[38;5;33mDense\u001b[0m)                     │ (\u001b[38;5;45mNone\u001b[0m, \u001b[38;5;34m1\u001b[0m)                   │             \u001b[38;5;34m129\u001b[0m │\n",
       "└──────────────────────────────────────┴─────────────────────────────┴─────────────────┘\n"
      ]
     },
     "metadata": {},
     "output_type": "display_data"
    },
    {
     "data": {
      "text/html": [
       "<pre style=\"white-space:pre;overflow-x:auto;line-height:normal;font-family:Menlo,'DejaVu Sans Mono',consolas,'Courier New',monospace\"><span style=\"font-weight: bold\"> Total params: </span><span style=\"color: #00af00; text-decoration-color: #00af00\">320,658</span> (1.22 MB)\n",
       "</pre>\n"
      ],
      "text/plain": [
       "\u001b[1m Total params: \u001b[0m\u001b[38;5;34m320,658\u001b[0m (1.22 MB)\n"
      ]
     },
     "metadata": {},
     "output_type": "display_data"
    },
    {
     "data": {
      "text/html": [
       "<pre style=\"white-space:pre;overflow-x:auto;line-height:normal;font-family:Menlo,'DejaVu Sans Mono',consolas,'Courier New',monospace\"><span style=\"font-weight: bold\"> Trainable params: </span><span style=\"color: #00af00; text-decoration-color: #00af00\">118,150</span> (461.52 KB)\n",
       "</pre>\n"
      ],
      "text/plain": [
       "\u001b[1m Trainable params: \u001b[0m\u001b[38;5;34m118,150\u001b[0m (461.52 KB)\n"
      ]
     },
     "metadata": {},
     "output_type": "display_data"
    },
    {
     "data": {
      "text/html": [
       "<pre style=\"white-space:pre;overflow-x:auto;line-height:normal;font-family:Menlo,'DejaVu Sans Mono',consolas,'Courier New',monospace\"><span style=\"font-weight: bold\"> Non-trainable params: </span><span style=\"color: #00af00; text-decoration-color: #00af00\">0</span> (0.00 B)\n",
       "</pre>\n"
      ],
      "text/plain": [
       "\u001b[1m Non-trainable params: \u001b[0m\u001b[38;5;34m0\u001b[0m (0.00 B)\n"
      ]
     },
     "metadata": {},
     "output_type": "display_data"
    },
    {
     "data": {
      "text/html": [
       "<pre style=\"white-space:pre;overflow-x:auto;line-height:normal;font-family:Menlo,'DejaVu Sans Mono',consolas,'Courier New',monospace\"><span style=\"font-weight: bold\"> Optimizer params: </span><span style=\"color: #00af00; text-decoration-color: #00af00\">202,508</span> (791.05 KB)\n",
       "</pre>\n"
      ],
      "text/plain": [
       "\u001b[1m Optimizer params: \u001b[0m\u001b[38;5;34m202,508\u001b[0m (791.05 KB)\n"
      ]
     },
     "metadata": {},
     "output_type": "display_data"
    }
   ],
   "source": [
    "dnn.add(Dense(128 , activation = 'relu' , input_dim = 3 , kernel_initializer='he_normal' , \n",
    "              kernel_regularizer = keras.regularizers.l1(0.001)))\n",
    "dnn.add(Dense(128 , activation = 'relu' , kernel_initializer = 'he_normal' ,\n",
    "              kernel_regularizer = keras.regularizers.l1(0.001)))\n",
    "dnn.add(Dense(1 , activation = 'sigmoid' , kernel_initializer = 'glorot_uniform'))\n",
    "dnn.summary()"
   ]
  },
  {
   "cell_type": "code",
   "execution_count": 55,
   "id": "d22b01f4",
   "metadata": {
    "scrolled": false
   },
   "outputs": [
    {
     "name": "stdout",
     "output_type": "stream",
     "text": [
      "Epoch 1/100\n",
      "\u001b[1m10/10\u001b[0m \u001b[32m━━━━━━━━━━━━━━━━━━━━\u001b[0m\u001b[37m\u001b[0m \u001b[1m8s\u001b[0m 70ms/step - accuracy: 0.5370 - loss: 3.2521 - val_accuracy: 0.8750 - val_loss: 3.2645\n",
      "Epoch 2/100\n",
      "\u001b[1m10/10\u001b[0m \u001b[32m━━━━━━━━━━━━━━━━━━━━\u001b[0m\u001b[37m\u001b[0m \u001b[1m0s\u001b[0m 11ms/step - accuracy: 0.9629 - loss: 2.9605 - val_accuracy: 0.9000 - val_loss: 3.1281\n",
      "Epoch 3/100\n",
      "\u001b[1m10/10\u001b[0m \u001b[32m━━━━━━━━━━━━━━━━━━━━\u001b[0m\u001b[37m\u001b[0m \u001b[1m0s\u001b[0m 11ms/step - accuracy: 0.9593 - loss: 2.7641 - val_accuracy: 0.8750 - val_loss: 2.8860\n",
      "Epoch 4/100\n",
      "\u001b[1m10/10\u001b[0m \u001b[32m━━━━━━━━━━━━━━━━━━━━\u001b[0m\u001b[37m\u001b[0m \u001b[1m0s\u001b[0m 11ms/step - accuracy: 0.9625 - loss: 2.6020 - val_accuracy: 0.8875 - val_loss: 2.8137\n",
      "Epoch 5/100\n",
      "\u001b[1m10/10\u001b[0m \u001b[32m━━━━━━━━━━━━━━━━━━━━\u001b[0m\u001b[37m\u001b[0m \u001b[1m0s\u001b[0m 12ms/step - accuracy: 0.9605 - loss: 2.4078 - val_accuracy: 0.8750 - val_loss: 2.6736\n",
      "Epoch 6/100\n",
      "\u001b[1m10/10\u001b[0m \u001b[32m━━━━━━━━━━━━━━━━━━━━\u001b[0m\u001b[37m\u001b[0m \u001b[1m0s\u001b[0m 12ms/step - accuracy: 0.9541 - loss: 2.2773 - val_accuracy: 0.8750 - val_loss: 2.4771\n",
      "Epoch 7/100\n",
      "\u001b[1m10/10\u001b[0m \u001b[32m━━━━━━━━━━━━━━━━━━━━\u001b[0m\u001b[37m\u001b[0m \u001b[1m0s\u001b[0m 10ms/step - accuracy: 0.9550 - loss: 2.1267 - val_accuracy: 0.8875 - val_loss: 2.3846\n",
      "Epoch 8/100\n",
      "\u001b[1m10/10\u001b[0m \u001b[32m━━━━━━━━━━━━━━━━━━━━\u001b[0m\u001b[37m\u001b[0m \u001b[1m0s\u001b[0m 12ms/step - accuracy: 0.9787 - loss: 1.9605 - val_accuracy: 0.8875 - val_loss: 2.1753\n",
      "Epoch 9/100\n",
      "\u001b[1m10/10\u001b[0m \u001b[32m━━━━━━━━━━━━━━━━━━━━\u001b[0m\u001b[37m\u001b[0m \u001b[1m0s\u001b[0m 11ms/step - accuracy: 0.9591 - loss: 1.8619 - val_accuracy: 0.8625 - val_loss: 2.1832\n",
      "Epoch 10/100\n",
      "\u001b[1m10/10\u001b[0m \u001b[32m━━━━━━━━━━━━━━━━━━━━\u001b[0m\u001b[37m\u001b[0m \u001b[1m0s\u001b[0m 11ms/step - accuracy: 0.9600 - loss: 1.7635 - val_accuracy: 0.8750 - val_loss: 2.0716\n",
      "Epoch 11/100\n",
      "\u001b[1m10/10\u001b[0m \u001b[32m━━━━━━━━━━━━━━━━━━━━\u001b[0m\u001b[37m\u001b[0m \u001b[1m0s\u001b[0m 12ms/step - accuracy: 0.9398 - loss: 1.6836 - val_accuracy: 0.9000 - val_loss: 2.0322\n",
      "Epoch 12/100\n",
      "\u001b[1m10/10\u001b[0m \u001b[32m━━━━━━━━━━━━━━━━━━━━\u001b[0m\u001b[37m\u001b[0m \u001b[1m0s\u001b[0m 10ms/step - accuracy: 0.9584 - loss: 1.6057 - val_accuracy: 0.8375 - val_loss: 1.8488\n",
      "Epoch 13/100\n",
      "\u001b[1m10/10\u001b[0m \u001b[32m━━━━━━━━━━━━━━━━━━━━\u001b[0m\u001b[37m\u001b[0m \u001b[1m0s\u001b[0m 10ms/step - accuracy: 0.9537 - loss: 1.5307 - val_accuracy: 0.8875 - val_loss: 2.0380\n",
      "Epoch 14/100\n",
      "\u001b[1m10/10\u001b[0m \u001b[32m━━━━━━━━━━━━━━━━━━━━\u001b[0m\u001b[37m\u001b[0m \u001b[1m0s\u001b[0m 11ms/step - accuracy: 0.9821 - loss: 1.4149 - val_accuracy: 0.8625 - val_loss: 1.8138\n",
      "Epoch 15/100\n",
      "\u001b[1m10/10\u001b[0m \u001b[32m━━━━━━━━━━━━━━━━━━━━\u001b[0m\u001b[37m\u001b[0m \u001b[1m0s\u001b[0m 12ms/step - accuracy: 0.9495 - loss: 1.4248 - val_accuracy: 0.8750 - val_loss: 1.6295\n",
      "Epoch 16/100\n",
      "\u001b[1m10/10\u001b[0m \u001b[32m━━━━━━━━━━━━━━━━━━━━\u001b[0m\u001b[37m\u001b[0m \u001b[1m0s\u001b[0m 12ms/step - accuracy: 0.9499 - loss: 1.3761 - val_accuracy: 0.8625 - val_loss: 1.7195\n",
      "Epoch 17/100\n",
      "\u001b[1m10/10\u001b[0m \u001b[32m━━━━━━━━━━━━━━━━━━━━\u001b[0m\u001b[37m\u001b[0m \u001b[1m0s\u001b[0m 10ms/step - accuracy: 0.9618 - loss: 1.2934 - val_accuracy: 0.8750 - val_loss: 1.6913\n",
      "Epoch 18/100\n",
      "\u001b[1m10/10\u001b[0m \u001b[32m━━━━━━━━━━━━━━━━━━━━\u001b[0m\u001b[37m\u001b[0m \u001b[1m0s\u001b[0m 11ms/step - accuracy: 0.9782 - loss: 1.2145 - val_accuracy: 0.8750 - val_loss: 1.6517\n",
      "Epoch 19/100\n",
      "\u001b[1m10/10\u001b[0m \u001b[32m━━━━━━━━━━━━━━━━━━━━\u001b[0m\u001b[37m\u001b[0m \u001b[1m0s\u001b[0m 12ms/step - accuracy: 0.9669 - loss: 1.1964 - val_accuracy: 0.8625 - val_loss: 1.6801\n",
      "Epoch 20/100\n",
      "\u001b[1m10/10\u001b[0m \u001b[32m━━━━━━━━━━━━━━━━━━━━\u001b[0m\u001b[37m\u001b[0m \u001b[1m0s\u001b[0m 11ms/step - accuracy: 0.9668 - loss: 1.1459 - val_accuracy: 0.8875 - val_loss: 1.4834\n",
      "Epoch 21/100\n",
      "\u001b[1m10/10\u001b[0m \u001b[32m━━━━━━━━━━━━━━━━━━━━\u001b[0m\u001b[37m\u001b[0m \u001b[1m0s\u001b[0m 11ms/step - accuracy: 0.9505 - loss: 1.1604 - val_accuracy: 0.8625 - val_loss: 1.5150\n",
      "Epoch 22/100\n",
      "\u001b[1m10/10\u001b[0m \u001b[32m━━━━━━━━━━━━━━━━━━━━\u001b[0m\u001b[37m\u001b[0m \u001b[1m0s\u001b[0m 11ms/step - accuracy: 0.9566 - loss: 1.0989 - val_accuracy: 0.8750 - val_loss: 1.4303\n",
      "Epoch 23/100\n",
      "\u001b[1m10/10\u001b[0m \u001b[32m━━━━━━━━━━━━━━━━━━━━\u001b[0m\u001b[37m\u001b[0m \u001b[1m0s\u001b[0m 10ms/step - accuracy: 0.9638 - loss: 1.0762 - val_accuracy: 0.8875 - val_loss: 1.3890\n",
      "Epoch 24/100\n",
      "\u001b[1m10/10\u001b[0m \u001b[32m━━━━━━━━━━━━━━━━━━━━\u001b[0m\u001b[37m\u001b[0m \u001b[1m0s\u001b[0m 12ms/step - accuracy: 0.9508 - loss: 1.0731 - val_accuracy: 0.8875 - val_loss: 1.3881\n",
      "Epoch 25/100\n",
      "\u001b[1m10/10\u001b[0m \u001b[32m━━━━━━━━━━━━━━━━━━━━\u001b[0m\u001b[37m\u001b[0m \u001b[1m0s\u001b[0m 10ms/step - accuracy: 0.9481 - loss: 1.0706 - val_accuracy: 0.8875 - val_loss: 1.5854\n",
      "Epoch 26/100\n",
      "\u001b[1m10/10\u001b[0m \u001b[32m━━━━━━━━━━━━━━━━━━━━\u001b[0m\u001b[37m\u001b[0m \u001b[1m0s\u001b[0m 10ms/step - accuracy: 0.9647 - loss: 1.0313 - val_accuracy: 0.8875 - val_loss: 1.5309\n",
      "Epoch 27/100\n",
      "\u001b[1m10/10\u001b[0m \u001b[32m━━━━━━━━━━━━━━━━━━━━\u001b[0m\u001b[37m\u001b[0m \u001b[1m0s\u001b[0m 11ms/step - accuracy: 0.9576 - loss: 1.0576 - val_accuracy: 0.8875 - val_loss: 1.3979\n",
      "Epoch 28/100\n",
      "\u001b[1m10/10\u001b[0m \u001b[32m━━━━━━━━━━━━━━━━━━━━\u001b[0m\u001b[37m\u001b[0m \u001b[1m0s\u001b[0m 10ms/step - accuracy: 0.9778 - loss: 0.9662 - val_accuracy: 0.8875 - val_loss: 1.4349\n",
      "Epoch 29/100\n",
      "\u001b[1m10/10\u001b[0m \u001b[32m━━━━━━━━━━━━━━━━━━━━\u001b[0m\u001b[37m\u001b[0m \u001b[1m0s\u001b[0m 12ms/step - accuracy: 0.9533 - loss: 0.9707 - val_accuracy: 0.8625 - val_loss: 1.4357\n",
      "Epoch 30/100\n",
      "\u001b[1m10/10\u001b[0m \u001b[32m━━━━━━━━━━━━━━━━━━━━\u001b[0m\u001b[37m\u001b[0m \u001b[1m0s\u001b[0m 10ms/step - accuracy: 0.9723 - loss: 0.9467 - val_accuracy: 0.8750 - val_loss: 1.3288\n",
      "Epoch 31/100\n",
      "\u001b[1m10/10\u001b[0m \u001b[32m━━━━━━━━━━━━━━━━━━━━\u001b[0m\u001b[37m\u001b[0m \u001b[1m0s\u001b[0m 11ms/step - accuracy: 0.9625 - loss: 0.9427 - val_accuracy: 0.8750 - val_loss: 1.3557\n",
      "Epoch 32/100\n",
      "\u001b[1m10/10\u001b[0m \u001b[32m━━━━━━━━━━━━━━━━━━━━\u001b[0m\u001b[37m\u001b[0m \u001b[1m0s\u001b[0m 11ms/step - accuracy: 0.9167 - loss: 1.0089 - val_accuracy: 0.8625 - val_loss: 1.3285\n",
      "Epoch 33/100\n",
      "\u001b[1m10/10\u001b[0m \u001b[32m━━━━━━━━━━━━━━━━━━━━\u001b[0m\u001b[37m\u001b[0m \u001b[1m0s\u001b[0m 10ms/step - accuracy: 0.9506 - loss: 0.9775 - val_accuracy: 0.8875 - val_loss: 1.2894\n",
      "Epoch 34/100\n",
      "\u001b[1m10/10\u001b[0m \u001b[32m━━━━━━━━━━━━━━━━━━━━\u001b[0m\u001b[37m\u001b[0m \u001b[1m0s\u001b[0m 12ms/step - accuracy: 0.9658 - loss: 0.9489 - val_accuracy: 0.8875 - val_loss: 1.5551\n",
      "Epoch 35/100\n",
      "\u001b[1m10/10\u001b[0m \u001b[32m━━━━━━━━━━━━━━━━━━━━\u001b[0m\u001b[37m\u001b[0m \u001b[1m0s\u001b[0m 12ms/step - accuracy: 0.9556 - loss: 0.9556 - val_accuracy: 0.8875 - val_loss: 1.3484\n",
      "Epoch 36/100\n",
      "\u001b[1m10/10\u001b[0m \u001b[32m━━━━━━━━━━━━━━━━━━━━\u001b[0m\u001b[37m\u001b[0m \u001b[1m0s\u001b[0m 11ms/step - accuracy: 0.9591 - loss: 0.9059 - val_accuracy: 0.8625 - val_loss: 1.2068\n",
      "Epoch 37/100\n",
      "\u001b[1m10/10\u001b[0m \u001b[32m━━━━━━━━━━━━━━━━━━━━\u001b[0m\u001b[37m\u001b[0m \u001b[1m0s\u001b[0m 11ms/step - accuracy: 0.9725 - loss: 0.8967 - val_accuracy: 0.8750 - val_loss: 1.3210\n",
      "Epoch 38/100\n",
      "\u001b[1m10/10\u001b[0m \u001b[32m━━━━━━━━━━━━━━━━━━━━\u001b[0m\u001b[37m\u001b[0m \u001b[1m0s\u001b[0m 10ms/step - accuracy: 0.9544 - loss: 0.8940 - val_accuracy: 0.8875 - val_loss: 1.2727\n",
      "Epoch 39/100\n",
      "\u001b[1m10/10\u001b[0m \u001b[32m━━━━━━━━━━━━━━━━━━━━\u001b[0m\u001b[37m\u001b[0m \u001b[1m0s\u001b[0m 11ms/step - accuracy: 0.9770 - loss: 0.8263 - val_accuracy: 0.8625 - val_loss: 1.1972\n",
      "Epoch 40/100\n",
      "\u001b[1m10/10\u001b[0m \u001b[32m━━━━━━━━━━━━━━━━━━━━\u001b[0m\u001b[37m\u001b[0m \u001b[1m0s\u001b[0m 10ms/step - accuracy: 0.9538 - loss: 0.8701 - val_accuracy: 0.8875 - val_loss: 1.3133\n",
      "Epoch 41/100\n",
      "\u001b[1m10/10\u001b[0m \u001b[32m━━━━━━━━━━━━━━━━━━━━\u001b[0m\u001b[37m\u001b[0m \u001b[1m0s\u001b[0m 10ms/step - accuracy: 0.9761 - loss: 0.8134 - val_accuracy: 0.8875 - val_loss: 1.3971\n",
      "Epoch 42/100\n",
      "\u001b[1m10/10\u001b[0m \u001b[32m━━━━━━━━━━━━━━━━━━━━\u001b[0m\u001b[37m\u001b[0m \u001b[1m0s\u001b[0m 12ms/step - accuracy: 0.9660 - loss: 0.8588 - val_accuracy: 0.8875 - val_loss: 1.2552\n",
      "Epoch 43/100\n",
      "\u001b[1m10/10\u001b[0m \u001b[32m━━━━━━━━━━━━━━━━━━━━\u001b[0m\u001b[37m\u001b[0m \u001b[1m0s\u001b[0m 11ms/step - accuracy: 0.9604 - loss: 0.8648 - val_accuracy: 0.8750 - val_loss: 1.2034\n",
      "Epoch 44/100\n",
      "\u001b[1m10/10\u001b[0m \u001b[32m━━━━━━━━━━━━━━━━━━━━\u001b[0m\u001b[37m\u001b[0m \u001b[1m0s\u001b[0m 10ms/step - accuracy: 0.9671 - loss: 0.8182 - val_accuracy: 0.8750 - val_loss: 1.3200\n",
      "Epoch 45/100\n",
      "\u001b[1m10/10\u001b[0m \u001b[32m━━━━━━━━━━━━━━━━━━━━\u001b[0m\u001b[37m\u001b[0m \u001b[1m0s\u001b[0m 15ms/step - accuracy: 0.9670 - loss: 0.8232 - val_accuracy: 0.8625 - val_loss: 1.2235\n",
      "Epoch 46/100\n",
      "\u001b[1m10/10\u001b[0m \u001b[32m━━━━━━━━━━━━━━━━━━━━\u001b[0m\u001b[37m\u001b[0m \u001b[1m0s\u001b[0m 10ms/step - accuracy: 0.9642 - loss: 0.7862 - val_accuracy: 0.8625 - val_loss: 1.2438\n",
      "Epoch 47/100\n",
      "\u001b[1m10/10\u001b[0m \u001b[32m━━━━━━━━━━━━━━━━━━━━\u001b[0m\u001b[37m\u001b[0m \u001b[1m0s\u001b[0m 12ms/step - accuracy: 0.9746 - loss: 0.7674 - val_accuracy: 0.8625 - val_loss: 1.1732\n",
      "Epoch 48/100\n",
      "\u001b[1m10/10\u001b[0m \u001b[32m━━━━━━━━━━━━━━━━━━━━\u001b[0m\u001b[37m\u001b[0m \u001b[1m0s\u001b[0m 10ms/step - accuracy: 0.9661 - loss: 0.8105 - val_accuracy: 0.8875 - val_loss: 1.3492\n",
      "Epoch 49/100\n",
      "\u001b[1m10/10\u001b[0m \u001b[32m━━━━━━━━━━━━━━━━━━━━\u001b[0m\u001b[37m\u001b[0m \u001b[1m0s\u001b[0m 10ms/step - accuracy: 0.9702 - loss: 0.7934 - val_accuracy: 0.8875 - val_loss: 1.1438\n",
      "Epoch 50/100\n",
      "\u001b[1m10/10\u001b[0m \u001b[32m━━━━━━━━━━━━━━━━━━━━\u001b[0m\u001b[37m\u001b[0m \u001b[1m0s\u001b[0m 12ms/step - accuracy: 0.9652 - loss: 0.7976 - val_accuracy: 0.8625 - val_loss: 1.2917\n",
      "Epoch 51/100\n",
      "\u001b[1m10/10\u001b[0m \u001b[32m━━━━━━━━━━━━━━━━━━━━\u001b[0m\u001b[37m\u001b[0m \u001b[1m0s\u001b[0m 12ms/step - accuracy: 0.9648 - loss: 0.7811 - val_accuracy: 0.8750 - val_loss: 1.2487\n",
      "Epoch 52/100\n",
      "\u001b[1m10/10\u001b[0m \u001b[32m━━━━━━━━━━━━━━━━━━━━\u001b[0m\u001b[37m\u001b[0m \u001b[1m0s\u001b[0m 11ms/step - accuracy: 0.9556 - loss: 0.7821 - val_accuracy: 0.8875 - val_loss: 1.1319\n",
      "Epoch 53/100\n",
      "\u001b[1m10/10\u001b[0m \u001b[32m━━━━━━━━━━━━━━━━━━━━\u001b[0m\u001b[37m\u001b[0m \u001b[1m0s\u001b[0m 10ms/step - accuracy: 0.9714 - loss: 0.7498 - val_accuracy: 0.8875 - val_loss: 1.3501\n",
      "Epoch 54/100\n",
      "\u001b[1m10/10\u001b[0m \u001b[32m━━━━━━━━━━━━━━━━━━━━\u001b[0m\u001b[37m\u001b[0m \u001b[1m0s\u001b[0m 10ms/step - accuracy: 0.9585 - loss: 0.7904 - val_accuracy: 0.8750 - val_loss: 1.1426\n",
      "Epoch 55/100\n",
      "\u001b[1m10/10\u001b[0m \u001b[32m━━━━━━━━━━━━━━━━━━━━\u001b[0m\u001b[37m\u001b[0m \u001b[1m0s\u001b[0m 11ms/step - accuracy: 0.9456 - loss: 0.7805 - val_accuracy: 0.8750 - val_loss: 1.0563\n",
      "Epoch 56/100\n",
      "\u001b[1m10/10\u001b[0m \u001b[32m━━━━━━━━━━━━━━━━━━━━\u001b[0m\u001b[37m\u001b[0m \u001b[1m0s\u001b[0m 10ms/step - accuracy: 0.9520 - loss: 0.7738 - val_accuracy: 0.8625 - val_loss: 1.1544\n",
      "Epoch 57/100\n",
      "\u001b[1m10/10\u001b[0m \u001b[32m━━━━━━━━━━━━━━━━━━━━\u001b[0m\u001b[37m\u001b[0m \u001b[1m0s\u001b[0m 10ms/step - accuracy: 0.9650 - loss: 0.7314 - val_accuracy: 0.8750 - val_loss: 1.1363\n",
      "Epoch 58/100\n",
      "\u001b[1m10/10\u001b[0m \u001b[32m━━━━━━━━━━━━━━━━━━━━\u001b[0m\u001b[37m\u001b[0m \u001b[1m0s\u001b[0m 10ms/step - accuracy: 0.9670 - loss: 0.7141 - val_accuracy: 0.8875 - val_loss: 1.1159\n",
      "Epoch 59/100\n",
      "\u001b[1m10/10\u001b[0m \u001b[32m━━━━━━━━━━━━━━━━━━━━\u001b[0m\u001b[37m\u001b[0m \u001b[1m0s\u001b[0m 10ms/step - accuracy: 0.9724 - loss: 0.6947 - val_accuracy: 0.8625 - val_loss: 1.1474\n",
      "Epoch 60/100\n",
      "\u001b[1m10/10\u001b[0m \u001b[32m━━━━━━━━━━━━━━━━━━━━\u001b[0m\u001b[37m\u001b[0m \u001b[1m0s\u001b[0m 10ms/step - accuracy: 0.9643 - loss: 0.6970 - val_accuracy: 0.8625 - val_loss: 1.1578\n",
      "Epoch 61/100\n",
      "\u001b[1m10/10\u001b[0m \u001b[32m━━━━━━━━━━━━━━━━━━━━\u001b[0m\u001b[37m\u001b[0m \u001b[1m0s\u001b[0m 11ms/step - accuracy: 0.9896 - loss: 0.6596 - val_accuracy: 0.8750 - val_loss: 1.0409\n",
      "Epoch 62/100\n",
      "\u001b[1m10/10\u001b[0m \u001b[32m━━━━━━━━━━━━━━━━━━━━\u001b[0m\u001b[37m\u001b[0m \u001b[1m0s\u001b[0m 9ms/step - accuracy: 0.9502 - loss: 0.7263 - val_accuracy: 0.8875 - val_loss: 1.0782\n",
      "Epoch 63/100\n",
      "\u001b[1m10/10\u001b[0m \u001b[32m━━━━━━━━━━━━━━━━━━━━\u001b[0m\u001b[37m\u001b[0m \u001b[1m0s\u001b[0m 15ms/step - accuracy: 0.9762 - loss: 0.6647 - val_accuracy: 0.8750 - val_loss: 1.1350\n",
      "Epoch 64/100\n",
      "\u001b[1m10/10\u001b[0m \u001b[32m━━━━━━━━━━━━━━━━━━━━\u001b[0m\u001b[37m\u001b[0m \u001b[1m0s\u001b[0m 12ms/step - accuracy: 0.9736 - loss: 0.6593 - val_accuracy: 0.8750 - val_loss: 1.0636\n",
      "Epoch 65/100\n",
      "\u001b[1m10/10\u001b[0m \u001b[32m━━━━━━━━━━━━━━━━━━━━\u001b[0m\u001b[37m\u001b[0m \u001b[1m0s\u001b[0m 10ms/step - accuracy: 0.9825 - loss: 0.6333 - val_accuracy: 0.8875 - val_loss: 1.0526\n",
      "Epoch 66/100\n",
      "\u001b[1m10/10\u001b[0m \u001b[32m━━━━━━━━━━━━━━━━━━━━\u001b[0m\u001b[37m\u001b[0m \u001b[1m0s\u001b[0m 10ms/step - accuracy: 0.9405 - loss: 0.7268 - val_accuracy: 0.8750 - val_loss: 0.9963\n",
      "Epoch 67/100\n",
      "\u001b[1m10/10\u001b[0m \u001b[32m━━━━━━━━━━━━━━━━━━━━\u001b[0m\u001b[37m\u001b[0m \u001b[1m0s\u001b[0m 10ms/step - accuracy: 0.9650 - loss: 0.6768 - val_accuracy: 0.8875 - val_loss: 1.1827\n",
      "Epoch 68/100\n",
      "\u001b[1m10/10\u001b[0m \u001b[32m━━━━━━━━━━━━━━━━━━━━\u001b[0m\u001b[37m\u001b[0m \u001b[1m0s\u001b[0m 13ms/step - accuracy: 0.9723 - loss: 0.6429 - val_accuracy: 0.8750 - val_loss: 1.0784\n",
      "Epoch 69/100\n",
      "\u001b[1m10/10\u001b[0m \u001b[32m━━━━━━━━━━━━━━━━━━━━\u001b[0m\u001b[37m\u001b[0m \u001b[1m0s\u001b[0m 12ms/step - accuracy: 0.9723 - loss: 0.6498 - val_accuracy: 0.8750 - val_loss: 1.0275\n",
      "Epoch 70/100\n",
      "\u001b[1m10/10\u001b[0m \u001b[32m━━━━━━━━━━━━━━━━━━━━\u001b[0m\u001b[37m\u001b[0m \u001b[1m0s\u001b[0m 15ms/step - accuracy: 0.9702 - loss: 0.6488 - val_accuracy: 0.8875 - val_loss: 1.1191\n",
      "Epoch 71/100\n",
      "\u001b[1m10/10\u001b[0m \u001b[32m━━━━━━━━━━━━━━━━━━━━\u001b[0m\u001b[37m\u001b[0m \u001b[1m0s\u001b[0m 12ms/step - accuracy: 0.9765 - loss: 0.6119 - val_accuracy: 0.8750 - val_loss: 1.0239\n",
      "Epoch 72/100\n",
      "\u001b[1m10/10\u001b[0m \u001b[32m━━━━━━━━━━━━━━━━━━━━\u001b[0m\u001b[37m\u001b[0m \u001b[1m0s\u001b[0m 11ms/step - accuracy: 0.9709 - loss: 0.6184 - val_accuracy: 0.8750 - val_loss: 1.2131\n",
      "Epoch 73/100\n",
      "\u001b[1m10/10\u001b[0m \u001b[32m━━━━━━━━━━━━━━━━━━━━\u001b[0m\u001b[37m\u001b[0m \u001b[1m0s\u001b[0m 11ms/step - accuracy: 0.9449 - loss: 0.6678 - val_accuracy: 0.9000 - val_loss: 1.0336\n",
      "Epoch 74/100\n",
      "\u001b[1m10/10\u001b[0m \u001b[32m━━━━━━━━━━━━━━━━━━━━\u001b[0m\u001b[37m\u001b[0m \u001b[1m0s\u001b[0m 13ms/step - accuracy: 0.9596 - loss: 0.6505 - val_accuracy: 0.8750 - val_loss: 1.0774\n",
      "Epoch 75/100\n",
      "\u001b[1m10/10\u001b[0m \u001b[32m━━━━━━━━━━━━━━━━━━━━\u001b[0m\u001b[37m\u001b[0m \u001b[1m0s\u001b[0m 10ms/step - accuracy: 0.9384 - loss: 0.6771 - val_accuracy: 0.8625 - val_loss: 1.0839\n",
      "Epoch 76/100\n",
      "\u001b[1m10/10\u001b[0m \u001b[32m━━━━━━━━━━━━━━━━━━━━\u001b[0m\u001b[37m\u001b[0m \u001b[1m0s\u001b[0m 10ms/step - accuracy: 0.9628 - loss: 0.6357 - val_accuracy: 0.8750 - val_loss: 0.9482\n",
      "Epoch 77/100\n",
      "\u001b[1m10/10\u001b[0m \u001b[32m━━━━━━━━━━━━━━━━━━━━\u001b[0m\u001b[37m\u001b[0m \u001b[1m0s\u001b[0m 10ms/step - accuracy: 0.9718 - loss: 0.6087 - val_accuracy: 0.8875 - val_loss: 1.0757\n",
      "Epoch 78/100\n",
      "\u001b[1m10/10\u001b[0m \u001b[32m━━━━━━━━━━━━━━━━━━━━\u001b[0m\u001b[37m\u001b[0m \u001b[1m0s\u001b[0m 10ms/step - accuracy: 0.9726 - loss: 0.6026 - val_accuracy: 0.8750 - val_loss: 1.0112\n",
      "Epoch 79/100\n",
      "\u001b[1m10/10\u001b[0m \u001b[32m━━━━━━━━━━━━━━━━━━━━\u001b[0m\u001b[37m\u001b[0m \u001b[1m0s\u001b[0m 10ms/step - accuracy: 0.9854 - loss: 0.5688 - val_accuracy: 0.9000 - val_loss: 0.9939\n",
      "Epoch 80/100\n",
      "\u001b[1m10/10\u001b[0m \u001b[32m━━━━━━━━━━━━━━━━━━━━\u001b[0m\u001b[37m\u001b[0m \u001b[1m0s\u001b[0m 10ms/step - accuracy: 0.9662 - loss: 0.5940 - val_accuracy: 0.8875 - val_loss: 1.0452\n",
      "Epoch 81/100\n",
      "\u001b[1m10/10\u001b[0m \u001b[32m━━━━━━━━━━━━━━━━━━━━\u001b[0m\u001b[37m\u001b[0m \u001b[1m0s\u001b[0m 10ms/step - accuracy: 0.9499 - loss: 0.6123 - val_accuracy: 0.8875 - val_loss: 1.0541\n",
      "Epoch 82/100\n",
      "\u001b[1m10/10\u001b[0m \u001b[32m━━━━━━━━━━━━━━━━━━━━\u001b[0m\u001b[37m\u001b[0m \u001b[1m0s\u001b[0m 10ms/step - accuracy: 0.9867 - loss: 0.5497 - val_accuracy: 0.8875 - val_loss: 0.9842\n",
      "Epoch 83/100\n",
      "\u001b[1m10/10\u001b[0m \u001b[32m━━━━━━━━━━━━━━━━━━━━\u001b[0m\u001b[37m\u001b[0m \u001b[1m0s\u001b[0m 12ms/step - accuracy: 0.9657 - loss: 0.5529 - val_accuracy: 0.8875 - val_loss: 1.0454\n",
      "Epoch 84/100\n",
      "\u001b[1m10/10\u001b[0m \u001b[32m━━━━━━━━━━━━━━━━━━━━\u001b[0m\u001b[37m\u001b[0m \u001b[1m0s\u001b[0m 10ms/step - accuracy: 0.9824 - loss: 0.5418 - val_accuracy: 0.8625 - val_loss: 0.9908\n",
      "Epoch 85/100\n",
      "\u001b[1m10/10\u001b[0m \u001b[32m━━━━━━━━━━━━━━━━━━━━\u001b[0m\u001b[37m\u001b[0m \u001b[1m0s\u001b[0m 10ms/step - accuracy: 0.9652 - loss: 0.5590 - val_accuracy: 0.8750 - val_loss: 0.9652\n",
      "Epoch 86/100\n",
      "\u001b[1m10/10\u001b[0m \u001b[32m━━━━━━━━━━━━━━━━━━━━\u001b[0m\u001b[37m\u001b[0m \u001b[1m0s\u001b[0m 10ms/step - accuracy: 0.9841 - loss: 0.5237 - val_accuracy: 0.8875 - val_loss: 0.9997\n",
      "Epoch 87/100\n",
      "\u001b[1m10/10\u001b[0m \u001b[32m━━━━━━━━━━━━━━━━━━━━\u001b[0m\u001b[37m\u001b[0m \u001b[1m0s\u001b[0m 11ms/step - accuracy: 0.9750 - loss: 0.5606 - val_accuracy: 0.8875 - val_loss: 1.0730\n",
      "Epoch 88/100\n",
      "\u001b[1m10/10\u001b[0m \u001b[32m━━━━━━━━━━━━━━━━━━━━\u001b[0m\u001b[37m\u001b[0m \u001b[1m0s\u001b[0m 9ms/step - accuracy: 0.9500 - loss: 0.5733 - val_accuracy: 0.8875 - val_loss: 1.1085\n",
      "Epoch 89/100\n",
      "\u001b[1m10/10\u001b[0m \u001b[32m━━━━━━━━━━━━━━━━━━━━\u001b[0m\u001b[37m\u001b[0m \u001b[1m0s\u001b[0m 11ms/step - accuracy: 0.9488 - loss: 0.6199 - val_accuracy: 0.8875 - val_loss: 1.0022\n",
      "Epoch 90/100\n",
      "\u001b[1m10/10\u001b[0m \u001b[32m━━━━━━━━━━━━━━━━━━━━\u001b[0m\u001b[37m\u001b[0m \u001b[1m0s\u001b[0m 10ms/step - accuracy: 0.9752 - loss: 0.5336 - val_accuracy: 0.8875 - val_loss: 1.0338\n",
      "Epoch 91/100\n",
      "\u001b[1m10/10\u001b[0m \u001b[32m━━━━━━━━━━━━━━━━━━━━\u001b[0m\u001b[37m\u001b[0m \u001b[1m0s\u001b[0m 9ms/step - accuracy: 0.9683 - loss: 0.5440 - val_accuracy: 0.8625 - val_loss: 0.9218\n",
      "Epoch 92/100\n",
      "\u001b[1m10/10\u001b[0m \u001b[32m━━━━━━━━━━━━━━━━━━━━\u001b[0m\u001b[37m\u001b[0m \u001b[1m0s\u001b[0m 10ms/step - accuracy: 0.9765 - loss: 0.5225 - val_accuracy: 0.8750 - val_loss: 0.9920\n",
      "Epoch 93/100\n",
      "\u001b[1m10/10\u001b[0m \u001b[32m━━━━━━━━━━━━━━━━━━━━\u001b[0m\u001b[37m\u001b[0m \u001b[1m0s\u001b[0m 12ms/step - accuracy: 0.9667 - loss: 0.5184 - val_accuracy: 0.8875 - val_loss: 0.9752\n",
      "Epoch 94/100\n",
      "\u001b[1m10/10\u001b[0m \u001b[32m━━━━━━━━━━━━━━━━━━━━\u001b[0m\u001b[37m\u001b[0m \u001b[1m0s\u001b[0m 10ms/step - accuracy: 0.9815 - loss: 0.4989 - val_accuracy: 0.8750 - val_loss: 0.9661\n",
      "Epoch 95/100\n",
      "\u001b[1m10/10\u001b[0m \u001b[32m━━━━━━━━━━━━━━━━━━━━\u001b[0m\u001b[37m\u001b[0m \u001b[1m0s\u001b[0m 10ms/step - accuracy: 0.9738 - loss: 0.5282 - val_accuracy: 0.8875 - val_loss: 1.0350\n",
      "Epoch 96/100\n",
      "\u001b[1m10/10\u001b[0m \u001b[32m━━━━━━━━━━━━━━━━━━━━\u001b[0m\u001b[37m\u001b[0m \u001b[1m0s\u001b[0m 12ms/step - accuracy: 0.9828 - loss: 0.5024 - val_accuracy: 0.8875 - val_loss: 1.0481\n",
      "Epoch 97/100\n",
      "\u001b[1m10/10\u001b[0m \u001b[32m━━━━━━━━━━━━━━━━━━━━\u001b[0m\u001b[37m\u001b[0m \u001b[1m0s\u001b[0m 12ms/step - accuracy: 0.9670 - loss: 0.5420 - val_accuracy: 0.8750 - val_loss: 0.9470\n",
      "Epoch 98/100\n",
      "\u001b[1m10/10\u001b[0m \u001b[32m━━━━━━━━━━━━━━━━━━━━\u001b[0m\u001b[37m\u001b[0m \u001b[1m0s\u001b[0m 12ms/step - accuracy: 0.9534 - loss: 0.5366 - val_accuracy: 0.8125 - val_loss: 0.9828\n",
      "Epoch 99/100\n",
      "\u001b[1m10/10\u001b[0m \u001b[32m━━━━━━━━━━━━━━━━━━━━\u001b[0m\u001b[37m\u001b[0m \u001b[1m0s\u001b[0m 12ms/step - accuracy: 0.9390 - loss: 0.6323 - val_accuracy: 0.8875 - val_loss: 1.0249\n",
      "Epoch 100/100\n",
      "\u001b[1m10/10\u001b[0m \u001b[32m━━━━━━━━━━━━━━━━━━━━\u001b[0m\u001b[37m\u001b[0m \u001b[1m0s\u001b[0m 13ms/step - accuracy: 0.9734 - loss: 0.4996 - val_accuracy: 0.8875 - val_loss: 0.9691\n"
     ]
    }
   ],
   "source": [
    "dnn.compile(optimizer = 'adam' , loss = 'binary_crossentropy' , metrics = ['accuracy'])\n",
    "history_with_feature_scaling_regularizer = dnn.fit(x_train_scaled , y_train , validation_data = (x_test_scaled , y_test) , epochs = 100)"
   ]
  },
  {
   "cell_type": "markdown",
   "id": "bafb66a7",
   "metadata": {},
   "source": [
    "#### Visualization of Training error(loss) and Testing error (val loss) with reularization method"
   ]
  },
  {
   "cell_type": "code",
   "execution_count": 56,
   "id": "d705d66f",
   "metadata": {},
   "outputs": [
    {
     "data": {
      "image/png": "[encoded data removed]",
      "text/plain": [
       "<Figure size 2500x1000 with 1 Axes>"
      ]
     },
     "metadata": {},
     "output_type": "display_data"
    }
   ],
   "source": [
    "plt.figure(figsize = (25 , 10))\n",
    "plt.plot(history_with_feature_scaling_regularizer.history['loss'] , color='magenta', marker='o',\n",
    "         linestyle='dashed',linewidth=1, markersize=5)    # Training Error\n",
    "plt.plot(history_with_feature_scaling_regularizer.history['val_loss'] , color='red', marker='o',\n",
    "         linestyle='dashed',linewidth=1, markersize=5) # Testing Error\n",
    "plt.xlabel('Epochs / Iterations')\n",
    "plt.ylabel('Loss %')\n",
    "plt.title('Visualization of training error (loss) and testing error(val loss)')\n",
    "plt.show()"
   ]
  },
  {
   "cell_type": "markdown",
   "id": "6cf3c74a",
   "metadata": {},
   "source": [
    "#### Insights : \n",
    "\n",
    "#### Training Error is gradually decreasing from first epoch to 100 epoch . At 100th epoch it reaches to loss: 0.2732.\n",
    "#### Testing Error is also gradually decreasing from first epoch to 100 epoch . At 100th epoch it reaches about val_loss: 0.6449"
   ]
  },
  {
   "cell_type": "markdown",
   "id": "b883d5c3",
   "metadata": {},
   "source": [
    "#### Without regularization testing error is high means it gradually increasing but in regularization method it gradually decreasing"
   ]
  },
  {
   "cell_type": "markdown",
   "id": "e61ff95c",
   "metadata": {},
   "source": [
    "### Visualization of Training accuracy (accuracy) and testing accuracy(val accuracy)"
   ]
  },
  {
   "cell_type": "code",
   "execution_count": 44,
   "id": "48f5e06c",
   "metadata": {},
   "outputs": [
    {
     "data": {
      "image/png": "[encoded data removed]",
      "text/plain": [
       "<Figure size 2500x1000 with 1 Axes>"
      ]
     },
     "metadata": {},
     "output_type": "display_data"
    }
   ],
   "source": [
    "plt.figure(figsize = (25 , 10))\n",
    "plt.plot(history_with_feature_scaling_regularizer.history['accuracy'] , color='magenta', marker='o',\n",
    "         linestyle='dashed',linewidth=1, markersize=5)    # Training accuracy\n",
    "plt.plot(history_with_feature_scaling_regularizer.history['val_accuracy'] , color='red', marker='o',\n",
    "         linestyle='dashed',linewidth=1, markersize=5) # Testing accuracy\n",
    "plt.xlabel('Epochs / Iterations')\n",
    "plt.ylabel('Accuracy %')\n",
    "plt.title('Visualization of Training accuracy (accuracy) and testing accuracy(val accuracy)')\n",
    "plt.show()"
   ]
  },
  {
   "cell_type": "markdown",
   "id": "c49d0b34",
   "metadata": {},
   "source": [
    "#### Insights : Last epoch variance is approximate 9 % in training(accuracy) and testing accuracy(val accuracy)"
   ]
  },
  {
   "cell_type": "code",
   "execution_count": null,
   "id": "368a0406",
   "metadata": {},
   "outputs": [],
   "source": []
  }
 ],
 "metadata": {
  "kernelspec": {
   "display_name": "Python 3 (ipykernel)",
   "language": "python",
   "name": "python3"
  },
  "language_info": {
   "codemirror_mode": {
    "name": "ipython",
    "version": 3
   },
   "file_extension": ".py",
   "mimetype": "text/x-python",
   "name": "python",
   "nbconvert_exporter": "python",
   "pygments_lexer": "ipython3",
   "version": "3.11.4"
  }
 },
 "nbformat": 4,
 "nbformat_minor": 5
}
