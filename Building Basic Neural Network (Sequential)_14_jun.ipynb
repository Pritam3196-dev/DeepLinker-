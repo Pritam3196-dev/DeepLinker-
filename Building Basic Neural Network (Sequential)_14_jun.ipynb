{
 "cells": [
  {
   "cell_type": "markdown",
   "id": "babe073e",
   "metadata": {},
   "source": [
    "#### About Neural Network : "
   ]
  },
  {
   "cell_type": "markdown",
   "id": "1c499007",
   "metadata": {},
   "source": [
    "#### Here We build Basic Neural Network  , How neural structure is look like or How neural structure is get designed . what is about input layer and what is hidden layer and what is output layer. How this layer are connected or how each data is connected to each neuron by dense layer (Fully connected layer) and this structure get created by sequential structure by keras (frontend library)"
   ]
  },
  {
   "cell_type": "markdown",
   "id": "844786c4",
   "metadata": {},
   "source": [
    "#### Install tensorflow library"
   ]
  },
  {
   "cell_type": "code",
   "execution_count": 13,
   "id": "a81c4733",
   "metadata": {},
   "outputs": [],
   "source": [
    "# !pip install tensorflow"
   ]
  },
  {
   "cell_type": "markdown",
   "id": "9da86c49",
   "metadata": {},
   "source": [
    "#### Import pre requisite library"
   ]
  },
  {
   "cell_type": "code",
   "execution_count": 4,
   "id": "d1de0586",
   "metadata": {},
   "outputs": [],
   "source": [
    "import tensorflow as tf       # Backend library\n",
    "from tensorflow import keras  # frontend library\n",
    "from keras import Sequential  # architecture\n",
    "from keras.layers import Dense # fully connected layer"
   ]
  },
  {
   "cell_type": "markdown",
   "id": "43779df8",
   "metadata": {},
   "source": [
    "#### 1st layer is I/P layer."
   ]
  },
  {
   "cell_type": "markdown",
   "id": "2ac50361",
   "metadata": {},
   "source": [
    "#### 2nd layer is hidden layer"
   ]
  },
  {
   "cell_type": "markdown",
   "id": "872568f1",
   "metadata": {},
   "source": [
    "#### 3rd layer is O/P layer"
   ]
  },
  {
   "cell_type": "markdown",
   "id": "2a54d79f",
   "metadata": {},
   "source": [
    "#### Sequential architecture"
   ]
  },
  {
   "cell_type": "code",
   "execution_count": 5,
   "id": "8b62278c",
   "metadata": {},
   "outputs": [],
   "source": [
    "DNN = Sequential()"
   ]
  },
  {
   "cell_type": "markdown",
   "id": "8b9de889",
   "metadata": {},
   "source": [
    "#### Build hidden layers"
   ]
  },
  {
   "cell_type": "markdown",
   "id": "bdbe49cb",
   "metadata": {},
   "source": [
    "#### Units is nothing but neurons ( How much neurons you want to create)\n",
    "#### input_dim is nothing but input data / features\n",
    "#### Activation fun is decided your weighed sum is belongs to which class by comparing with your threshold"
   ]
  },
  {
   "cell_type": "markdown",
   "id": "647c5b38",
   "metadata": {},
   "source": [
    "#### weight = input * units(neurons)\n",
    "\n",
    "#### Bias is nothing but intercept i.e. how much no of neurons for that layer\n",
    "\n",
    "#### paramters = weight + bias"
   ]
  },
  {
   "cell_type": "markdown",
   "id": "18293f1b",
   "metadata": {},
   "source": [
    "#### Here we build input layer"
   ]
  },
  {
   "cell_type": "code",
   "execution_count": 7,
   "id": "c150d73b",
   "metadata": {},
   "outputs": [],
   "source": [
    "DNN.add(layer = Dense(units = 4 , activation = 'sigmoid' , input_dim = 5 ))"
   ]
  },
  {
   "cell_type": "markdown",
   "id": "3788bd5f",
   "metadata": {},
   "source": [
    "#### For input layer , How many parameters are generated , \n",
    "\n",
    "#### parameters = 5 * 4 + 4 = 24"
   ]
  },
  {
   "cell_type": "markdown",
   "id": "7613ddf3",
   "metadata": {},
   "source": [
    "#### Here we build 1st hidden layer , "
   ]
  },
  {
   "cell_type": "code",
   "execution_count": 8,
   "id": "3ea91a04",
   "metadata": {},
   "outputs": [],
   "source": [
    "DNN.add(layer = Dense(units = 3 , activation = 'sigmoid'))"
   ]
  },
  {
   "cell_type": "markdown",
   "id": "aded5bd2",
   "metadata": {},
   "source": [
    "#### For 1st hidden layer , How many parameters are generated ,\n",
    "#### parameters = 4 * 3 + 3 = 15\n"
   ]
  },
  {
   "cell_type": "markdown",
   "id": "8e36f5c5",
   "metadata": {},
   "source": [
    "#### Here we build 2nd hidden layer"
   ]
  },
  {
   "cell_type": "code",
   "execution_count": 9,
   "id": "5c361b5d",
   "metadata": {},
   "outputs": [],
   "source": [
    "DNN.add(layer = Dense(units = 2 , activation = 'sigmoid'))"
   ]
  },
  {
   "cell_type": "markdown",
   "id": "c0c8e71d",
   "metadata": {},
   "source": [
    "#### For 2nd hidden layer , How many parameters are generated ,\n",
    "#### parameters = 3 * 2 + 2 = 8"
   ]
  },
  {
   "cell_type": "markdown",
   "id": "2362b793",
   "metadata": {},
   "source": [
    "#### Here we build 3rd hidden layer"
   ]
  },
  {
   "cell_type": "code",
   "execution_count": 11,
   "id": "efc71588",
   "metadata": {},
   "outputs": [],
   "source": [
    "DNN.add(layer = Dense(units = 1 , activation = 'sigmoid'))"
   ]
  },
  {
   "cell_type": "markdown",
   "id": "c8e298f0",
   "metadata": {},
   "source": [
    "#### For 3rd hidden layer , How many parameters are generated ,\n",
    "#### parameters = 2 * 1 + 1 = 3"
   ]
  },
  {
   "cell_type": "markdown",
   "id": "18501457",
   "metadata": {},
   "source": [
    "#### Total no. of parameters are , "
   ]
  },
  {
   "cell_type": "markdown",
   "id": "6dfcd027",
   "metadata": {},
   "source": [
    "#### 24 + 15 + 8 + 3 = 50"
   ]
  },
  {
   "cell_type": "markdown",
   "id": "c0eadf01",
   "metadata": {},
   "source": [
    "#### Summary"
   ]
  },
  {
   "cell_type": "code",
   "execution_count": 12,
   "id": "f2119adc",
   "metadata": {},
   "outputs": [
    {
     "data": {
      "text/html": [
       "<pre style=\"white-space:pre;overflow-x:auto;line-height:normal;font-family:Menlo,'DejaVu Sans Mono',consolas,'Courier New',monospace\"><span style=\"font-weight: bold\">Model: \"sequential\"</span>\n",
       "</pre>\n"
      ],
      "text/plain": [
       "\u001b[1mModel: \"sequential\"\u001b[0m\n"
      ]
     },
     "metadata": {},
     "output_type": "display_data"
    },
    {
     "data": {
      "text/html": [
       "<pre style=\"white-space:pre;overflow-x:auto;line-height:normal;font-family:Menlo,'DejaVu Sans Mono',consolas,'Courier New',monospace\">┏━━━━━━━━━━━━━━━━━━━━━━━━━━━━━━━━━━━━━━┳━━━━━━━━━━━━━━━━━━━━━━━━━━━━━┳━━━━━━━━━━━━━━━━━┓\n",
       "┃<span style=\"font-weight: bold\"> Layer (type)                         </span>┃<span style=\"font-weight: bold\"> Output Shape                </span>┃<span style=\"font-weight: bold\">         Param # </span>┃\n",
       "┡━━━━━━━━━━━━━━━━━━━━━━━━━━━━━━━━━━━━━━╇━━━━━━━━━━━━━━━━━━━━━━━━━━━━━╇━━━━━━━━━━━━━━━━━┩\n",
       "│ dense_1 (<span style=\"color: #0087ff; text-decoration-color: #0087ff\">Dense</span>)                      │ (<span style=\"color: #00d7ff; text-decoration-color: #00d7ff\">None</span>, <span style=\"color: #00af00; text-decoration-color: #00af00\">4</span>)                   │              <span style=\"color: #00af00; text-decoration-color: #00af00\">24</span> │\n",
       "├──────────────────────────────────────┼─────────────────────────────┼─────────────────┤\n",
       "│ dense_2 (<span style=\"color: #0087ff; text-decoration-color: #0087ff\">Dense</span>)                      │ (<span style=\"color: #00d7ff; text-decoration-color: #00d7ff\">None</span>, <span style=\"color: #00af00; text-decoration-color: #00af00\">3</span>)                   │              <span style=\"color: #00af00; text-decoration-color: #00af00\">15</span> │\n",
       "├──────────────────────────────────────┼─────────────────────────────┼─────────────────┤\n",
       "│ dense_3 (<span style=\"color: #0087ff; text-decoration-color: #0087ff\">Dense</span>)                      │ (<span style=\"color: #00d7ff; text-decoration-color: #00d7ff\">None</span>, <span style=\"color: #00af00; text-decoration-color: #00af00\">2</span>)                   │               <span style=\"color: #00af00; text-decoration-color: #00af00\">8</span> │\n",
       "├──────────────────────────────────────┼─────────────────────────────┼─────────────────┤\n",
       "│ dense_5 (<span style=\"color: #0087ff; text-decoration-color: #0087ff\">Dense</span>)                      │ (<span style=\"color: #00d7ff; text-decoration-color: #00d7ff\">None</span>, <span style=\"color: #00af00; text-decoration-color: #00af00\">1</span>)                   │               <span style=\"color: #00af00; text-decoration-color: #00af00\">3</span> │\n",
       "└──────────────────────────────────────┴─────────────────────────────┴─────────────────┘\n",
       "</pre>\n"
      ],
      "text/plain": [
       "┏━━━━━━━━━━━━━━━━━━━━━━━━━━━━━━━━━━━━━━┳━━━━━━━━━━━━━━━━━━━━━━━━━━━━━┳━━━━━━━━━━━━━━━━━┓\n",
       "┃\u001b[1m \u001b[0m\u001b[1mLayer (type)                        \u001b[0m\u001b[1m \u001b[0m┃\u001b[1m \u001b[0m\u001b[1mOutput Shape               \u001b[0m\u001b[1m \u001b[0m┃\u001b[1m \u001b[0m\u001b[1m        Param #\u001b[0m\u001b[1m \u001b[0m┃\n",
       "┡━━━━━━━━━━━━━━━━━━━━━━━━━━━━━━━━━━━━━━╇━━━━━━━━━━━━━━━━━━━━━━━━━━━━━╇━━━━━━━━━━━━━━━━━┩\n",
       "│ dense_1 (\u001b[38;5;33mDense\u001b[0m)                      │ (\u001b[38;5;45mNone\u001b[0m, \u001b[38;5;34m4\u001b[0m)                   │              \u001b[38;5;34m24\u001b[0m │\n",
       "├──────────────────────────────────────┼─────────────────────────────┼─────────────────┤\n",
       "│ dense_2 (\u001b[38;5;33mDense\u001b[0m)                      │ (\u001b[38;5;45mNone\u001b[0m, \u001b[38;5;34m3\u001b[0m)                   │              \u001b[38;5;34m15\u001b[0m │\n",
       "├──────────────────────────────────────┼─────────────────────────────┼─────────────────┤\n",
       "│ dense_3 (\u001b[38;5;33mDense\u001b[0m)                      │ (\u001b[38;5;45mNone\u001b[0m, \u001b[38;5;34m2\u001b[0m)                   │               \u001b[38;5;34m8\u001b[0m │\n",
       "├──────────────────────────────────────┼─────────────────────────────┼─────────────────┤\n",
       "│ dense_5 (\u001b[38;5;33mDense\u001b[0m)                      │ (\u001b[38;5;45mNone\u001b[0m, \u001b[38;5;34m1\u001b[0m)                   │               \u001b[38;5;34m3\u001b[0m │\n",
       "└──────────────────────────────────────┴─────────────────────────────┴─────────────────┘\n"
      ]
     },
     "metadata": {},
     "output_type": "display_data"
    },
    {
     "data": {
      "text/html": [
       "<pre style=\"white-space:pre;overflow-x:auto;line-height:normal;font-family:Menlo,'DejaVu Sans Mono',consolas,'Courier New',monospace\"><span style=\"font-weight: bold\"> Total params: </span><span style=\"color: #00af00; text-decoration-color: #00af00\">50</span> (200.00 B)\n",
       "</pre>\n"
      ],
      "text/plain": [
       "\u001b[1m Total params: \u001b[0m\u001b[38;5;34m50\u001b[0m (200.00 B)\n"
      ]
     },
     "metadata": {},
     "output_type": "display_data"
    },
    {
     "data": {
      "text/html": [
       "<pre style=\"white-space:pre;overflow-x:auto;line-height:normal;font-family:Menlo,'DejaVu Sans Mono',consolas,'Courier New',monospace\"><span style=\"font-weight: bold\"> Trainable params: </span><span style=\"color: #00af00; text-decoration-color: #00af00\">50</span> (200.00 B)\n",
       "</pre>\n"
      ],
      "text/plain": [
       "\u001b[1m Trainable params: \u001b[0m\u001b[38;5;34m50\u001b[0m (200.00 B)\n"
      ]
     },
     "metadata": {},
     "output_type": "display_data"
    },
    {
     "data": {
      "text/html": [
       "<pre style=\"white-space:pre;overflow-x:auto;line-height:normal;font-family:Menlo,'DejaVu Sans Mono',consolas,'Courier New',monospace\"><span style=\"font-weight: bold\"> Non-trainable params: </span><span style=\"color: #00af00; text-decoration-color: #00af00\">0</span> (0.00 B)\n",
       "</pre>\n"
      ],
      "text/plain": [
       "\u001b[1m Non-trainable params: \u001b[0m\u001b[38;5;34m0\u001b[0m (0.00 B)\n"
      ]
     },
     "metadata": {},
     "output_type": "display_data"
    }
   ],
   "source": [
    "DNN.summary()"
   ]
  }
 ],
 "metadata": {
  "kernelspec": {
   "display_name": "Python 3 (ipykernel)",
   "language": "python",
   "name": "python3"
  },
  "language_info": {
   "codemirror_mode": {
    "name": "ipython",
    "version": 3
   },
   "file_extension": ".py",
   "mimetype": "text/x-python",
   "name": "python",
   "nbconvert_exporter": "python",
   "pygments_lexer": "ipython3",
   "version": "3.11.4"
  }
 },
 "nbformat": 4,
 "nbformat_minor": 5
}
