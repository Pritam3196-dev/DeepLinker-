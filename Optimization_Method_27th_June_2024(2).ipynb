{
 "cells": [
  {
   "cell_type": "code",
   "execution_count": 3,
   "metadata": {
    "id": "lT_M3S0c4Rak"
   },
   "outputs": [],
   "source": [
    "import tensorflow as tf\n",
    "from tensorflow import keras\n",
    "from keras.layers import Dense, Dropout, Flatten\n",
    "from keras import Sequential\n",
    "from keras.datasets import fashion_mnist"
   ]
  },
  {
   "cell_type": "code",
   "execution_count": 12,
   "metadata": {
    "id": "-9Eclupe4b3P"
   },
   "outputs": [],
   "source": [
    "(x_train, y_train), (x_test, y_test) = fashion_mnist.load_data()"
   ]
  },
  {
   "cell_type": "code",
   "execution_count": 11,
   "metadata": {
    "colab": {
     "base_uri": "https://localhost:8080/"
    },
    "id": "xXtrTwhT5D9C",
    "outputId": "91ad5b79-b604-4606-ca1f-1d75e370e178"
   },
   "outputs": [
    {
     "data": {
      "text/plain": [
       "(60000, 28, 28)"
      ]
     },
     "execution_count": 11,
     "metadata": {},
     "output_type": "execute_result"
    }
   ],
   "source": [
    "x_train.shape"
   ]
  },
  {
   "cell_type": "code",
   "execution_count": 13,
   "metadata": {
    "id": "VrFR_joJ4b6x"
   },
   "outputs": [],
   "source": [
    "x_train = x_train.astype('float32')\n",
    "x_test = x_test.astype('float32')\n",
    "x_train = x_train.reshape(x_train.shape[0],28,28,1)\n",
    "x_test = x_test.reshape(x_test.shape[0],28,28,1)\n",
    "y_train = keras.utils.to_categorical(y_train)\n",
    "y_test = keras.utils.to_categorical(y_test)\n",
    "x_train = x_train/255.0\n",
    "x_test = x_test/255.0"
   ]
  },
  {
   "cell_type": "markdown",
   "metadata": {
    "id": "-3P5sRDo6CIK"
   },
   "source": [
    "# Optimization method\n"
   ]
  },
  {
   "cell_type": "code",
   "execution_count": 14,
   "metadata": {
    "id": "aYP4Nxp_4b-M"
   },
   "outputs": [],
   "source": [
    "def build_model(optimizer):\n",
    "  model = Sequential()\n",
    "  model.add(Flatten())\n",
    "  model.add(Dense(256, activation='relu', input_shape=(28,28,1)))\n",
    "  model.add(Dropout(0.25))\n",
    "  model.add(Dense(256, activation='relu'))\n",
    "  model.add(Dropout(0.5))\n",
    "  model.add(Dense(10, activation='softmax'))\n",
    "  model.compile(optimizer=optimizer, loss=keras.losses.categorical_crossentropy, metrics=['accuracy'])\n",
    "  return model"
   ]
  },
  {
   "cell_type": "code",
   "execution_count": 15,
   "metadata": {
    "colab": {
     "base_uri": "https://localhost:8080/"
    },
    "id": "oD3g9ADz62hN",
    "outputId": "fc39a520-37b9-4d79-d41d-221e7e93eb36"
   },
   "outputs": [
    {
     "name": "stdout",
     "output_type": "stream",
     "text": [
      "Epoch 1/10\n",
      "938/938 [==============================] - 8s 5ms/step - loss: 1.1010 - accuracy: 0.6187 - val_loss: 0.6735 - val_accuracy: 0.7666\n",
      "Epoch 2/10\n",
      "938/938 [==============================] - 4s 4ms/step - loss: 0.7109 - accuracy: 0.7544 - val_loss: 0.5731 - val_accuracy: 0.8007\n",
      "Epoch 3/10\n",
      "938/938 [==============================] - 5s 6ms/step - loss: 0.6202 - accuracy: 0.7872 - val_loss: 0.5294 - val_accuracy: 0.8146\n",
      "Epoch 4/10\n",
      "938/938 [==============================] - 5s 5ms/step - loss: 0.5653 - accuracy: 0.8037 - val_loss: 0.4943 - val_accuracy: 0.8269\n",
      "Epoch 5/10\n",
      "938/938 [==============================] - 5s 5ms/step - loss: 0.5319 - accuracy: 0.8147 - val_loss: 0.4779 - val_accuracy: 0.8324\n",
      "Epoch 6/10\n",
      "938/938 [==============================] - 6s 6ms/step - loss: 0.5046 - accuracy: 0.8244 - val_loss: 0.4611 - val_accuracy: 0.8366\n",
      "Epoch 7/10\n",
      "938/938 [==============================] - 5s 5ms/step - loss: 0.4845 - accuracy: 0.8313 - val_loss: 0.4469 - val_accuracy: 0.8390\n",
      "Epoch 8/10\n",
      "938/938 [==============================] - 4s 4ms/step - loss: 0.4675 - accuracy: 0.8366 - val_loss: 0.4372 - val_accuracy: 0.8440\n",
      "Epoch 9/10\n",
      "938/938 [==============================] - 5s 5ms/step - loss: 0.4580 - accuracy: 0.8418 - val_loss: 0.4279 - val_accuracy: 0.8450\n",
      "Epoch 10/10\n",
      "938/938 [==============================] - 4s 4ms/step - loss: 0.4481 - accuracy: 0.8418 - val_loss: 0.4220 - val_accuracy: 0.8474\n",
      "Epoch 1/10\n",
      "938/938 [==============================] - 6s 6ms/step - loss: 1.5425 - accuracy: 0.4746 - val_loss: 0.9728 - val_accuracy: 0.6844\n",
      "Epoch 2/10\n",
      "938/938 [==============================] - 7s 7ms/step - loss: 1.0252 - accuracy: 0.6430 - val_loss: 0.7893 - val_accuracy: 0.7224\n",
      "Epoch 3/10\n",
      "938/938 [==============================] - 4s 4ms/step - loss: 0.8854 - accuracy: 0.6905 - val_loss: 0.7154 - val_accuracy: 0.7436\n",
      "Epoch 4/10\n",
      "938/938 [==============================] - 4s 4ms/step - loss: 0.8114 - accuracy: 0.7170 - val_loss: 0.6706 - val_accuracy: 0.7632\n",
      "Epoch 5/10\n",
      "938/938 [==============================] - 4s 5ms/step - loss: 0.7627 - accuracy: 0.7332 - val_loss: 0.6395 - val_accuracy: 0.7761\n",
      "Epoch 6/10\n",
      "938/938 [==============================] - 4s 4ms/step - loss: 0.7240 - accuracy: 0.7506 - val_loss: 0.6147 - val_accuracy: 0.7863\n",
      "Epoch 7/10\n",
      "938/938 [==============================] - 5s 6ms/step - loss: 0.6973 - accuracy: 0.7600 - val_loss: 0.5958 - val_accuracy: 0.7920\n",
      "Epoch 8/10\n",
      "938/938 [==============================] - 4s 5ms/step - loss: 0.6725 - accuracy: 0.7686 - val_loss: 0.5798 - val_accuracy: 0.7964\n",
      "Epoch 9/10\n",
      "938/938 [==============================] - 4s 4ms/step - loss: 0.6530 - accuracy: 0.7760 - val_loss: 0.5649 - val_accuracy: 0.8025\n",
      "Epoch 10/10\n",
      "938/938 [==============================] - 4s 4ms/step - loss: 0.6406 - accuracy: 0.7803 - val_loss: 0.5552 - val_accuracy: 0.8049\n",
      "Epoch 1/10\n",
      "938/938 [==============================] - 5s 4ms/step - loss: 2.4287 - accuracy: 0.0951 - val_loss: 2.2358 - val_accuracy: 0.1956\n",
      "Epoch 2/10\n",
      "938/938 [==============================] - 4s 4ms/step - loss: 2.2383 - accuracy: 0.1749 - val_loss: 2.0768 - val_accuracy: 0.4097\n",
      "Epoch 3/10\n",
      "938/938 [==============================] - 5s 5ms/step - loss: 2.0951 - accuracy: 0.2625 - val_loss: 1.9357 - val_accuracy: 0.5112\n",
      "Epoch 4/10\n",
      "938/938 [==============================] - 4s 4ms/step - loss: 1.9735 - accuracy: 0.3329 - val_loss: 1.8031 - val_accuracy: 0.5658\n",
      "Epoch 5/10\n",
      "938/938 [==============================] - 4s 4ms/step - loss: 1.8551 - accuracy: 0.3977 - val_loss: 1.6781 - val_accuracy: 0.6021\n",
      "Epoch 6/10\n",
      "938/938 [==============================] - 4s 5ms/step - loss: 1.7474 - accuracy: 0.4454 - val_loss: 1.5638 - val_accuracy: 0.6241\n",
      "Epoch 7/10\n",
      "938/938 [==============================] - 4s 4ms/step - loss: 1.6538 - accuracy: 0.4737 - val_loss: 1.4619 - val_accuracy: 0.6372\n",
      "Epoch 8/10\n",
      "938/938 [==============================] - 4s 4ms/step - loss: 1.5678 - accuracy: 0.5014 - val_loss: 1.3715 - val_accuracy: 0.6460\n",
      "Epoch 9/10\n",
      "938/938 [==============================] - 4s 4ms/step - loss: 1.4872 - accuracy: 0.5272 - val_loss: 1.2925 - val_accuracy: 0.6538\n",
      "Epoch 10/10\n",
      "938/938 [==============================] - 5s 5ms/step - loss: 1.4238 - accuracy: 0.5422 - val_loss: 1.2245 - val_accuracy: 0.6604\n",
      "Epoch 1/10\n",
      "938/938 [==============================] - 5s 4ms/step - loss: 0.5856 - accuracy: 0.7905 - val_loss: 0.4387 - val_accuracy: 0.8413\n",
      "Epoch 2/10\n",
      "938/938 [==============================] - 5s 5ms/step - loss: 0.4374 - accuracy: 0.8445 - val_loss: 0.4472 - val_accuracy: 0.8434\n",
      "Epoch 3/10\n",
      "938/938 [==============================] - 4s 4ms/step - loss: 0.4143 - accuracy: 0.8556 - val_loss: 0.4215 - val_accuracy: 0.8544\n",
      "Epoch 4/10\n",
      "938/938 [==============================] - 4s 4ms/step - loss: 0.4017 - accuracy: 0.8611 - val_loss: 0.3838 - val_accuracy: 0.8658\n",
      "Epoch 5/10\n",
      "938/938 [==============================] - 5s 5ms/step - loss: 0.3934 - accuracy: 0.8624 - val_loss: 0.4414 - val_accuracy: 0.8492\n",
      "Epoch 6/10\n",
      "938/938 [==============================] - 4s 4ms/step - loss: 0.3944 - accuracy: 0.8668 - val_loss: 0.4091 - val_accuracy: 0.8659\n",
      "Epoch 7/10\n",
      "938/938 [==============================] - 4s 4ms/step - loss: 0.3883 - accuracy: 0.8697 - val_loss: 0.3985 - val_accuracy: 0.8672\n",
      "Epoch 8/10\n",
      "938/938 [==============================] - 5s 5ms/step - loss: 0.3916 - accuracy: 0.8695 - val_loss: 0.4037 - val_accuracy: 0.8713\n",
      "Epoch 9/10\n",
      "938/938 [==============================] - 4s 4ms/step - loss: 0.3897 - accuracy: 0.8709 - val_loss: 0.4275 - val_accuracy: 0.8701\n",
      "Epoch 10/10\n",
      "938/938 [==============================] - 4s 4ms/step - loss: 0.3868 - accuracy: 0.8730 - val_loss: 0.4243 - val_accuracy: 0.8683\n",
      "Epoch 1/10\n",
      "938/938 [==============================] - 7s 6ms/step - loss: 0.5808 - accuracy: 0.7905 - val_loss: 0.4168 - val_accuracy: 0.8480\n",
      "Epoch 2/10\n",
      "938/938 [==============================] - 4s 4ms/step - loss: 0.4293 - accuracy: 0.8462 - val_loss: 0.3908 - val_accuracy: 0.8571\n",
      "Epoch 3/10\n",
      "938/938 [==============================] - 4s 4ms/step - loss: 0.3896 - accuracy: 0.8589 - val_loss: 0.3876 - val_accuracy: 0.8627\n",
      "Epoch 4/10\n",
      "938/938 [==============================] - 5s 5ms/step - loss: 0.3689 - accuracy: 0.8665 - val_loss: 0.3644 - val_accuracy: 0.8707\n",
      "Epoch 5/10\n",
      "938/938 [==============================] - 4s 4ms/step - loss: 0.3553 - accuracy: 0.8704 - val_loss: 0.3545 - val_accuracy: 0.8722\n",
      "Epoch 6/10\n",
      "938/938 [==============================] - 4s 4ms/step - loss: 0.3416 - accuracy: 0.8763 - val_loss: 0.3548 - val_accuracy: 0.8721\n",
      "Epoch 7/10\n",
      "938/938 [==============================] - 5s 6ms/step - loss: 0.3321 - accuracy: 0.8777 - val_loss: 0.3435 - val_accuracy: 0.8738\n",
      "Epoch 8/10\n",
      "938/938 [==============================] - 5s 5ms/step - loss: 0.3234 - accuracy: 0.8805 - val_loss: 0.3416 - val_accuracy: 0.8804\n",
      "Epoch 9/10\n",
      "938/938 [==============================] - 4s 5ms/step - loss: 0.3131 - accuracy: 0.8840 - val_loss: 0.3398 - val_accuracy: 0.8788\n",
      "Epoch 10/10\n",
      "938/938 [==============================] - 5s 5ms/step - loss: 0.3112 - accuracy: 0.8852 - val_loss: 0.3407 - val_accuracy: 0.8758\n"
     ]
    }
   ],
   "source": [
    "# Train the model\n",
    "optimizers = ['SGD','Adagrad','Adadelta','RMSprop','Adam']\n",
    "\n",
    "for i in optimizers:\n",
    "  model = build_model(i)\n",
    "  history = model.fit(x_train, y_train, batch_size=64, epochs=10, verbose=1, validation_data=(x_test, y_test))\n"
   ]
  },
  {
   "cell_type": "code",
   "execution_count": null,
   "metadata": {
    "id": "MvsecRLN4cBe"
   },
   "outputs": [],
   "source": [
    "# SGD\n",
    "# loss: 0.4481 - accuracy: 0.8418 - val_loss: 0.4220 - val_accuracy: 0.8474\n",
    "\n",
    "# Adagrad\n",
    "# loss: 0.6406 - accuracy: 0.7803 - val_loss: 0.5552 - val_accuracy: 0.8049\n",
    "\n",
    "# Adadelta\n",
    "# loss: 1.4238 - accuracy: 0.5422 - val_loss: 1.2245 - val_accuracy: 0.6604\n",
    "\n",
    "# RMSprop\n",
    "#loss: 0.3868 - accuracy: 0.8730 - val_loss: 0.4243 - val_accuracy: 0.8683\n",
    "\n",
    "# Adam\n",
    "# loss: 0.3112 - accuracy: 0.8852 - val_loss: 0.3407 - val_accuracy: 0.8758"
   ]
  },
  {
   "cell_type": "code",
   "execution_count": null,
   "metadata": {
    "id": "0D3lJCu64cEt"
   },
   "outputs": [],
   "source": []
  },
  {
   "cell_type": "code",
   "execution_count": null,
   "metadata": {
    "id": "AQTstp434cIY"
   },
   "outputs": [],
   "source": []
  }
 ],
 "metadata": {
  "accelerator": "GPU",
  "colab": {
   "gpuType": "T4",
   "provenance": []
  },
  "kernelspec": {
   "display_name": "Python 3 (ipykernel)",
   "language": "python",
   "name": "python3"
  },
  "language_info": {
   "codemirror_mode": {
    "name": "ipython",
    "version": 3
   },
   "file_extension": ".py",
   "mimetype": "text/x-python",
   "name": "python",
   "nbconvert_exporter": "python",
   "pygments_lexer": "ipython3",
   "version": "3.11.4"
  }
 },
 "nbformat": 4,
 "nbformat_minor": 1
}
